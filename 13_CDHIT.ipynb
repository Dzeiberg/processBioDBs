{
 "cells": [
  {
   "cell_type": "code",
   "execution_count": null,
   "id": "7a8314b5",
   "metadata": {},
   "outputs": [],
   "source": [
    "import pandas as pd"
   ]
  },
  {
   "cell_type": "code",
   "execution_count": null,
   "id": "6b13bc11",
   "metadata": {},
   "outputs": [],
   "source": [
    "df = pd.read_pickle(\"/data/projects/processBio/df.pd.pkl\")"
   ]
  },
  {
   "cell_type": "code",
   "execution_count": null,
   "id": "d419e94a",
   "metadata": {},
   "outputs": [],
   "source": [
    "df = df[~df.label.isna()]"
   ]
  },
  {
   "cell_type": "code",
   "execution_count": null,
   "id": "d9fb3a37",
   "metadata": {},
   "outputs": [],
   "source": [
    "df"
   ]
  },
  {
   "cell_type": "code",
   "execution_count": null,
   "id": "40b93144",
   "metadata": {},
   "outputs": [],
   "source": [
    "symbols = df.GeneSymbol.unique()"
   ]
  },
  {
   "cell_type": "code",
   "execution_count": null,
   "id": "e95468ee",
   "metadata": {},
   "outputs": [],
   "source": [
    "len(symbols)"
   ]
  },
  {
   "cell_type": "code",
   "execution_count": null,
   "id": "712af538",
   "metadata": {},
   "outputs": [],
   "source": [
    "from processBioDBs.utilities import getSequence\n",
    "from tqdm.notebook import tqdm"
   ]
  },
  {
   "cell_type": "code",
   "execution_count": null,
   "id": "138afd1b",
   "metadata": {},
   "outputs": [],
   "source": [
    "import ensembl_rest"
   ]
  },
  {
   "cell_type": "code",
   "execution_count": null,
   "id": "edcb229f",
   "metadata": {},
   "outputs": [],
   "source": [
    "seqs = pickle.load(open(\"/data/projects/processBio/clinvar/clinvar/referenceSeqs.pkl\",\"rb\"))"
   ]
  },
  {
   "cell_type": "code",
   "execution_count": null,
   "id": "6e599d95",
   "metadata": {},
   "outputs": [],
   "source": [
    "idMap = {}\n",
    "with open('/data/projects/processBio/df.fasta',\"w\") as f:\n",
    "    for i, (k,v) in enumerate(seqs.items()):\n",
    "        f.write(\">{}|{} {}\\n{}\\n\".format(i,k,k,v))\n",
    "        idMap[i] = k"
   ]
  },
  {
   "cell_type": "code",
   "execution_count": null,
   "id": "e6b02aec",
   "metadata": {},
   "outputs": [],
   "source": [
    "pickle.dump(idMap,open(\"/data/projects/processBio/idxToSymbolMap.pkl\",'wb'))"
   ]
  },
  {
   "cell_type": "code",
   "execution_count": null,
   "id": "c89a2e65",
   "metadata": {},
   "outputs": [],
   "source": [
    "!head /data/projects/processBio/df.fasta"
   ]
  },
  {
   "cell_type": "code",
   "execution_count": null,
   "id": "e44ed282",
   "metadata": {},
   "outputs": [],
   "source": [
    "!cat /data/projects/processBio/dfCDHITRESULTS04.clstr | grep Cluster | wc -l"
   ]
  },
  {
   "cell_type": "code",
   "execution_count": null,
   "id": "6fd196c3",
   "metadata": {},
   "outputs": [],
   "source": [
    "len(seqs)"
   ]
  },
  {
   "cell_type": "code",
   "execution_count": null,
   "id": "99dd39c5",
   "metadata": {},
   "outputs": [],
   "source": []
  }
 ],
 "metadata": {
  "language_info": {
   "name": "python",
   "pygments_lexer": "ipython3"
  }
 },
 "nbformat": 4,
 "nbformat_minor": 5
}
