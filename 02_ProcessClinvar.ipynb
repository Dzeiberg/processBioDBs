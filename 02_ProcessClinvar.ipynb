{
 "cells": [
  {
   "cell_type": "code",
   "execution_count": null,
   "id": "7c9d8234",
   "metadata": {},
   "outputs": [],
   "source": [
    "import pandas as pd"
   ]
  },
  {
   "cell_type": "code",
   "execution_count": null,
   "id": "e111b713",
   "metadata": {},
   "outputs": [],
   "source": [
    "summary = pd.read_csv(\"data/clinvar/variant_summary.txt\",delimiter=\"\\t\")"
   ]
  },
  {
   "cell_type": "code",
   "execution_count": null,
   "id": "7a55e8de",
   "metadata": {},
   "outputs": [],
   "source": [
    "goodStatus = [\"criteria provided, single submitter\",\n",
    "              \"criteria provided, multiple submitters, no conflicts\",\n",
    "              \"reviewed by expert panel\",\n",
    "              \"practice guideline\",\n",
    "              ]"
   ]
  },
  {
   "cell_type": "code",
   "execution_count": null,
   "id": "d78d816e",
   "metadata": {},
   "outputs": [],
   "source": [
    "missense = summary[(summary.ReviewStatus.isin(goodStatus)) & (summary.Type == \"single nucleotide variant\")]"
   ]
  },
  {
   "cell_type": "code",
   "execution_count": null,
   "id": "93781d76",
   "metadata": {},
   "outputs": [],
   "source": [
    "missense"
   ]
  },
  {
   "cell_type": "code",
   "execution_count": null,
   "id": "350b4d53",
   "metadata": {},
   "outputs": [],
   "source": [
    "from processBioDBs.utilities import getSequence"
   ]
  },
  {
   "cell_type": "code",
   "execution_count": null,
   "id": "be394778",
   "metadata": {},
   "outputs": [],
   "source": [
    "from easydict import EasyDict"
   ]
  },
  {
   "cell_type": "code",
   "execution_count": null,
   "id": "a2a15b46",
   "metadata": {},
   "outputs": [],
   "source": [
    "from tqdm.notebook import tqdm"
   ]
  },
  {
   "cell_type": "code",
   "execution_count": null,
   "id": "564a42aa",
   "metadata": {},
   "outputs": [],
   "source": [
    "sequences = EasyDict()"
   ]
  },
  {
   "cell_type": "code",
   "execution_count": null,
   "id": "6ae4ff6d",
   "metadata": {},
   "outputs": [],
   "source": [
    "for symbol in tqdm(missense.GeneSymbol.unique()):\n",
    "    if symbol not in sequences:\n",
    "        try:\n",
    "            sequences[symbol] = getSequence(symbol)\n",
    "        except:\n",
    "            continue"
   ]
  },
  {
   "cell_type": "code",
   "execution_count": null,
   "id": "a2c1b693",
   "metadata": {},
   "outputs": [],
   "source": []
  }
 ],
 "metadata": {
  "language_info": {
   "name": "python",
   "pygments_lexer": "ipython3"
  }
 },
 "nbformat": 4,
 "nbformat_minor": 5
}
