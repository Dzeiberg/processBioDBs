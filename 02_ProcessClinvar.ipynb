{
 "cells": [
  {
   "cell_type": "code",
   "execution_count": null,
   "id": "7c9d8234",
   "metadata": {},
   "outputs": [],
   "source": [
    "import pandas as pd"
   ]
  },
  {
   "cell_type": "code",
   "execution_count": null,
   "id": "e111b713",
   "metadata": {},
   "outputs": [],
   "source": [
    "summary = pd.read_csv(\"data/clinvar/variant_summary.txt\",delimiter=\"\\t\")"
   ]
  },
  {
   "cell_type": "code",
   "execution_count": null,
   "id": "7a55e8de",
   "metadata": {},
   "outputs": [],
   "source": [
    "goodStatus = [\"criteria provided, single submitter\",\n",
    "              \"criteria provided, multiple submitters, no conflicts\",\n",
    "              \"reviewed by expert panel\",\n",
    "              \"practice guideline\",\n",
    "              ]"
   ]
  },
  {
   "cell_type": "markdown",
   "id": "d7c02020",
   "metadata": {},
   "source": [
    "get all variants which have the review status we are interested in, are SNVs, and the name field is in the form I'm expecting."
   ]
  },
  {
   "cell_type": "code",
   "execution_count": null,
   "id": "9b91b065",
   "metadata": {},
   "outputs": [],
   "source": [
    "summary"
   ]
  },
  {
   "cell_type": "code",
   "execution_count": null,
   "id": "d78d816e",
   "metadata": {},
   "outputs": [],
   "source": [
    "missense = summary[(summary.ReviewStatus.isin(goodStatus)) & \\\n",
    "                   (summary.Type == \"single nucleotide variant\") & \\\n",
    "                   (summary.Name.str.contains(\"\\(p.\")) & \\\n",
    "                   (~summary.Name.str.contains(\"=\")) & \\\n",
    "                   (summary.Assembly.str.contains(\"38\"))]"
   ]
  },
  {
   "cell_type": "code",
   "execution_count": null,
   "id": "93781d76",
   "metadata": {},
   "outputs": [],
   "source": [
    "missense"
   ]
  },
  {
   "cell_type": "markdown",
   "id": "fad8b6c5",
   "metadata": {},
   "source": [
    "for each SNV, get the canonical sequence"
   ]
  },
  {
   "cell_type": "code",
   "execution_count": null,
   "id": "bdadd28c",
   "metadata": {},
   "outputs": [],
   "source": [
    "from processBioDBs.utilities import getSequence"
   ]
  },
  {
   "cell_type": "code",
   "execution_count": null,
   "id": "da824154",
   "metadata": {},
   "outputs": [],
   "source": [
    "from easydict import EasyDict"
   ]
  },
  {
   "cell_type": "code",
   "execution_count": null,
   "id": "9b644ae8",
   "metadata": {},
   "outputs": [],
   "source": [
    "from tqdm.notebook import tqdm"
   ]
  },
  {
   "cell_type": "code",
   "execution_count": null,
   "id": "426212d5",
   "metadata": {},
   "outputs": [],
   "source": [
    "sequences = EasyDict()"
   ]
  },
  {
   "cell_type": "code",
   "execution_count": null,
   "id": "fc855150",
   "metadata": {},
   "outputs": [],
   "source": [
    "for symbol in tqdm(missense.GeneSymbol.unique()):\n",
    "    if symbol not in sequences:\n",
    "        try:\n",
    "            sequences[symbol] = getSequence(symbol)\n",
    "        except:\n",
    "            continue"
   ]
  },
  {
   "cell_type": "markdown",
   "id": "19ed98ff",
   "metadata": {},
   "source": [
    "Dump to pickle file"
   ]
  },
  {
   "cell_type": "code",
   "execution_count": null,
   "id": "ba04d120",
   "metadata": {},
   "outputs": [],
   "source": [
    "import pickle"
   ]
  },
  {
   "cell_type": "code",
   "execution_count": null,
   "id": "2d99adf8",
   "metadata": {},
   "outputs": [],
   "source": [
    "with open(\"data/clinvar/seqs.pkl\",\"wb\") as f:\n",
    "    pickle.dump(sequences,f)"
   ]
  },
  {
   "cell_type": "markdown",
   "id": "0a58be38",
   "metadata": {},
   "source": [
    "reload pickle (if didn't just process)"
   ]
  },
  {
   "cell_type": "code",
   "execution_count": null,
   "id": "7315f993",
   "metadata": {},
   "outputs": [],
   "source": [
    "sequences = pickle.load(open(\"data/clinvar/seqs.pkl\",\"rb\"))"
   ]
  },
  {
   "cell_type": "markdown",
   "id": "1be20a4b",
   "metadata": {},
   "source": [
    "1 letter to 3 letter AA conversion table"
   ]
  },
  {
   "cell_type": "code",
   "execution_count": null,
   "id": "b1fdb763",
   "metadata": {},
   "outputs": [],
   "source": [
    "aatable = {\"Ala\":\"A\",\n",
    "               \"Arg\": \"R\",\n",
    "               \"Asn\": \"N\",\n",
    "               \"Asp\": \"D\",\n",
    "               \"Cys\": \"C\",\n",
    "               \"Gln\": \"Q\",\n",
    "               \"Glu\": \"E\",\n",
    "               \"Gly\": \"G\",\n",
    "               \"His\": \"H\",\n",
    "               \"Ile\": \"I\",\n",
    "               \"Leu\": \"L\",\n",
    "               \"Lys\": \"K\",\n",
    "               \"Met\": \"M\",\n",
    "               \"Phe\": \"F\",\n",
    "               \"Pro\": \"P\",\n",
    "               \"Ser\": \"S\",\n",
    "               \"Thr\": \"T\",\n",
    "               \"Trp\": \"W\",\n",
    "               \"Tyr\": \"Y\",\n",
    "               \"Val\": \"V\"}"
   ]
  },
  {
   "cell_type": "markdown",
   "id": "2e659cb2",
   "metadata": {},
   "source": [
    "Get the variant from the name (expecting the form: \\<original amino acid\\>\\<location\\>\\<new amino acid\\>)"
   ]
  },
  {
   "cell_type": "code",
   "execution_count": null,
   "id": "32c7a809",
   "metadata": {},
   "outputs": [],
   "source": [
    "missense = missense.assign(variant=missense.Name.apply(lambda s: s[s.find(\"(p.\") + 3:-1]))\n",
    "\n",
    "missense = missense.assign(og=missense.variant.str.slice(0,3))\n",
    "missense = missense.assign(loc=missense.variant.str.slice(3,-3))\n",
    "missense = missense.assign(newAA=missense.variant.str.slice(-3,))"
   ]
  },
  {
   "cell_type": "code",
   "execution_count": null,
   "id": "8d574e7f",
   "metadata": {},
   "outputs": [],
   "source": [
    "missense"
   ]
  },
  {
   "cell_type": "markdown",
   "id": "c7afa56d",
   "metadata": {},
   "source": [
    "drop rows where the original or new amino acid aren't valid"
   ]
  },
  {
   "cell_type": "code",
   "execution_count": null,
   "id": "aaa771b8",
   "metadata": {},
   "outputs": [],
   "source": [
    "badRows = set()"
   ]
  },
  {
   "cell_type": "code",
   "execution_count": null,
   "id": "efcb6ea5",
   "metadata": {},
   "outputs": [],
   "source": [
    "for i,k in enumerate(missense.og):\n",
    "    if k not in aatable:\n",
    "         badRows.update([i])"
   ]
  },
  {
   "cell_type": "code",
   "execution_count": null,
   "id": "702b058b",
   "metadata": {},
   "outputs": [],
   "source": [
    "for i,k in enumerate(missense.newAA):\n",
    "    if k not in aatable:\n",
    "        badRows.update([i])"
   ]
  },
  {
   "cell_type": "code",
   "execution_count": null,
   "id": "fb832d42",
   "metadata": {},
   "outputs": [],
   "source": [
    "missense = missense.drop(index=missense.index[list(badRows)])"
   ]
  },
  {
   "cell_type": "markdown",
   "id": "fb246e7c",
   "metadata": {},
   "source": [
    "make sure there are no duplicates"
   ]
  },
  {
   "cell_type": "code",
   "execution_count": null,
   "id": "0ebb4a3c",
   "metadata": {},
   "outputs": [],
   "source": [
    "missense = missense.drop_duplicates(subset=[\"Name\"])"
   ]
  },
  {
   "cell_type": "code",
   "execution_count": null,
   "id": "6cb38819",
   "metadata": {},
   "outputs": [],
   "source": [
    "missense"
   ]
  },
  {
   "cell_type": "markdown",
   "id": "0efdc850",
   "metadata": {},
   "source": [
    "Find the rows where the canonical sequence I found match with the original amino acid given in the summary table"
   ]
  },
  {
   "cell_type": "code",
   "execution_count": null,
   "id": "2d52a27d",
   "metadata": {},
   "outputs": [],
   "source": [
    "from tqdm.notebook import tqdm"
   ]
  },
  {
   "cell_type": "code",
   "execution_count": null,
   "id": "a76acd4d",
   "metadata": {},
   "outputs": [],
   "source": [
    "import numpy as np"
   ]
  },
  {
   "cell_type": "code",
   "execution_count": null,
   "id": "433de5c0",
   "metadata": {},
   "outputs": [],
   "source": [
    "matches = np.zeros(missense.shape[0])\n",
    "for i,(index,r) in tqdm(enumerate(missense.iterrows())):\n",
    "    if r.GeneSymbol in sequences:\n",
    "        s = sequences[r.GeneSymbol]\n",
    "        loc = int(r[\"loc\"]) - 1\n",
    "        if loc >= len(s):\n",
    "            continue\n",
    "        if s[loc] == aatable[r.og]:\n",
    "            matches[i] = 1\n",
    "        "
   ]
  },
  {
   "cell_type": "code",
   "execution_count": null,
   "id": "5c3a1314",
   "metadata": {},
   "outputs": [],
   "source": [
    "missense = missense.assign(match=matches)"
   ]
  },
  {
   "cell_type": "code",
   "execution_count": null,
   "id": "d248ce5b",
   "metadata": {},
   "outputs": [],
   "source": [
    "missense"
   ]
  },
  {
   "cell_type": "code",
   "execution_count": null,
   "id": "bde10234",
   "metadata": {},
   "outputs": [],
   "source": [
    "df = missense[missense.match == 1]"
   ]
  },
  {
   "cell_type": "code",
   "execution_count": null,
   "id": "de8d3e81",
   "metadata": {},
   "outputs": [],
   "source": [
    "df"
   ]
  },
  {
   "cell_type": "code",
   "execution_count": null,
   "id": "2d5d0c03",
   "metadata": {},
   "outputs": [],
   "source": [
    "df = df.loc[(df['ClinicalSignificance'] == 'Uncertain significance')|\n",
    "            (df['ClinicalSignificance'] == 'Likely benign')|\n",
    "            (df['ClinicalSignificance'] == 'Benign')|\n",
    "            (df['ClinicalSignificance'] == 'Pathogenic')|\n",
    "            (df['ClinicalSignificance'] == 'Likely pathogenic')|\n",
    "            (df['ClinicalSignificance'] == 'Benign/Likely benign')|\n",
    "            (df['ClinicalSignificance'] == 'Pathogenic/Likely pathogenic')]"
   ]
  },
  {
   "cell_type": "code",
   "execution_count": null,
   "id": "db8afeeb",
   "metadata": {},
   "outputs": [],
   "source": [
    "df"
   ]
  },
  {
   "cell_type": "code",
   "execution_count": null,
   "id": "8f2f6356",
   "metadata": {},
   "outputs": [],
   "source": [
    "df = df.assign(label=(df.ClinicalSignificance.str.contains(\"pathogenic\")) | \\\n",
    "               (df.ClinicalSignificance.str.contains(\"Pathogenic\")))"
   ]
  },
  {
   "cell_type": "code",
   "execution_count": null,
   "id": "ea709894",
   "metadata": {},
   "outputs": [],
   "source": [
    "df"
   ]
  },
  {
   "cell_type": "code",
   "execution_count": null,
   "id": "c0309e94",
   "metadata": {},
   "outputs": [],
   "source": []
  }
 ],
 "metadata": {
  "language_info": {
   "name": "python",
   "pygments_lexer": "ipython3"
  }
 },
 "nbformat": 4,
 "nbformat_minor": 5
}
