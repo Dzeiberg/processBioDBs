{
 "cells": [
  {
   "cell_type": "code",
   "execution_count": null,
   "id": "7c9d8234",
   "metadata": {},
   "outputs": [],
   "source": [
    "import pandas as pd"
   ]
  },
  {
   "cell_type": "code",
   "execution_count": null,
   "id": "e111b713",
   "metadata": {},
   "outputs": [],
   "source": [
    "summary = pd.read_csv(\"data/clinvar/variant_summary.txt\",delimiter=\"\\t\")"
   ]
  },
  {
   "cell_type": "code",
   "execution_count": null,
   "id": "7a55e8de",
   "metadata": {},
   "outputs": [],
   "source": [
    "goodStatus = [\"criteria provided, single submitter\",\n",
    "              \"criteria provided, multiple submitters, no conflicts\",\n",
    "              \"reviewed by expert panel\",\n",
    "              \"practice guideline\",\n",
    "              ]"
   ]
  },
  {
   "cell_type": "markdown",
   "id": "5d368fca",
   "metadata": {},
   "source": [
    "get all variants which have the review status we are interested in, are SNVs, and the name field is in the form I'm expecting."
   ]
  },
  {
   "cell_type": "code",
   "execution_count": null,
   "id": "d78d816e",
   "metadata": {},
   "outputs": [],
   "source": [
    "missense = summary[(summary.ReviewStatus.isin(goodStatus)) & \\\n",
    "                   (summary.Type == \"single nucleotide variant\") & \\\n",
    "                   (summary.Name.str.contains(\"\\(p.\")) & \\\n",
    "                   (~summary.Name.str.contains(\"=\")) & \\\n",
    "                   (summary.Assembly.str.contains(\"38\"))]"
   ]
  },
  {
   "cell_type": "code",
   "execution_count": null,
   "id": "93781d76",
   "metadata": {},
   "outputs": [],
   "source": [
    "missense"
   ]
  },
  {
   "cell_type": "markdown",
   "id": "fef2bf26",
   "metadata": {},
   "source": [
    "for each SNV, get the canonical sequence"
   ]
  },
  {
   "cell_type": "code",
   "execution_count": null,
   "id": "bdadd28c",
   "metadata": {},
   "outputs": [],
   "source": [
    "from processBioDBs.utilities import getSequence"
   ]
  },
  {
   "cell_type": "code",
   "execution_count": null,
   "id": "da824154",
   "metadata": {},
   "outputs": [],
   "source": [
    "from easydict import EasyDict"
   ]
  },
  {
   "cell_type": "code",
   "execution_count": null,
   "id": "9b644ae8",
   "metadata": {},
   "outputs": [],
   "source": [
    "from tqdm.notebook import tqdm"
   ]
  },
  {
   "cell_type": "code",
   "execution_count": null,
   "id": "426212d5",
   "metadata": {},
   "outputs": [],
   "source": [
    "sequences = EasyDict()"
   ]
  },
  {
   "cell_type": "code",
   "execution_count": null,
   "id": "fc855150",
   "metadata": {},
   "outputs": [],
   "source": [
    "for symbol in tqdm(missense.GeneSymbol.unique()):\n",
    "    if symbol not in sequences:\n",
    "        try:\n",
    "            sequences[symbol] = getSequence(symbol)\n",
    "        except:\n",
    "            continue"
   ]
  },
  {
   "cell_type": "markdown",
   "id": "550e333f",
   "metadata": {},
   "source": [
    "Dump to pickle file"
   ]
  },
  {
   "cell_type": "code",
   "execution_count": null,
   "id": "ba04d120",
   "metadata": {},
   "outputs": [],
   "source": [
    "import pickle"
   ]
  },
  {
   "cell_type": "code",
   "execution_count": null,
   "id": "2d99adf8",
   "metadata": {},
   "outputs": [],
   "source": [
    "with open(\"data/clinvar/seqs.pkl\",\"wb\") as f:\n",
    "    pickle.dump(sequences,f)"
   ]
  },
  {
   "cell_type": "markdown",
   "id": "0629fbbd",
   "metadata": {},
   "source": [
    "reload pickle (if didn't just process)"
   ]
  },
  {
   "cell_type": "code",
   "execution_count": null,
   "id": "7315f993",
   "metadata": {},
   "outputs": [],
   "source": [
    "sequences = pickle.load(open(\"data/clinvar/seqs.pkl\",\"rb\"))"
   ]
  },
  {
   "cell_type": "markdown",
   "id": "d0ae7eb3",
   "metadata": {},
   "source": [
    "1 letter to 3 letter AA conversion table"
   ]
  },
  {
   "cell_type": "code",
   "execution_count": null,
   "id": "58cb0fd9",
   "metadata": {},
   "outputs": [],
   "source": [
    "aatable = {\"Ala\":\"A\",\n",
    "               \"Arg\": \"R\",\n",
    "               \"Asn\": \"N\",\n",
    "               \"Asp\": \"D\",\n",
    "               \"Cys\": \"C\",\n",
    "               \"Gln\": \"Q\",\n",
    "               \"Glu\": \"E\",\n",
    "               \"Gly\": \"G\",\n",
    "               \"His\": \"H\",\n",
    "               \"Ile\": \"I\",\n",
    "               \"Leu\": \"L\",\n",
    "               \"Lys\": \"K\",\n",
    "               \"Met\": \"M\",\n",
    "               \"Phe\": \"F\",\n",
    "               \"Pro\": \"P\",\n",
    "               \"Ser\": \"S\",\n",
    "               \"Thr\": \"T\",\n",
    "               \"Trp\": \"W\",\n",
    "               \"Tyr\": \"Y\",\n",
    "               \"Val\": \"V\"}"
   ]
  },
  {
   "cell_type": "markdown",
   "id": "3dd04833",
   "metadata": {},
   "source": [
    "Get the variant from the name (expecting the form: \\<original amino acid\\>\\<location\\>\\<new amino acid\\>)"
   ]
  },
  {
   "cell_type": "code",
   "execution_count": null,
   "id": "cf0eeb97",
   "metadata": {},
   "outputs": [],
   "source": [
    "missense = missense.assign(variant=missense.Name.apply(lambda s: s[s.find(\"(p.\") + 3:-1]))\n",
    "\n",
    "missense = missense.assign(og=missense.variant.str.slice(0,3))\n",
    "missense = missense.assign(loc=missense.variant.str.slice(3,-3))\n",
    "missense = missense.assign(newAA=missense.variant.str.slice(-3,))"
   ]
  },
  {
   "cell_type": "code",
   "execution_count": null,
   "id": "b755cd9e",
   "metadata": {},
   "outputs": [],
   "source": [
    "missense"
   ]
  },
  {
   "cell_type": "markdown",
   "id": "190eb43a",
   "metadata": {},
   "source": [
    "drop rows where the original or new amino acid aren't valid"
   ]
  },
  {
   "cell_type": "code",
   "execution_count": null,
   "id": "bca2192d",
   "metadata": {},
   "outputs": [],
   "source": [
    "badRows = set()"
   ]
  },
  {
   "cell_type": "code",
   "execution_count": null,
   "id": "e4382cd8",
   "metadata": {},
   "outputs": [],
   "source": [
    "for i,k in enumerate(missense.og):\n",
    "    if k not in aatable:\n",
    "         badRows.update([i])"
   ]
  },
  {
   "cell_type": "code",
   "execution_count": null,
   "id": "93c7fa88",
   "metadata": {},
   "outputs": [],
   "source": [
    "for i,k in enumerate(missense.newAA):\n",
    "    if k not in aatable:\n",
    "        badRows.update([i])"
   ]
  },
  {
   "cell_type": "code",
   "execution_count": null,
   "id": "727fd2dc",
   "metadata": {},
   "outputs": [],
   "source": [
    "missense = missense.drop(index=missense.index[list(badRows)])"
   ]
  },
  {
   "cell_type": "markdown",
   "id": "39f6cf66",
   "metadata": {},
   "source": [
    "make sure there are no duplicates"
   ]
  },
  {
   "cell_type": "code",
   "execution_count": null,
   "id": "bc071b2b",
   "metadata": {},
   "outputs": [],
   "source": [
    "missense = missense.drop_duplicates(subset=[\"Name\"])"
   ]
  },
  {
   "cell_type": "code",
   "execution_count": null,
   "id": "65c855a9",
   "metadata": {},
   "outputs": [],
   "source": [
    "missense"
   ]
  },
  {
   "cell_type": "markdown",
   "id": "1a5c42d9",
   "metadata": {},
   "source": [
    "Find the rows where the canonical sequence I found match with the original amino acid given in the summary table"
   ]
  },
  {
   "cell_type": "code",
   "execution_count": null,
   "id": "e90102e2",
   "metadata": {},
   "outputs": [],
   "source": [
    "from tqdm.notebook import tqdm"
   ]
  },
  {
   "cell_type": "code",
   "execution_count": null,
   "id": "d50b1eff",
   "metadata": {},
   "outputs": [],
   "source": [
    "import numpy as np"
   ]
  },
  {
   "cell_type": "code",
   "execution_count": null,
   "id": "3e47f132",
   "metadata": {},
   "outputs": [],
   "source": [
    "matches = np.zeros(missense.shape[0])\n",
    "for i,(index,r) in tqdm(enumerate(missense.iterrows())):\n",
    "    if r.GeneSymbol in sequences:\n",
    "        s = sequences[r.GeneSymbol]\n",
    "        loc = int(r[\"loc\"]) - 1\n",
    "        if loc >= len(s):\n",
    "            continue\n",
    "        if s[loc] == aatable[r.og]:\n",
    "            matches[i] = 1\n",
    "        "
   ]
  },
  {
   "cell_type": "code",
   "execution_count": null,
   "id": "38e2bab8",
   "metadata": {},
   "outputs": [],
   "source": [
    "missense = missense.assign(match=matches)"
   ]
  },
  {
   "cell_type": "code",
   "execution_count": null,
   "id": "57cf2ee4",
   "metadata": {},
   "outputs": [],
   "source": [
    "missense"
   ]
  },
  {
   "cell_type": "code",
   "execution_count": null,
   "id": "e381bc1a",
   "metadata": {},
   "outputs": [],
   "source": [
    "missense.match.sum()"
   ]
  },
  {
   "cell_type": "code",
   "execution_count": null,
   "id": "9e70dea5",
   "metadata": {},
   "outputs": [],
   "source": []
  }
 ],
 "metadata": {
  "language_info": {
   "name": "python",
   "pygments_lexer": "ipython3"
  }
 },
 "nbformat": 4,
 "nbformat_minor": 5
}
