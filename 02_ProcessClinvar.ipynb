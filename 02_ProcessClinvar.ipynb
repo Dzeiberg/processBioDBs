{
 "cells": [
  {
   "cell_type": "code",
   "execution_count": null,
   "id": "19bf26ad",
   "metadata": {},
   "outputs": [],
   "source": [
    "import pandas as pd"
   ]
  },
  {
   "cell_type": "code",
   "execution_count": null,
   "id": "9ca09efd",
   "metadata": {},
   "outputs": [],
   "source": [
    "from ensembl_rest import sequence_id, lookup\n",
    "from Bio import Entrez\n",
    "\n",
    "Entrez.email = \"zeiberg.d@northeastern.edu\""
   ]
  },
  {
   "cell_type": "code",
   "execution_count": null,
   "id": "ef10b4db",
   "metadata": {},
   "outputs": [],
   "source": [
    "summary = pd.read_csv(\"/data/projects/processBio/clinvar/clinvar/variant_summary.txt\",delimiter=\"\\t\")"
   ]
  },
  {
   "cell_type": "code",
   "execution_count": null,
   "id": "1d5166ff",
   "metadata": {},
   "outputs": [],
   "source": [
    "summary"
   ]
  },
  {
   "cell_type": "code",
   "execution_count": null,
   "id": "6186cc28",
   "metadata": {},
   "outputs": [],
   "source": [
    "summary.GeneID.unique().shape"
   ]
  },
  {
   "cell_type": "code",
   "execution_count": null,
   "id": "9f0f833d",
   "metadata": {},
   "outputs": [],
   "source": [
    "summary = summary[(summary.Type == \"single nucleotide variant\") & (summary.ReviewStatus.isin([\"criteria provided, single submitter\",\n",
    "              \"criteria provided, multiple submitters, no conflicts\",\n",
    "              \"reviewed by expert panel\",\n",
    "              \"practice guideline\",\n",
    "              ])) & (summary.Assembly == \"GRCh38\")]"
   ]
  },
  {
   "cell_type": "code",
   "execution_count": null,
   "id": "24117352",
   "metadata": {},
   "outputs": [],
   "source": [
    "handle = Entrez.efetch(\"protein\", id=\"NP_060017\", rettype=\"fasta\", retmode=\"text\")\n",
    "lines = handle.read()\n",
    "# res = json.loads(lines)\n",
    "lines"
   ]
  },
  {
   "cell_type": "code",
   "execution_count": null,
   "id": "4b0999a8",
   "metadata": {},
   "outputs": [],
   "source": [
    "summary.GeneID.unique().shape"
   ]
  },
  {
   "cell_type": "code",
   "execution_count": null,
   "id": "9cc8546d",
   "metadata": {},
   "outputs": [],
   "source": [
    "summary.loc[7]"
   ]
  },
  {
   "cell_type": "code",
   "execution_count": null,
   "id": "3d3d29a4",
   "metadata": {},
   "outputs": [],
   "source": [
    "summary"
   ]
  },
  {
   "cell_type": "code",
   "execution_count": null,
   "id": "7d50691e",
   "metadata": {},
   "outputs": [],
   "source": [
    "missense = summary[(summary.ReviewStatus.isin(goodStatus)) & \\\n",
    "                   (summary.Type == \"single nucleotide variant\") & \\\n",
    "                   (summary.Name.str.contains(\"\\(p.\")) & \\\n",
    "                   (~summary.Name.str.contains(\"=\")) & \\\n",
    "                   (summary.Assembly.str.contains(\"38\"))]"
   ]
  },
  {
   "cell_type": "code",
   "execution_count": null,
   "id": "d02dd5cd",
   "metadata": {},
   "outputs": [],
   "source": [
    "missense"
   ]
  },
  {
   "cell_type": "markdown",
   "id": "55d38d17",
   "metadata": {},
   "source": [
    "for each SNV, get the canonical sequence"
   ]
  },
  {
   "cell_type": "code",
   "execution_count": null,
   "id": "d9a134a6",
   "metadata": {},
   "outputs": [],
   "source": [
    "from processBioDBs.utilities import getSequence"
   ]
  },
  {
   "cell_type": "code",
   "execution_count": null,
   "id": "c932bc15",
   "metadata": {},
   "outputs": [],
   "source": [
    "from easydict import EasyDict"
   ]
  },
  {
   "cell_type": "code",
   "execution_count": null,
   "id": "6fe986fc",
   "metadata": {},
   "outputs": [],
   "source": [
    "from tqdm.notebook import tqdm"
   ]
  },
  {
   "cell_type": "code",
   "execution_count": null,
   "id": "41d12aff",
   "metadata": {},
   "outputs": [],
   "source": [
    "# sequences = EasyDict()\n",
    "\n",
    "# for symbol in tqdm(missense.GeneSymbol.unique()):\n",
    "#     if symbol not in sequences:\n",
    "#         try:\n",
    "#             sequences[symbol] = getSequence(symbol)\n",
    "#         except:\n",
    "#             continue"
   ]
  },
  {
   "cell_type": "markdown",
   "id": "7e17a0f8",
   "metadata": {},
   "source": [
    "Dump to pickle file"
   ]
  },
  {
   "cell_type": "code",
   "execution_count": null,
   "id": "173cef58",
   "metadata": {},
   "outputs": [],
   "source": [
    "import pickle"
   ]
  },
  {
   "cell_type": "code",
   "execution_count": null,
   "id": "543f2cb2",
   "metadata": {},
   "outputs": [],
   "source": [
    "# with open(\"data/clinvar/seqs.pkl\",\"wb\") as f:\n",
    "#     pickle.dump(sequences,f)"
   ]
  },
  {
   "cell_type": "markdown",
   "id": "2a6725c6",
   "metadata": {},
   "source": [
    "reload pickle (if didn't just process)"
   ]
  },
  {
   "cell_type": "code",
   "execution_count": null,
   "id": "f424ed49",
   "metadata": {},
   "outputs": [],
   "source": [
    "sequences = pickle.load(open(\"/data/projects/processBio/clinvar/clinvar/seqs.pkl\",\"rb\"))"
   ]
  },
  {
   "cell_type": "markdown",
   "id": "a9ee9e59",
   "metadata": {},
   "source": [
    "1 letter to 3 letter AA conversion table"
   ]
  },
  {
   "cell_type": "code",
   "execution_count": null,
   "id": "d667793d",
   "metadata": {},
   "outputs": [],
   "source": [
    "aatable = {\"Ala\":\"A\",\n",
    "               \"Arg\": \"R\",\n",
    "               \"Asn\": \"N\",\n",
    "               \"Asp\": \"D\",\n",
    "               \"Cys\": \"C\",\n",
    "               \"Gln\": \"Q\",\n",
    "               \"Glu\": \"E\",\n",
    "               \"Gly\": \"G\",\n",
    "               \"His\": \"H\",\n",
    "               \"Ile\": \"I\",\n",
    "               \"Leu\": \"L\",\n",
    "               \"Lys\": \"K\",\n",
    "               \"Met\": \"M\",\n",
    "               \"Phe\": \"F\",\n",
    "               \"Pro\": \"P\",\n",
    "               \"Ser\": \"S\",\n",
    "               \"Thr\": \"T\",\n",
    "               \"Trp\": \"W\",\n",
    "               \"Tyr\": \"Y\",\n",
    "               \"Val\": \"V\"}"
   ]
  },
  {
   "cell_type": "markdown",
   "id": "177b4882",
   "metadata": {},
   "source": [
    "Get the variant from the name (expecting the form: \\<original amino acid\\>\\<location\\>\\<new amino acid\\>)"
   ]
  },
  {
   "cell_type": "code",
   "execution_count": null,
   "id": "bea41c9b",
   "metadata": {},
   "outputs": [],
   "source": [
    "missense = missense.assign(variant=missense.Name.apply(lambda s: s[s.find(\"(p.\") + 3:-1]))\n",
    "\n",
    "missense = missense.assign(og=missense.variant.str.slice(0,3))\n",
    "missense = missense.assign(loc=missense.variant.str.slice(3,-3))\n",
    "missense = missense.assign(newAA=missense.variant.str.slice(-3,))"
   ]
  },
  {
   "cell_type": "code",
   "execution_count": null,
   "id": "1bd22fee",
   "metadata": {},
   "outputs": [],
   "source": [
    "missense"
   ]
  },
  {
   "cell_type": "markdown",
   "id": "2ff185a5",
   "metadata": {},
   "source": [
    "drop rows where the original or new amino acid aren't valid"
   ]
  },
  {
   "cell_type": "code",
   "execution_count": null,
   "id": "cd7d0db3",
   "metadata": {},
   "outputs": [],
   "source": [
    "badRows = set()"
   ]
  },
  {
   "cell_type": "code",
   "execution_count": null,
   "id": "6d8c61c6",
   "metadata": {},
   "outputs": [],
   "source": [
    "for i,k in enumerate(missense.og):\n",
    "    if k not in aatable:\n",
    "         badRows.update([i])"
   ]
  },
  {
   "cell_type": "code",
   "execution_count": null,
   "id": "45427ab2",
   "metadata": {},
   "outputs": [],
   "source": [
    "for i,k in enumerate(missense.newAA):\n",
    "    if k not in aatable:\n",
    "        badRows.update([i])"
   ]
  },
  {
   "cell_type": "code",
   "execution_count": null,
   "id": "5fbd8502",
   "metadata": {},
   "outputs": [],
   "source": [
    "missense = missense.drop(index=missense.index[list(badRows)])"
   ]
  },
  {
   "cell_type": "markdown",
   "id": "dae999df",
   "metadata": {},
   "source": [
    "make sure there are no duplicates"
   ]
  },
  {
   "cell_type": "code",
   "execution_count": null,
   "id": "fdbb2d0d",
   "metadata": {},
   "outputs": [],
   "source": [
    "missense = missense.drop_duplicates(subset=[\"Name\"])"
   ]
  },
  {
   "cell_type": "code",
   "execution_count": null,
   "id": "b3fa721c",
   "metadata": {},
   "outputs": [],
   "source": [
    "missense"
   ]
  },
  {
   "cell_type": "markdown",
   "id": "4f2bc9a6",
   "metadata": {},
   "source": [
    "Find the rows where the canonical sequence I found match with the original amino acid given in the summary table"
   ]
  },
  {
   "cell_type": "code",
   "execution_count": null,
   "id": "65c74d32",
   "metadata": {},
   "outputs": [],
   "source": [
    "from tqdm.notebook import tqdm"
   ]
  },
  {
   "cell_type": "code",
   "execution_count": null,
   "id": "90b83e4b",
   "metadata": {},
   "outputs": [],
   "source": [
    "import numpy as np"
   ]
  },
  {
   "cell_type": "code",
   "execution_count": null,
   "id": "17f5adfd",
   "metadata": {},
   "outputs": [],
   "source": [
    "matches = np.zeros(missense.shape[0])\n",
    "for i,(index,r) in tqdm(enumerate(missense.iterrows())):\n",
    "    if r.GeneSymbol in sequences:\n",
    "        s = sequences[r.GeneSymbol]\n",
    "        loc = int(r[\"loc\"]) - 1\n",
    "        if loc >= len(s):\n",
    "            continue\n",
    "        if s[loc] == aatable[r.og]:\n",
    "            matches[i] = 1\n",
    "        "
   ]
  },
  {
   "cell_type": "code",
   "execution_count": null,
   "id": "77f3ebf7",
   "metadata": {},
   "outputs": [],
   "source": [
    "missense = missense.assign(match=matches)"
   ]
  },
  {
   "cell_type": "code",
   "execution_count": null,
   "id": "33296cbd",
   "metadata": {},
   "outputs": [],
   "source": [
    "missense"
   ]
  },
  {
   "cell_type": "code",
   "execution_count": null,
   "id": "01eae78a",
   "metadata": {},
   "outputs": [],
   "source": [
    "df = missense[missense.match == 1]"
   ]
  },
  {
   "cell_type": "code",
   "execution_count": null,
   "id": "fc0da9f2",
   "metadata": {},
   "outputs": [],
   "source": [
    "df = df.loc[(df['ClinicalSignificance'] == 'Likely benign')|\n",
    "            (df['ClinicalSignificance'] == 'Benign')|\n",
    "            (df['ClinicalSignificance'] == 'Pathogenic')|\n",
    "            (df['ClinicalSignificance'] == 'Likely pathogenic')|\n",
    "            (df['ClinicalSignificance'] == 'Benign/Likely benign')|\n",
    "            (df['ClinicalSignificance'] == 'Pathogenic/Likely pathogenic')]"
   ]
  },
  {
   "cell_type": "code",
   "execution_count": null,
   "id": "13f0bfa4",
   "metadata": {},
   "outputs": [],
   "source": [
    "df = df.assign(label=(df.ClinicalSignificance.str.contains(\"pathogenic\")) | \\\n",
    "               (df.ClinicalSignificance.str.contains(\"Pathogenic\")))"
   ]
  },
  {
   "cell_type": "code",
   "execution_count": null,
   "id": "d7d7cb26",
   "metadata": {},
   "outputs": [],
   "source": [
    "df"
   ]
  },
  {
   "cell_type": "code",
   "execution_count": null,
   "id": "df553912",
   "metadata": {},
   "outputs": [],
   "source": [
    "df.groupby(\"GeneSymbol\").count().quantile(.5)"
   ]
  },
  {
   "cell_type": "code",
   "execution_count": null,
   "id": "d2c5b6a5",
   "metadata": {},
   "outputs": [],
   "source": [
    "df.groupby(\"GeneSymbol\").label.unique().str.len().value_counts()"
   ]
  },
  {
   "cell_type": "code",
   "execution_count": null,
   "id": "77fd1f6a",
   "metadata": {},
   "outputs": [],
   "source": [
    "df"
   ]
  },
  {
   "cell_type": "code",
   "execution_count": null,
   "id": "79bd5ca1",
   "metadata": {},
   "outputs": [],
   "source": [
    "variants = []"
   ]
  },
  {
   "cell_type": "code",
   "execution_count": null,
   "id": "ac819930",
   "metadata": {},
   "outputs": [],
   "source": [
    "for index,row in tqdm(df.iterrows()):\n",
    "    s = sequences[row.GeneSymbol]\n",
    "    loc = int(r[\"loc\"]) - 1\n",
    "    variant = s[:loc] + aatable[row[\"newAA\"]] + s[loc+1:]\n",
    "    variants.append(variant)"
   ]
  },
  {
   "cell_type": "code",
   "execution_count": null,
   "id": "47b4aff9",
   "metadata": {},
   "outputs": [],
   "source": [
    "df = df.assign(sequence=variants)"
   ]
  },
  {
   "cell_type": "code",
   "execution_count": null,
   "id": "2e4ad2ca",
   "metadata": {},
   "outputs": [],
   "source": [
    "df.to_csv(\"/ssdata/clinvar/clinvar/missenseVariants.csv\")"
   ]
  },
  {
   "cell_type": "code",
   "execution_count": null,
   "id": "35f75688",
   "metadata": {},
   "outputs": [],
   "source": [
    "df = pd.read_csv(\"/data/projects/processBio/clinvar/clinvar/missenseVariants.csv\")"
   ]
  },
  {
   "cell_type": "code",
   "execution_count": null,
   "id": "da7b34b5",
   "metadata": {},
   "outputs": [],
   "source": [
    "df"
   ]
  },
  {
   "cell_type": "code",
   "execution_count": null,
   "id": "653a2634",
   "metadata": {},
   "outputs": [],
   "source": [
    "df.GeneID.unique().shape"
   ]
  },
  {
   "cell_type": "code",
   "execution_count": null,
   "id": "a5b6f8c7",
   "metadata": {},
   "outputs": [],
   "source": [
    "ddf = pd.read_csv(\"/data/projects/processBio/clinvar/clinvar/clinvar.vep\",delimiter=\"\\t\",header=92)"
   ]
  },
  {
   "cell_type": "code",
   "execution_count": null,
   "id": "c4019114",
   "metadata": {},
   "outputs": [],
   "source": [
    "ddf"
   ]
  },
  {
   "cell_type": "code",
   "execution_count": null,
   "id": "8c35e576",
   "metadata": {},
   "outputs": [],
   "source": [
    "import mygene"
   ]
  },
  {
   "cell_type": "code",
   "execution_count": null,
   "id": "5eb5379b",
   "metadata": {},
   "outputs": [],
   "source": [
    "mg = mygene.MyGeneInfo()"
   ]
  },
  {
   "cell_type": "code",
   "execution_count": null,
   "id": "4b68a5d9",
   "metadata": {},
   "outputs": [],
   "source": [
    "mg.querymany([\"ENST00000330287\"],returnall=True)"
   ]
  },
  {
   "cell_type": "code",
   "execution_count": null,
   "id": "98404d16",
   "metadata": {},
   "outputs": [],
   "source": []
  }
 ],
 "metadata": {
  "language_info": {
   "name": "python",
   "pygments_lexer": "ipython3"
  }
 },
 "nbformat": 4,
 "nbformat_minor": 5
}
