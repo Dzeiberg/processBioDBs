{
 "cells": [
  {
   "cell_type": "code",
   "execution_count": 103,
   "metadata": {
    "ExecuteTime": {
     "end_time": "2021-07-20T15:47:35.308725Z",
     "start_time": "2021-07-20T15:47:35.303290Z"
    }
   },
   "outputs": [],
   "source": [
    "from Bio import Entrez\n",
    "\n",
    "Entrez.email = \"zeiberg.d@northeastern.edu\"\n",
    "\n",
    "import pandas as pd\n",
    "\n",
    "from easydict import EasyDict"
   ]
  },
  {
   "cell_type": "code",
   "execution_count": 104,
   "metadata": {
    "ExecuteTime": {
     "end_time": "2021-07-20T15:47:35.477919Z",
     "start_time": "2021-07-20T15:47:35.473040Z"
    }
   },
   "outputs": [],
   "source": [
    "from tqdm.notebook import tqdm\n",
    "\n",
    "import numpy as np\n",
    "import pickle"
   ]
  },
  {
   "cell_type": "code",
   "execution_count": 117,
   "metadata": {
    "ExecuteTime": {
     "end_time": "2021-07-20T15:52:57.673469Z",
     "start_time": "2021-07-20T15:52:57.665677Z"
    }
   },
   "outputs": [],
   "source": [
    "def getSequenceFromNPID(npid):\n",
    "    \"Return the protein sequence from \"\n",
    "    handle = Entrez.efetch(db=\"protein\",id=npid, rettype=\"fasta\", retmode=\"text\")\n",
    "    lines = handle.readlines()\n",
    "    lines = [l.strip() for l in lines]\n",
    "    return \"\".join(lines[1:])"
   ]
  },
  {
   "cell_type": "code",
   "execution_count": 4,
   "metadata": {
    "ExecuteTime": {
     "end_time": "2021-07-19T16:11:55.833839Z",
     "start_time": "2021-07-19T16:11:55.315450Z"
    }
   },
   "outputs": [
    {
     "name": "stderr",
     "output_type": "stream",
     "text": [
      "/home/dz/anaconda3/envs/torch/lib/python3.7/site-packages/IPython/core/interactiveshell.py:3063: DtypeWarning: Columns (0) have mixed types.Specify dtype option on import or set low_memory=False.\n",
      "  interactivity=interactivity, compiler=compiler, result=result)\n"
     ]
    }
   ],
   "source": [
    "df = pd.read_csv(\"/ssdata/hgmd/HGMD_PRO_2019_1_hg19.vcf\",delimiter=\"\\t\",header=14)"
   ]
  },
  {
   "cell_type": "code",
   "execution_count": 5,
   "metadata": {
    "ExecuteTime": {
     "end_time": "2021-07-19T16:11:56.885517Z",
     "start_time": "2021-07-19T16:11:56.851434Z"
    }
   },
   "outputs": [
    {
     "data": {
      "text/html": [
       "<div>\n",
       "<style scoped>\n",
       "    .dataframe tbody tr th:only-of-type {\n",
       "        vertical-align: middle;\n",
       "    }\n",
       "\n",
       "    .dataframe tbody tr th {\n",
       "        vertical-align: top;\n",
       "    }\n",
       "\n",
       "    .dataframe thead th {\n",
       "        text-align: right;\n",
       "    }\n",
       "</style>\n",
       "<table border=\"1\" class=\"dataframe\">\n",
       "  <thead>\n",
       "    <tr style=\"text-align: right;\">\n",
       "      <th></th>\n",
       "      <th>#CHROM</th>\n",
       "      <th>POS</th>\n",
       "      <th>ID</th>\n",
       "      <th>REF</th>\n",
       "      <th>ALT</th>\n",
       "      <th>QUAL</th>\n",
       "      <th>FILTER</th>\n",
       "      <th>INFO</th>\n",
       "    </tr>\n",
       "  </thead>\n",
       "  <tbody>\n",
       "    <tr>\n",
       "      <th>0</th>\n",
       "      <td>1</td>\n",
       "      <td>865595</td>\n",
       "      <td>CM1613956</td>\n",
       "      <td>A</td>\n",
       "      <td>G</td>\n",
       "      <td>.</td>\n",
       "      <td>.</td>\n",
       "      <td>CLASS=DM?;MUT=ALT;GENE=SAMD11;STRAND=+;DNA=NM_...</td>\n",
       "    </tr>\n",
       "    <tr>\n",
       "      <th>1</th>\n",
       "      <td>1</td>\n",
       "      <td>874491</td>\n",
       "      <td>CM1613954</td>\n",
       "      <td>C</td>\n",
       "      <td>T</td>\n",
       "      <td>.</td>\n",
       "      <td>.</td>\n",
       "      <td>CLASS=DM?;MUT=ALT;GENE=SAMD11;STRAND=+;DNA=NM_...</td>\n",
       "    </tr>\n",
       "    <tr>\n",
       "      <th>2</th>\n",
       "      <td>1</td>\n",
       "      <td>877523</td>\n",
       "      <td>CM1511864</td>\n",
       "      <td>C</td>\n",
       "      <td>G</td>\n",
       "      <td>.</td>\n",
       "      <td>.</td>\n",
       "      <td>CLASS=DM?;MUT=ALT;GENE=SAMD11;STRAND=+;DNA=NM_...</td>\n",
       "    </tr>\n",
       "    <tr>\n",
       "      <th>3</th>\n",
       "      <td>1</td>\n",
       "      <td>879286</td>\n",
       "      <td>CS1613955</td>\n",
       "      <td>A</td>\n",
       "      <td>C</td>\n",
       "      <td>.</td>\n",
       "      <td>.</td>\n",
       "      <td>CLASS=DM?;MUT=ALT;GENE=SAMD11;STRAND=+;DNA=NM_...</td>\n",
       "    </tr>\n",
       "    <tr>\n",
       "      <th>4</th>\n",
       "      <td>1</td>\n",
       "      <td>879375</td>\n",
       "      <td>CM1613953</td>\n",
       "      <td>C</td>\n",
       "      <td>T</td>\n",
       "      <td>.</td>\n",
       "      <td>.</td>\n",
       "      <td>CLASS=DM;MUT=ALT;GENE=SAMD11;STRAND=+;DNA=NM_1...</td>\n",
       "    </tr>\n",
       "    <tr>\n",
       "      <th>...</th>\n",
       "      <td>...</td>\n",
       "      <td>...</td>\n",
       "      <td>...</td>\n",
       "      <td>...</td>\n",
       "      <td>...</td>\n",
       "      <td>...</td>\n",
       "      <td>...</td>\n",
       "      <td>...</td>\n",
       "    </tr>\n",
       "    <tr>\n",
       "      <th>229156</th>\n",
       "      <td>Y</td>\n",
       "      <td>2655774</td>\n",
       "      <td>CD056857</td>\n",
       "      <td>CCCT</td>\n",
       "      <td>C</td>\n",
       "      <td>.</td>\n",
       "      <td>.</td>\n",
       "      <td>CLASS=DM;MUT=ALT;GENE=SRY;STRAND=-;DNA=NM_0031...</td>\n",
       "    </tr>\n",
       "    <tr>\n",
       "      <th>229157</th>\n",
       "      <td>Y</td>\n",
       "      <td>6931938</td>\n",
       "      <td>CM121018</td>\n",
       "      <td>G</td>\n",
       "      <td>C</td>\n",
       "      <td>.</td>\n",
       "      <td>.</td>\n",
       "      <td>CLASS=DM?;MUT=ALT;GENE=TBL1Y;STRAND=+;DNA=NM_0...</td>\n",
       "    </tr>\n",
       "    <tr>\n",
       "      <th>229158</th>\n",
       "      <td>Y</td>\n",
       "      <td>6938305</td>\n",
       "      <td>CM121019</td>\n",
       "      <td>C</td>\n",
       "      <td>T</td>\n",
       "      <td>.</td>\n",
       "      <td>.</td>\n",
       "      <td>CLASS=DM?;MUT=ALT;GENE=TBL1Y;STRAND=+;DNA=NM_0...</td>\n",
       "    </tr>\n",
       "    <tr>\n",
       "      <th>229159</th>\n",
       "      <td>Y</td>\n",
       "      <td>14847658</td>\n",
       "      <td>CD993525</td>\n",
       "      <td>TTAAG</td>\n",
       "      <td>T</td>\n",
       "      <td>.</td>\n",
       "      <td>.</td>\n",
       "      <td>CLASS=DM;MUT=ALT;GENE=USP9Y;STRAND=+;DNA=NM_00...</td>\n",
       "    </tr>\n",
       "    <tr>\n",
       "      <th>229160</th>\n",
       "      <td>Y</td>\n",
       "      <td>16952726</td>\n",
       "      <td>CM086695</td>\n",
       "      <td>A</td>\n",
       "      <td>G</td>\n",
       "      <td>.</td>\n",
       "      <td>.</td>\n",
       "      <td>CLASS=DM;MUT=ALT;GENE=NLGN4Y;STRAND=+;DNA=NM_0...</td>\n",
       "    </tr>\n",
       "  </tbody>\n",
       "</table>\n",
       "<p>229161 rows × 8 columns</p>\n",
       "</div>"
      ],
      "text/plain": [
       "       #CHROM       POS         ID    REF ALT QUAL FILTER  \\\n",
       "0           1    865595  CM1613956      A   G    .      .   \n",
       "1           1    874491  CM1613954      C   T    .      .   \n",
       "2           1    877523  CM1511864      C   G    .      .   \n",
       "3           1    879286  CS1613955      A   C    .      .   \n",
       "4           1    879375  CM1613953      C   T    .      .   \n",
       "...       ...       ...        ...    ...  ..  ...    ...   \n",
       "229156      Y   2655774   CD056857   CCCT   C    .      .   \n",
       "229157      Y   6931938   CM121018      G   C    .      .   \n",
       "229158      Y   6938305   CM121019      C   T    .      .   \n",
       "229159      Y  14847658   CD993525  TTAAG   T    .      .   \n",
       "229160      Y  16952726   CM086695      A   G    .      .   \n",
       "\n",
       "                                                     INFO  \n",
       "0       CLASS=DM?;MUT=ALT;GENE=SAMD11;STRAND=+;DNA=NM_...  \n",
       "1       CLASS=DM?;MUT=ALT;GENE=SAMD11;STRAND=+;DNA=NM_...  \n",
       "2       CLASS=DM?;MUT=ALT;GENE=SAMD11;STRAND=+;DNA=NM_...  \n",
       "3       CLASS=DM?;MUT=ALT;GENE=SAMD11;STRAND=+;DNA=NM_...  \n",
       "4       CLASS=DM;MUT=ALT;GENE=SAMD11;STRAND=+;DNA=NM_1...  \n",
       "...                                                   ...  \n",
       "229156  CLASS=DM;MUT=ALT;GENE=SRY;STRAND=-;DNA=NM_0031...  \n",
       "229157  CLASS=DM?;MUT=ALT;GENE=TBL1Y;STRAND=+;DNA=NM_0...  \n",
       "229158  CLASS=DM?;MUT=ALT;GENE=TBL1Y;STRAND=+;DNA=NM_0...  \n",
       "229159  CLASS=DM;MUT=ALT;GENE=USP9Y;STRAND=+;DNA=NM_00...  \n",
       "229160  CLASS=DM;MUT=ALT;GENE=NLGN4Y;STRAND=+;DNA=NM_0...  \n",
       "\n",
       "[229161 rows x 8 columns]"
      ]
     },
     "execution_count": 5,
     "metadata": {},
     "output_type": "execute_result"
    }
   ],
   "source": [
    "df"
   ]
  },
  {
   "cell_type": "code",
   "execution_count": 6,
   "metadata": {
    "ExecuteTime": {
     "end_time": "2021-07-19T16:12:16.323132Z",
     "start_time": "2021-07-19T16:12:16.308676Z"
    }
   },
   "outputs": [],
   "source": [
    "def getInfo(row):\n",
    "    d = EasyDict()\n",
    "    for vals in row[\"INFO\"].split(\";\"):\n",
    "        k,v = vals.split(\"=\")\n",
    "        d[k] = v\n",
    "    if \"PROT\" in d:\n",
    "        d.pid, d.variant = d.PROT.split(\":\")\n",
    "    elif \"DB\" in d:\n",
    "        d.pid = \"\"\n",
    "        d.variant=\"\"\n",
    "        rsid= d.DB.replace(\"rs\",\"\")\n",
    "        \n",
    "    else:\n",
    "        return d\n",
    "    try:\n",
    "        _,d.variant = d.variant.split(\".\")\n",
    "        d.reference,location,d.missense = d.variant[0],int(d.variant[1:-1]),d.variant[-1]\n",
    "    except ValueError:\n",
    "        return d\n",
    "    d.loc = location - 1\n",
    "    return d"
   ]
  },
  {
   "cell_type": "markdown",
   "metadata": {},
   "source": [
    "# Original Stats"
   ]
  },
  {
   "cell_type": "code",
   "execution_count": 11,
   "metadata": {
    "ExecuteTime": {
     "end_time": "2021-07-19T16:13:16.103707Z",
     "start_time": "2021-07-19T16:12:53.011264Z"
    }
   },
   "outputs": [
    {
     "data": {
      "application/vnd.jupyter.widget-view+json": {
       "model_id": "7cc4f05a200f4a5692adcdd3d8b05258",
       "version_major": 2,
       "version_minor": 0
      },
      "text/plain": [
       "HBox(children=(FloatProgress(value=1.0, bar_style='info', max=1.0), HTML(value='')))"
      ]
     },
     "metadata": {},
     "output_type": "display_data"
    },
    {
     "name": "stdout",
     "output_type": "stream",
     "text": [
      "\n"
     ]
    }
   ],
   "source": [
    "allGenes = set()\n",
    "genesWithAtleastOneVariant = set()\n",
    "validInfo = []\n",
    "for i,row in tqdm(df.iterrows()):\n",
    "    info = getInfo(row)\n",
    "    allGenes.add(info.GENE)\n",
    "    if \"missense\" in info:\n",
    "        genesWithAtleastOneVariant.add(info.GENE)\n",
    "        validInfo.append(info)"
   ]
  },
  {
   "cell_type": "code",
   "execution_count": 12,
   "metadata": {
    "ExecuteTime": {
     "end_time": "2021-07-19T16:13:16.795402Z",
     "start_time": "2021-07-19T16:13:16.106919Z"
    }
   },
   "outputs": [],
   "source": [
    "variantDF = pd.DataFrame(validInfo)"
   ]
  },
  {
   "cell_type": "code",
   "execution_count": 13,
   "metadata": {
    "ExecuteTime": {
     "end_time": "2021-07-19T16:13:16.814774Z",
     "start_time": "2021-07-19T16:13:16.797516Z"
    }
   },
   "outputs": [
    {
     "data": {
      "text/html": [
       "<div>\n",
       "<style scoped>\n",
       "    .dataframe tbody tr th:only-of-type {\n",
       "        vertical-align: middle;\n",
       "    }\n",
       "\n",
       "    .dataframe tbody tr th {\n",
       "        vertical-align: top;\n",
       "    }\n",
       "\n",
       "    .dataframe thead th {\n",
       "        text-align: right;\n",
       "    }\n",
       "</style>\n",
       "<table border=\"1\" class=\"dataframe\">\n",
       "  <thead>\n",
       "    <tr style=\"text-align: right;\">\n",
       "      <th></th>\n",
       "      <th>CLASS</th>\n",
       "      <th>MUT</th>\n",
       "      <th>GENE</th>\n",
       "      <th>STRAND</th>\n",
       "      <th>DNA</th>\n",
       "      <th>PROT</th>\n",
       "      <th>DB</th>\n",
       "      <th>PHEN</th>\n",
       "      <th>RANKSCORE</th>\n",
       "      <th>pid</th>\n",
       "      <th>variant</th>\n",
       "      <th>reference</th>\n",
       "      <th>missense</th>\n",
       "      <th>loc</th>\n",
       "    </tr>\n",
       "  </thead>\n",
       "  <tbody>\n",
       "    <tr>\n",
       "      <th>0</th>\n",
       "      <td>DM?</td>\n",
       "      <td>ALT</td>\n",
       "      <td>SAMD11</td>\n",
       "      <td>+</td>\n",
       "      <td>NM_152486.2:c.133A&gt;G</td>\n",
       "      <td>NP_689699.2:p.K45E</td>\n",
       "      <td>rs903331232</td>\n",
       "      <td>\"Retinitis_pigmentosa\"</td>\n",
       "      <td>0.21</td>\n",
       "      <td>NP_689699.2</td>\n",
       "      <td>K45E</td>\n",
       "      <td>K</td>\n",
       "      <td>E</td>\n",
       "      <td>44</td>\n",
       "    </tr>\n",
       "    <tr>\n",
       "      <th>1</th>\n",
       "      <td>DM?</td>\n",
       "      <td>ALT</td>\n",
       "      <td>SAMD11</td>\n",
       "      <td>+</td>\n",
       "      <td>NM_152486.2:c.502C&gt;T</td>\n",
       "      <td>NP_689699.2:p.R168*</td>\n",
       "      <td>rs1441881282</td>\n",
       "      <td>\"Retinitis_pigmentosa\"</td>\n",
       "      <td>0.99</td>\n",
       "      <td>NP_689699.2</td>\n",
       "      <td>R168*</td>\n",
       "      <td>R</td>\n",
       "      <td>*</td>\n",
       "      <td>167</td>\n",
       "    </tr>\n",
       "    <tr>\n",
       "      <th>2</th>\n",
       "      <td>DM?</td>\n",
       "      <td>ALT</td>\n",
       "      <td>SAMD11</td>\n",
       "      <td>+</td>\n",
       "      <td>NM_152486.2:c.877C&gt;G</td>\n",
       "      <td>NP_689699.2:p.P293A</td>\n",
       "      <td>rs200195897</td>\n",
       "      <td>\"Autism_spectrum_disorder\"</td>\n",
       "      <td>0.1</td>\n",
       "      <td>NP_689699.2</td>\n",
       "      <td>P293A</td>\n",
       "      <td>P</td>\n",
       "      <td>A</td>\n",
       "      <td>292</td>\n",
       "    </tr>\n",
       "    <tr>\n",
       "      <th>3</th>\n",
       "      <td>DM</td>\n",
       "      <td>ALT</td>\n",
       "      <td>SAMD11</td>\n",
       "      <td>+</td>\n",
       "      <td>NM_152486.2:c.1888C&gt;T</td>\n",
       "      <td>NP_689699.2:p.R630*</td>\n",
       "      <td>rs761448939</td>\n",
       "      <td>\"Retinitis_pigmentosa\"</td>\n",
       "      <td>0.57</td>\n",
       "      <td>NP_689699.2</td>\n",
       "      <td>R630*</td>\n",
       "      <td>R</td>\n",
       "      <td>*</td>\n",
       "      <td>629</td>\n",
       "    </tr>\n",
       "    <tr>\n",
       "      <th>4</th>\n",
       "      <td>DM</td>\n",
       "      <td>ALT</td>\n",
       "      <td>ISG15</td>\n",
       "      <td>+</td>\n",
       "      <td>NM_005101.3:c.163C&gt;T</td>\n",
       "      <td>NP_005092.1:p.Q55*</td>\n",
       "      <td>rs786201005</td>\n",
       "      <td>\"Idiopathic_basal_ganglia_calcification\"</td>\n",
       "      <td>0.99</td>\n",
       "      <td>NP_005092.1</td>\n",
       "      <td>Q55*</td>\n",
       "      <td>Q</td>\n",
       "      <td>*</td>\n",
       "      <td>54</td>\n",
       "    </tr>\n",
       "    <tr>\n",
       "      <th>...</th>\n",
       "      <td>...</td>\n",
       "      <td>...</td>\n",
       "      <td>...</td>\n",
       "      <td>...</td>\n",
       "      <td>...</td>\n",
       "      <td>...</td>\n",
       "      <td>...</td>\n",
       "      <td>...</td>\n",
       "      <td>...</td>\n",
       "      <td>...</td>\n",
       "      <td>...</td>\n",
       "      <td>...</td>\n",
       "      <td>...</td>\n",
       "      <td>...</td>\n",
       "    </tr>\n",
       "    <tr>\n",
       "      <th>146445</th>\n",
       "      <td>DM</td>\n",
       "      <td>ALT</td>\n",
       "      <td>SRY</td>\n",
       "      <td>-</td>\n",
       "      <td>NM_003140.2:c.8C&gt;T</td>\n",
       "      <td>NP_003131.1:p.S3L</td>\n",
       "      <td>NaN</td>\n",
       "      <td>\"Gonadal_dysgenesis\"</td>\n",
       "      <td>0.78</td>\n",
       "      <td>NP_003131.1</td>\n",
       "      <td>S3L</td>\n",
       "      <td>S</td>\n",
       "      <td>L</td>\n",
       "      <td>2</td>\n",
       "    </tr>\n",
       "    <tr>\n",
       "      <th>146446</th>\n",
       "      <td>DM</td>\n",
       "      <td>ALT</td>\n",
       "      <td>SRY</td>\n",
       "      <td>-</td>\n",
       "      <td>NM_003140.2:c.4C&gt;T</td>\n",
       "      <td>NP_003131.1:p.Q2*</td>\n",
       "      <td>rs104894977</td>\n",
       "      <td>\"XY_sex_reversal\"</td>\n",
       "      <td>0.93</td>\n",
       "      <td>NP_003131.1</td>\n",
       "      <td>Q2*</td>\n",
       "      <td>Q</td>\n",
       "      <td>*</td>\n",
       "      <td>1</td>\n",
       "    </tr>\n",
       "    <tr>\n",
       "      <th>146447</th>\n",
       "      <td>DM?</td>\n",
       "      <td>ALT</td>\n",
       "      <td>TBL1Y</td>\n",
       "      <td>+</td>\n",
       "      <td>NM_033284.1:c.205G&gt;C</td>\n",
       "      <td>NP_150600.1:p.D69H</td>\n",
       "      <td>rs1297787063</td>\n",
       "      <td>\"Coarctation_of_the_aorta_non-syndromic\"</td>\n",
       "      <td>0.32</td>\n",
       "      <td>NP_150600.1</td>\n",
       "      <td>D69H</td>\n",
       "      <td>D</td>\n",
       "      <td>H</td>\n",
       "      <td>68</td>\n",
       "    </tr>\n",
       "    <tr>\n",
       "      <th>146448</th>\n",
       "      <td>DM?</td>\n",
       "      <td>ALT</td>\n",
       "      <td>TBL1Y</td>\n",
       "      <td>+</td>\n",
       "      <td>NM_033284.1:c.526C&gt;T</td>\n",
       "      <td>NP_150600.1:p.R176W</td>\n",
       "      <td>rs766714719</td>\n",
       "      <td>\"Coarctation_of_the_aorta_non-syndromic\"</td>\n",
       "      <td>0.18</td>\n",
       "      <td>NP_150600.1</td>\n",
       "      <td>R176W</td>\n",
       "      <td>R</td>\n",
       "      <td>W</td>\n",
       "      <td>175</td>\n",
       "    </tr>\n",
       "    <tr>\n",
       "      <th>146449</th>\n",
       "      <td>DM</td>\n",
       "      <td>ALT</td>\n",
       "      <td>NLGN4Y</td>\n",
       "      <td>+</td>\n",
       "      <td>NM_014893.4:c.2035A&gt;G</td>\n",
       "      <td>NP_055708.3:p.I679V</td>\n",
       "      <td>rs753426385</td>\n",
       "      <td>\"Autism\"</td>\n",
       "      <td>0.41</td>\n",
       "      <td>NP_055708.3</td>\n",
       "      <td>I679V</td>\n",
       "      <td>I</td>\n",
       "      <td>V</td>\n",
       "      <td>678</td>\n",
       "    </tr>\n",
       "  </tbody>\n",
       "</table>\n",
       "<p>146450 rows × 14 columns</p>\n",
       "</div>"
      ],
      "text/plain": [
       "       CLASS  MUT    GENE STRAND                    DNA                 PROT  \\\n",
       "0        DM?  ALT  SAMD11      +   NM_152486.2:c.133A>G   NP_689699.2:p.K45E   \n",
       "1        DM?  ALT  SAMD11      +   NM_152486.2:c.502C>T  NP_689699.2:p.R168*   \n",
       "2        DM?  ALT  SAMD11      +   NM_152486.2:c.877C>G  NP_689699.2:p.P293A   \n",
       "3         DM  ALT  SAMD11      +  NM_152486.2:c.1888C>T  NP_689699.2:p.R630*   \n",
       "4         DM  ALT   ISG15      +   NM_005101.3:c.163C>T   NP_005092.1:p.Q55*   \n",
       "...      ...  ...     ...    ...                    ...                  ...   \n",
       "146445    DM  ALT     SRY      -     NM_003140.2:c.8C>T    NP_003131.1:p.S3L   \n",
       "146446    DM  ALT     SRY      -     NM_003140.2:c.4C>T    NP_003131.1:p.Q2*   \n",
       "146447   DM?  ALT   TBL1Y      +   NM_033284.1:c.205G>C   NP_150600.1:p.D69H   \n",
       "146448   DM?  ALT   TBL1Y      +   NM_033284.1:c.526C>T  NP_150600.1:p.R176W   \n",
       "146449    DM  ALT  NLGN4Y      +  NM_014893.4:c.2035A>G  NP_055708.3:p.I679V   \n",
       "\n",
       "                  DB                                      PHEN RANKSCORE  \\\n",
       "0        rs903331232                    \"Retinitis_pigmentosa\"      0.21   \n",
       "1       rs1441881282                    \"Retinitis_pigmentosa\"      0.99   \n",
       "2        rs200195897                \"Autism_spectrum_disorder\"       0.1   \n",
       "3        rs761448939                    \"Retinitis_pigmentosa\"      0.57   \n",
       "4        rs786201005  \"Idiopathic_basal_ganglia_calcification\"      0.99   \n",
       "...              ...                                       ...       ...   \n",
       "146445           NaN                      \"Gonadal_dysgenesis\"      0.78   \n",
       "146446   rs104894977                         \"XY_sex_reversal\"      0.93   \n",
       "146447  rs1297787063  \"Coarctation_of_the_aorta_non-syndromic\"      0.32   \n",
       "146448   rs766714719  \"Coarctation_of_the_aorta_non-syndromic\"      0.18   \n",
       "146449   rs753426385                                  \"Autism\"      0.41   \n",
       "\n",
       "                pid variant reference missense  loc  \n",
       "0       NP_689699.2    K45E         K        E   44  \n",
       "1       NP_689699.2   R168*         R        *  167  \n",
       "2       NP_689699.2   P293A         P        A  292  \n",
       "3       NP_689699.2   R630*         R        *  629  \n",
       "4       NP_005092.1    Q55*         Q        *   54  \n",
       "...             ...     ...       ...      ...  ...  \n",
       "146445  NP_003131.1     S3L         S        L    2  \n",
       "146446  NP_003131.1     Q2*         Q        *    1  \n",
       "146447  NP_150600.1    D69H         D        H   68  \n",
       "146448  NP_150600.1   R176W         R        W  175  \n",
       "146449  NP_055708.3   I679V         I        V  678  \n",
       "\n",
       "[146450 rows x 14 columns]"
      ]
     },
     "execution_count": 13,
     "metadata": {},
     "output_type": "execute_result"
    }
   ],
   "source": [
    "variantDF"
   ]
  },
  {
   "cell_type": "markdown",
   "metadata": {},
   "source": [
    "Number of genes with at least one variant"
   ]
  },
  {
   "cell_type": "code",
   "execution_count": 14,
   "metadata": {
    "ExecuteTime": {
     "end_time": "2021-07-19T16:13:16.857690Z",
     "start_time": "2021-07-19T16:13:16.816165Z"
    },
    "scrolled": true
   },
   "outputs": [
    {
     "data": {
      "text/plain": [
       "(9234,)"
      ]
     },
     "execution_count": 14,
     "metadata": {},
     "output_type": "execute_result"
    }
   ],
   "source": [
    "variantDF.pid.unique().shape"
   ]
  },
  {
   "cell_type": "code",
   "execution_count": 15,
   "metadata": {
    "ExecuteTime": {
     "end_time": "2021-07-19T16:13:20.424675Z",
     "start_time": "2021-07-19T16:13:20.416728Z"
    }
   },
   "outputs": [],
   "source": [
    "sequences = EasyDict()"
   ]
  },
  {
   "cell_type": "code",
   "execution_count": 36,
   "metadata": {
    "ExecuteTime": {
     "end_time": "2021-07-15T19:04:55.676254Z",
     "start_time": "2021-07-15T17:57:51.258872Z"
    }
   },
   "outputs": [
    {
     "data": {
      "application/vnd.jupyter.widget-view+json": {
       "model_id": "",
       "version_major": 2,
       "version_minor": 0
      },
      "text/plain": [
       "HBox(children=(FloatProgress(value=0.0, max=9234.0), HTML(value='')))"
      ]
     },
     "metadata": {},
     "output_type": "display_data"
    },
    {
     "name": "stdout",
     "output_type": "stream",
     "text": [
      "\n"
     ]
    }
   ],
   "source": [
    "for npid in tqdm(protein_ids):\n",
    "    sequences[npid] = getSequenceFromNPID(npid)"
   ]
  },
  {
   "cell_type": "code",
   "execution_count": 47,
   "metadata": {
    "ExecuteTime": {
     "end_time": "2021-07-15T19:27:42.409621Z",
     "start_time": "2021-07-15T19:27:42.331972Z"
    }
   },
   "outputs": [],
   "source": [
    "pickle.dump(sequences, open(\"/ssdata/hgmd/sequences.pkl\",\"wb\"))"
   ]
  },
  {
   "cell_type": "code",
   "execution_count": 8,
   "metadata": {
    "ExecuteTime": {
     "end_time": "2021-07-19T16:12:23.992835Z",
     "start_time": "2021-07-19T16:12:23.988587Z"
    }
   },
   "outputs": [],
   "source": [
    "import pickle\n",
    "from easydict import EasyDict"
   ]
  },
  {
   "cell_type": "code",
   "execution_count": 19,
   "metadata": {
    "ExecuteTime": {
     "end_time": "2021-07-19T16:16:10.441762Z",
     "start_time": "2021-07-19T16:16:10.399975Z"
    }
   },
   "outputs": [],
   "source": [
    "sequences = pickle.load(open(\"/ssdata/hgmd/sequences.pkl\",\"rb\"))"
   ]
  },
  {
   "cell_type": "code",
   "execution_count": 150,
   "metadata": {
    "ExecuteTime": {
     "end_time": "2021-07-20T16:02:17.212462Z",
     "start_time": "2021-07-20T16:01:59.682248Z"
    },
    "scrolled": true
   },
   "outputs": [
    {
     "data": {
      "application/vnd.jupyter.widget-view+json": {
       "model_id": "64f92d04a4d940d2a2000b2278bfa1c4",
       "version_major": 2,
       "version_minor": 0
      },
      "text/plain": [
       "HBox(children=(FloatProgress(value=0.0, max=146450.0), HTML(value='')))"
      ]
     },
     "metadata": {},
     "output_type": "display_data"
    },
    {
     "name": "stdout",
     "output_type": "stream",
     "text": [
      "\n"
     ]
    }
   ],
   "source": [
    "seqs = []\n",
    "errors = {\"match\":[]}\n",
    "for idx,row in tqdm(variantDF.iterrows(),total=variantDF.shape[0]):\n",
    "    s = sequences[row.pid]\n",
    "    loc = row[\"loc\"]\n",
    "    variant = s[:loc] + row.missense + s[loc+1:]\n",
    "    if loc < len(s) and s[loc] == row.reference:\n",
    "        seqs.append(variant)\n",
    "    else:\n",
    "        errors[\"match\"].append(idx)\n",
    "        seqs.append(np.nan)"
   ]
  },
  {
   "cell_type": "code",
   "execution_count": 152,
   "metadata": {
    "ExecuteTime": {
     "end_time": "2021-07-20T16:02:17.293022Z",
     "start_time": "2021-07-20T16:02:17.219564Z"
    }
   },
   "outputs": [],
   "source": [
    "variantDF = variantDF.assign(seq=seqs)"
   ]
  },
  {
   "cell_type": "code",
   "execution_count": 163,
   "metadata": {
    "ExecuteTime": {
     "end_time": "2021-07-20T16:05:16.855401Z",
     "start_time": "2021-07-20T16:05:16.703662Z"
    }
   },
   "outputs": [],
   "source": [
    "variantDF = variantDF[(variantDF.CLASS != \"DM?\") & (~variantDF.PROT.str.contains(\"\\*\"))]"
   ]
  },
  {
   "cell_type": "code",
   "execution_count": 168,
   "metadata": {
    "ExecuteTime": {
     "end_time": "2021-07-20T16:07:19.108904Z",
     "start_time": "2021-07-20T16:07:19.074481Z"
    }
   },
   "outputs": [
    {
     "data": {
      "text/html": [
       "<div>\n",
       "<style scoped>\n",
       "    .dataframe tbody tr th:only-of-type {\n",
       "        vertical-align: middle;\n",
       "    }\n",
       "\n",
       "    .dataframe tbody tr th {\n",
       "        vertical-align: top;\n",
       "    }\n",
       "\n",
       "    .dataframe thead th {\n",
       "        text-align: right;\n",
       "    }\n",
       "</style>\n",
       "<table border=\"1\" class=\"dataframe\">\n",
       "  <thead>\n",
       "    <tr style=\"text-align: right;\">\n",
       "      <th></th>\n",
       "      <th>CLASS</th>\n",
       "      <th>MUT</th>\n",
       "      <th>GENE</th>\n",
       "      <th>STRAND</th>\n",
       "      <th>DNA</th>\n",
       "      <th>PROT</th>\n",
       "      <th>DB</th>\n",
       "      <th>PHEN</th>\n",
       "      <th>RANKSCORE</th>\n",
       "      <th>pid</th>\n",
       "      <th>variant</th>\n",
       "      <th>reference</th>\n",
       "      <th>missense</th>\n",
       "      <th>loc</th>\n",
       "      <th>seq</th>\n",
       "    </tr>\n",
       "  </thead>\n",
       "  <tbody>\n",
       "    <tr>\n",
       "      <th>6</th>\n",
       "      <td>DM</td>\n",
       "      <td>ALT</td>\n",
       "      <td>AGRN</td>\n",
       "      <td>+</td>\n",
       "      <td>NM_198576.3:c.226G&gt;A</td>\n",
       "      <td>NP_940978.2:p.G76S</td>\n",
       "      <td>rs756623659</td>\n",
       "      <td>\"Congenital_myasthenic_syndrome_with_distal_mu...</td>\n",
       "      <td>0.15</td>\n",
       "      <td>NP_940978.2</td>\n",
       "      <td>G76S</td>\n",
       "      <td>G</td>\n",
       "      <td>S</td>\n",
       "      <td>75</td>\n",
       "      <td>MAGRSHPGPLRPLLPLLVVAACVLPGAGGTCPERALERREEEANVV...</td>\n",
       "    </tr>\n",
       "    <tr>\n",
       "      <th>7</th>\n",
       "      <td>DM</td>\n",
       "      <td>ALT</td>\n",
       "      <td>AGRN</td>\n",
       "      <td>+</td>\n",
       "      <td>NM_198576.3:c.314A&gt;T</td>\n",
       "      <td>NP_940978.2:p.N105I</td>\n",
       "      <td>rs879253787</td>\n",
       "      <td>\"Congenital_myasthenic_syndrome_with_distal_mu...</td>\n",
       "      <td>0.91</td>\n",
       "      <td>NP_940978.2</td>\n",
       "      <td>N105I</td>\n",
       "      <td>N</td>\n",
       "      <td>I</td>\n",
       "      <td>104</td>\n",
       "      <td>MAGRSHPGPLRPLLPLLVVAACVLPGAGGTCPERALERREEEANVV...</td>\n",
       "    </tr>\n",
       "    <tr>\n",
       "      <th>9</th>\n",
       "      <td>DP</td>\n",
       "      <td>ALT</td>\n",
       "      <td>AGRN</td>\n",
       "      <td>+</td>\n",
       "      <td>NM_198576.3:c.1123G&gt;T</td>\n",
       "      <td>NP_940978.2:p.A375S</td>\n",
       "      <td>rs138031468</td>\n",
       "      <td>\"Ovarian_cancer_epithelial_reduced_risk\"</td>\n",
       "      <td>0.12000000000000001</td>\n",
       "      <td>NP_940978.2</td>\n",
       "      <td>A375S</td>\n",
       "      <td>A</td>\n",
       "      <td>S</td>\n",
       "      <td>374</td>\n",
       "      <td>MAGRSHPGPLRPLLPLLVVAACVLPGAGGTCPERALERREEEANVV...</td>\n",
       "    </tr>\n",
       "    <tr>\n",
       "      <th>11</th>\n",
       "      <td>DP</td>\n",
       "      <td>ALT</td>\n",
       "      <td>AGRN</td>\n",
       "      <td>+</td>\n",
       "      <td>NM_198576.3:c.1528G&gt;A</td>\n",
       "      <td>NP_940978.2:p.G510S</td>\n",
       "      <td>rs138288952</td>\n",
       "      <td>\"Inflammatory_bowel_disease_association_with\"</td>\n",
       "      <td>0.24</td>\n",
       "      <td>NP_940978.2</td>\n",
       "      <td>G510S</td>\n",
       "      <td>G</td>\n",
       "      <td>S</td>\n",
       "      <td>509</td>\n",
       "      <td>MAGRSHPGPLRPLLPLLVVAACVLPGAGGTCPERALERREEEANVV...</td>\n",
       "    </tr>\n",
       "    <tr>\n",
       "      <th>12</th>\n",
       "      <td>DM</td>\n",
       "      <td>ALT</td>\n",
       "      <td>AGRN</td>\n",
       "      <td>+</td>\n",
       "      <td>NM_198576.3:c.3527T&gt;C</td>\n",
       "      <td>NP_940978.2:p.L1176P</td>\n",
       "      <td>NaN</td>\n",
       "      <td>\"Congenital_myasthenic_syndrome\"</td>\n",
       "      <td>0.72</td>\n",
       "      <td>NP_940978.2</td>\n",
       "      <td>L1176P</td>\n",
       "      <td>L</td>\n",
       "      <td>P</td>\n",
       "      <td>1175</td>\n",
       "      <td>MAGRSHPGPLRPLLPLLVVAACVLPGAGGTCPERALERREEEANVV...</td>\n",
       "    </tr>\n",
       "    <tr>\n",
       "      <th>...</th>\n",
       "      <td>...</td>\n",
       "      <td>...</td>\n",
       "      <td>...</td>\n",
       "      <td>...</td>\n",
       "      <td>...</td>\n",
       "      <td>...</td>\n",
       "      <td>...</td>\n",
       "      <td>...</td>\n",
       "      <td>...</td>\n",
       "      <td>...</td>\n",
       "      <td>...</td>\n",
       "      <td>...</td>\n",
       "      <td>...</td>\n",
       "      <td>...</td>\n",
       "      <td>...</td>\n",
       "    </tr>\n",
       "    <tr>\n",
       "      <th>146440</th>\n",
       "      <td>DM</td>\n",
       "      <td>ALT</td>\n",
       "      <td>SRY</td>\n",
       "      <td>-</td>\n",
       "      <td>NM_003140.2:c.113A&gt;G</td>\n",
       "      <td>NP_003131.1:p.E38G</td>\n",
       "      <td>NaN</td>\n",
       "      <td>\"XY_sex_reversal\"</td>\n",
       "      <td>0.24</td>\n",
       "      <td>NP_003131.1</td>\n",
       "      <td>E38G</td>\n",
       "      <td>E</td>\n",
       "      <td>G</td>\n",
       "      <td>37</td>\n",
       "      <td>MQSYASAMLSVFNSDDYSPAVQENIPALRRSSSFLCTGSCNSKYQC...</td>\n",
       "    </tr>\n",
       "    <tr>\n",
       "      <th>146441</th>\n",
       "      <td>DM</td>\n",
       "      <td>ALT</td>\n",
       "      <td>SRY</td>\n",
       "      <td>-</td>\n",
       "      <td>NM_003140.2:c.89G&gt;T</td>\n",
       "      <td>NP_003131.1:p.R30I</td>\n",
       "      <td>NaN</td>\n",
       "      <td>\"Gonadal_dysgenesis\"</td>\n",
       "      <td>0.63</td>\n",
       "      <td>NP_003131.1</td>\n",
       "      <td>R30I</td>\n",
       "      <td>R</td>\n",
       "      <td>I</td>\n",
       "      <td>29</td>\n",
       "      <td>MQSYASAMLSVFNSDDYSPAVQENIPALRISSSFLCTESCNSKYQC...</td>\n",
       "    </tr>\n",
       "    <tr>\n",
       "      <th>146443</th>\n",
       "      <td>DM</td>\n",
       "      <td>ALT</td>\n",
       "      <td>SRY</td>\n",
       "      <td>-</td>\n",
       "      <td>NM_003140.2:c.53G&gt;A</td>\n",
       "      <td>NP_003131.1:p.S18N</td>\n",
       "      <td>rs104894971</td>\n",
       "      <td>\"XY_sex_reversal\"</td>\n",
       "      <td>0.1</td>\n",
       "      <td>NP_003131.1</td>\n",
       "      <td>S18N</td>\n",
       "      <td>S</td>\n",
       "      <td>N</td>\n",
       "      <td>17</td>\n",
       "      <td>MQSYASAMLSVFNSDDYNPAVQENIPALRRSSSFLCTESCNSKYQC...</td>\n",
       "    </tr>\n",
       "    <tr>\n",
       "      <th>146445</th>\n",
       "      <td>DM</td>\n",
       "      <td>ALT</td>\n",
       "      <td>SRY</td>\n",
       "      <td>-</td>\n",
       "      <td>NM_003140.2:c.8C&gt;T</td>\n",
       "      <td>NP_003131.1:p.S3L</td>\n",
       "      <td>NaN</td>\n",
       "      <td>\"Gonadal_dysgenesis\"</td>\n",
       "      <td>0.78</td>\n",
       "      <td>NP_003131.1</td>\n",
       "      <td>S3L</td>\n",
       "      <td>S</td>\n",
       "      <td>L</td>\n",
       "      <td>2</td>\n",
       "      <td>MQLYASAMLSVFNSDDYSPAVQENIPALRRSSSFLCTESCNSKYQC...</td>\n",
       "    </tr>\n",
       "    <tr>\n",
       "      <th>146449</th>\n",
       "      <td>DM</td>\n",
       "      <td>ALT</td>\n",
       "      <td>NLGN4Y</td>\n",
       "      <td>+</td>\n",
       "      <td>NM_014893.4:c.2035A&gt;G</td>\n",
       "      <td>NP_055708.3:p.I679V</td>\n",
       "      <td>rs753426385</td>\n",
       "      <td>\"Autism\"</td>\n",
       "      <td>0.41</td>\n",
       "      <td>NP_055708.3</td>\n",
       "      <td>I679V</td>\n",
       "      <td>I</td>\n",
       "      <td>V</td>\n",
       "      <td>678</td>\n",
       "      <td>MLRPQGLLWLPLLFTSVCVMLNSNVLLWITALAIKFTLIDSQAQYP...</td>\n",
       "    </tr>\n",
       "  </tbody>\n",
       "</table>\n",
       "<p>89235 rows × 15 columns</p>\n",
       "</div>"
      ],
      "text/plain": [
       "       CLASS  MUT    GENE STRAND                    DNA                  PROT  \\\n",
       "6         DM  ALT    AGRN      +   NM_198576.3:c.226G>A    NP_940978.2:p.G76S   \n",
       "7         DM  ALT    AGRN      +   NM_198576.3:c.314A>T   NP_940978.2:p.N105I   \n",
       "9         DP  ALT    AGRN      +  NM_198576.3:c.1123G>T   NP_940978.2:p.A375S   \n",
       "11        DP  ALT    AGRN      +  NM_198576.3:c.1528G>A   NP_940978.2:p.G510S   \n",
       "12        DM  ALT    AGRN      +  NM_198576.3:c.3527T>C  NP_940978.2:p.L1176P   \n",
       "...      ...  ...     ...    ...                    ...                   ...   \n",
       "146440    DM  ALT     SRY      -   NM_003140.2:c.113A>G    NP_003131.1:p.E38G   \n",
       "146441    DM  ALT     SRY      -    NM_003140.2:c.89G>T    NP_003131.1:p.R30I   \n",
       "146443    DM  ALT     SRY      -    NM_003140.2:c.53G>A    NP_003131.1:p.S18N   \n",
       "146445    DM  ALT     SRY      -     NM_003140.2:c.8C>T     NP_003131.1:p.S3L   \n",
       "146449    DM  ALT  NLGN4Y      +  NM_014893.4:c.2035A>G   NP_055708.3:p.I679V   \n",
       "\n",
       "                 DB                                               PHEN  \\\n",
       "6       rs756623659  \"Congenital_myasthenic_syndrome_with_distal_mu...   \n",
       "7       rs879253787  \"Congenital_myasthenic_syndrome_with_distal_mu...   \n",
       "9       rs138031468           \"Ovarian_cancer_epithelial_reduced_risk\"   \n",
       "11      rs138288952      \"Inflammatory_bowel_disease_association_with\"   \n",
       "12              NaN                   \"Congenital_myasthenic_syndrome\"   \n",
       "...             ...                                                ...   \n",
       "146440          NaN                                  \"XY_sex_reversal\"   \n",
       "146441          NaN                               \"Gonadal_dysgenesis\"   \n",
       "146443  rs104894971                                  \"XY_sex_reversal\"   \n",
       "146445          NaN                               \"Gonadal_dysgenesis\"   \n",
       "146449  rs753426385                                           \"Autism\"   \n",
       "\n",
       "                  RANKSCORE          pid variant reference missense   loc  \\\n",
       "6                      0.15  NP_940978.2    G76S         G        S    75   \n",
       "7                      0.91  NP_940978.2   N105I         N        I   104   \n",
       "9       0.12000000000000001  NP_940978.2   A375S         A        S   374   \n",
       "11                     0.24  NP_940978.2   G510S         G        S   509   \n",
       "12                     0.72  NP_940978.2  L1176P         L        P  1175   \n",
       "...                     ...          ...     ...       ...      ...   ...   \n",
       "146440                 0.24  NP_003131.1    E38G         E        G    37   \n",
       "146441                 0.63  NP_003131.1    R30I         R        I    29   \n",
       "146443                  0.1  NP_003131.1    S18N         S        N    17   \n",
       "146445                 0.78  NP_003131.1     S3L         S        L     2   \n",
       "146449                 0.41  NP_055708.3   I679V         I        V   678   \n",
       "\n",
       "                                                      seq  \n",
       "6       MAGRSHPGPLRPLLPLLVVAACVLPGAGGTCPERALERREEEANVV...  \n",
       "7       MAGRSHPGPLRPLLPLLVVAACVLPGAGGTCPERALERREEEANVV...  \n",
       "9       MAGRSHPGPLRPLLPLLVVAACVLPGAGGTCPERALERREEEANVV...  \n",
       "11      MAGRSHPGPLRPLLPLLVVAACVLPGAGGTCPERALERREEEANVV...  \n",
       "12      MAGRSHPGPLRPLLPLLVVAACVLPGAGGTCPERALERREEEANVV...  \n",
       "...                                                   ...  \n",
       "146440  MQSYASAMLSVFNSDDYSPAVQENIPALRRSSSFLCTGSCNSKYQC...  \n",
       "146441  MQSYASAMLSVFNSDDYSPAVQENIPALRISSSFLCTESCNSKYQC...  \n",
       "146443  MQSYASAMLSVFNSDDYNPAVQENIPALRRSSSFLCTESCNSKYQC...  \n",
       "146445  MQLYASAMLSVFNSDDYSPAVQENIPALRRSSSFLCTESCNSKYQC...  \n",
       "146449  MLRPQGLLWLPLLFTSVCVMLNSNVLLWITALAIKFTLIDSQAQYP...  \n",
       "\n",
       "[89235 rows x 15 columns]"
      ]
     },
     "execution_count": 168,
     "metadata": {},
     "output_type": "execute_result"
    }
   ],
   "source": [
    "variantDF"
   ]
  },
  {
   "cell_type": "code",
   "execution_count": 167,
   "metadata": {
    "ExecuteTime": {
     "end_time": "2021-07-20T16:06:10.386515Z",
     "start_time": "2021-07-20T16:06:10.362141Z"
    }
   },
   "outputs": [
    {
     "data": {
      "text/plain": [
       "(array([False,  True]), array([88926,   309]))"
      ]
     },
     "execution_count": 167,
     "metadata": {},
     "output_type": "execute_result"
    }
   ],
   "source": [
    "np.unique(variantDF.seq.isnull(),return_counts=True)"
   ]
  },
  {
   "cell_type": "code",
   "execution_count": null,
   "metadata": {},
   "outputs": [],
   "source": []
  }
 ],
 "metadata": {
  "kernelspec": {
   "display_name": "torch",
   "language": "python",
   "name": "torch"
  },
  "language_info": {
   "codemirror_mode": {
    "name": "ipython",
    "version": 3
   },
   "file_extension": ".py",
   "mimetype": "text/x-python",
   "name": "python",
   "nbconvert_exporter": "python",
   "pygments_lexer": "ipython3",
   "version": "3.7.7"
  }
 },
 "nbformat": 4,
 "nbformat_minor": 4
}
