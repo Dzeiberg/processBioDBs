{
 "cells": [
  {
   "cell_type": "code",
   "execution_count": 2,
   "metadata": {
    "ExecuteTime": {
     "end_time": "2021-07-14T15:17:49.747160Z",
     "start_time": "2021-07-14T15:17:49.740987Z"
    }
   },
   "outputs": [],
   "source": [
    "from Bio import Entrez\n",
    "\n",
    "Entrez.email = \"zeiberg.d@northeastern.edu\"\n",
    "\n",
    "import pandas as pd\n",
    "\n",
    "from easydict import EasyDict"
   ]
  },
  {
   "cell_type": "code",
   "execution_count": 4,
   "metadata": {
    "ExecuteTime": {
     "end_time": "2021-07-14T15:18:17.046315Z",
     "start_time": "2021-07-14T15:18:17.004020Z"
    }
   },
   "outputs": [],
   "source": [
    "from tqdm.notebook import tqdm\n",
    "\n",
    "import numpy as np\n",
    "import pickle"
   ]
  },
  {
   "cell_type": "code",
   "execution_count": 5,
   "metadata": {
    "ExecuteTime": {
     "end_time": "2021-07-14T15:18:26.752298Z",
     "start_time": "2021-07-14T15:18:26.745859Z"
    }
   },
   "outputs": [],
   "source": [
    "def getSequenceFromNPID(npid):\n",
    "    \"Return the protein sequence from \"\n",
    "    handle = Entrez.efetch(db=\"protein\",id=npid, rettype=\"fasta\", retmode=\"text\")\n",
    "    lines = handle.readlines()\n",
    "    lines = [l.strip() for l in lines]\n",
    "    return \"\".join(lines[1:])"
   ]
  },
  {
   "cell_type": "code",
   "execution_count": 7,
   "metadata": {
    "ExecuteTime": {
     "end_time": "2021-07-14T15:19:06.549935Z",
     "start_time": "2021-07-14T15:19:05.996941Z"
    }
   },
   "outputs": [
    {
     "name": "stderr",
     "output_type": "stream",
     "text": [
      "/home/dz/anaconda3/envs/bio/lib/python3.8/site-packages/IPython/core/interactiveshell.py:3145: DtypeWarning: Columns (0) have mixed types.Specify dtype option on import or set low_memory=False.\n",
      "  has_raised = await self.run_ast_nodes(code_ast.body, cell_name,\n"
     ]
    }
   ],
   "source": [
    "df = pd.read_csv(\"/ssdata/hgmd/HGMD_PRO_2019_1_hg19.vcf\",delimiter=\"\\t\",header=14)"
   ]
  },
  {
   "cell_type": "code",
   "execution_count": 8,
   "metadata": {
    "ExecuteTime": {
     "end_time": "2021-07-14T15:19:08.859856Z",
     "start_time": "2021-07-14T15:19:08.823827Z"
    }
   },
   "outputs": [
    {
     "data": {
      "text/html": [
       "<div>\n",
       "<style scoped>\n",
       "    .dataframe tbody tr th:only-of-type {\n",
       "        vertical-align: middle;\n",
       "    }\n",
       "\n",
       "    .dataframe tbody tr th {\n",
       "        vertical-align: top;\n",
       "    }\n",
       "\n",
       "    .dataframe thead th {\n",
       "        text-align: right;\n",
       "    }\n",
       "</style>\n",
       "<table border=\"1\" class=\"dataframe\">\n",
       "  <thead>\n",
       "    <tr style=\"text-align: right;\">\n",
       "      <th></th>\n",
       "      <th>#CHROM</th>\n",
       "      <th>POS</th>\n",
       "      <th>ID</th>\n",
       "      <th>REF</th>\n",
       "      <th>ALT</th>\n",
       "      <th>QUAL</th>\n",
       "      <th>FILTER</th>\n",
       "      <th>INFO</th>\n",
       "    </tr>\n",
       "  </thead>\n",
       "  <tbody>\n",
       "    <tr>\n",
       "      <th>0</th>\n",
       "      <td>1</td>\n",
       "      <td>865595</td>\n",
       "      <td>CM1613956</td>\n",
       "      <td>A</td>\n",
       "      <td>G</td>\n",
       "      <td>.</td>\n",
       "      <td>.</td>\n",
       "      <td>CLASS=DM?;MUT=ALT;GENE=SAMD11;STRAND=+;DNA=NM_...</td>\n",
       "    </tr>\n",
       "    <tr>\n",
       "      <th>1</th>\n",
       "      <td>1</td>\n",
       "      <td>874491</td>\n",
       "      <td>CM1613954</td>\n",
       "      <td>C</td>\n",
       "      <td>T</td>\n",
       "      <td>.</td>\n",
       "      <td>.</td>\n",
       "      <td>CLASS=DM?;MUT=ALT;GENE=SAMD11;STRAND=+;DNA=NM_...</td>\n",
       "    </tr>\n",
       "    <tr>\n",
       "      <th>2</th>\n",
       "      <td>1</td>\n",
       "      <td>877523</td>\n",
       "      <td>CM1511864</td>\n",
       "      <td>C</td>\n",
       "      <td>G</td>\n",
       "      <td>.</td>\n",
       "      <td>.</td>\n",
       "      <td>CLASS=DM?;MUT=ALT;GENE=SAMD11;STRAND=+;DNA=NM_...</td>\n",
       "    </tr>\n",
       "    <tr>\n",
       "      <th>3</th>\n",
       "      <td>1</td>\n",
       "      <td>879286</td>\n",
       "      <td>CS1613955</td>\n",
       "      <td>A</td>\n",
       "      <td>C</td>\n",
       "      <td>.</td>\n",
       "      <td>.</td>\n",
       "      <td>CLASS=DM?;MUT=ALT;GENE=SAMD11;STRAND=+;DNA=NM_...</td>\n",
       "    </tr>\n",
       "    <tr>\n",
       "      <th>4</th>\n",
       "      <td>1</td>\n",
       "      <td>879375</td>\n",
       "      <td>CM1613953</td>\n",
       "      <td>C</td>\n",
       "      <td>T</td>\n",
       "      <td>.</td>\n",
       "      <td>.</td>\n",
       "      <td>CLASS=DM;MUT=ALT;GENE=SAMD11;STRAND=+;DNA=NM_1...</td>\n",
       "    </tr>\n",
       "    <tr>\n",
       "      <th>...</th>\n",
       "      <td>...</td>\n",
       "      <td>...</td>\n",
       "      <td>...</td>\n",
       "      <td>...</td>\n",
       "      <td>...</td>\n",
       "      <td>...</td>\n",
       "      <td>...</td>\n",
       "      <td>...</td>\n",
       "    </tr>\n",
       "    <tr>\n",
       "      <th>229156</th>\n",
       "      <td>Y</td>\n",
       "      <td>2655774</td>\n",
       "      <td>CD056857</td>\n",
       "      <td>CCCT</td>\n",
       "      <td>C</td>\n",
       "      <td>.</td>\n",
       "      <td>.</td>\n",
       "      <td>CLASS=DM;MUT=ALT;GENE=SRY;STRAND=-;DNA=NM_0031...</td>\n",
       "    </tr>\n",
       "    <tr>\n",
       "      <th>229157</th>\n",
       "      <td>Y</td>\n",
       "      <td>6931938</td>\n",
       "      <td>CM121018</td>\n",
       "      <td>G</td>\n",
       "      <td>C</td>\n",
       "      <td>.</td>\n",
       "      <td>.</td>\n",
       "      <td>CLASS=DM?;MUT=ALT;GENE=TBL1Y;STRAND=+;DNA=NM_0...</td>\n",
       "    </tr>\n",
       "    <tr>\n",
       "      <th>229158</th>\n",
       "      <td>Y</td>\n",
       "      <td>6938305</td>\n",
       "      <td>CM121019</td>\n",
       "      <td>C</td>\n",
       "      <td>T</td>\n",
       "      <td>.</td>\n",
       "      <td>.</td>\n",
       "      <td>CLASS=DM?;MUT=ALT;GENE=TBL1Y;STRAND=+;DNA=NM_0...</td>\n",
       "    </tr>\n",
       "    <tr>\n",
       "      <th>229159</th>\n",
       "      <td>Y</td>\n",
       "      <td>14847658</td>\n",
       "      <td>CD993525</td>\n",
       "      <td>TTAAG</td>\n",
       "      <td>T</td>\n",
       "      <td>.</td>\n",
       "      <td>.</td>\n",
       "      <td>CLASS=DM;MUT=ALT;GENE=USP9Y;STRAND=+;DNA=NM_00...</td>\n",
       "    </tr>\n",
       "    <tr>\n",
       "      <th>229160</th>\n",
       "      <td>Y</td>\n",
       "      <td>16952726</td>\n",
       "      <td>CM086695</td>\n",
       "      <td>A</td>\n",
       "      <td>G</td>\n",
       "      <td>.</td>\n",
       "      <td>.</td>\n",
       "      <td>CLASS=DM;MUT=ALT;GENE=NLGN4Y;STRAND=+;DNA=NM_0...</td>\n",
       "    </tr>\n",
       "  </tbody>\n",
       "</table>\n",
       "<p>229161 rows × 8 columns</p>\n",
       "</div>"
      ],
      "text/plain": [
       "       #CHROM       POS         ID    REF ALT QUAL FILTER  \\\n",
       "0           1    865595  CM1613956      A   G    .      .   \n",
       "1           1    874491  CM1613954      C   T    .      .   \n",
       "2           1    877523  CM1511864      C   G    .      .   \n",
       "3           1    879286  CS1613955      A   C    .      .   \n",
       "4           1    879375  CM1613953      C   T    .      .   \n",
       "...       ...       ...        ...    ...  ..  ...    ...   \n",
       "229156      Y   2655774   CD056857   CCCT   C    .      .   \n",
       "229157      Y   6931938   CM121018      G   C    .      .   \n",
       "229158      Y   6938305   CM121019      C   T    .      .   \n",
       "229159      Y  14847658   CD993525  TTAAG   T    .      .   \n",
       "229160      Y  16952726   CM086695      A   G    .      .   \n",
       "\n",
       "                                                     INFO  \n",
       "0       CLASS=DM?;MUT=ALT;GENE=SAMD11;STRAND=+;DNA=NM_...  \n",
       "1       CLASS=DM?;MUT=ALT;GENE=SAMD11;STRAND=+;DNA=NM_...  \n",
       "2       CLASS=DM?;MUT=ALT;GENE=SAMD11;STRAND=+;DNA=NM_...  \n",
       "3       CLASS=DM?;MUT=ALT;GENE=SAMD11;STRAND=+;DNA=NM_...  \n",
       "4       CLASS=DM;MUT=ALT;GENE=SAMD11;STRAND=+;DNA=NM_1...  \n",
       "...                                                   ...  \n",
       "229156  CLASS=DM;MUT=ALT;GENE=SRY;STRAND=-;DNA=NM_0031...  \n",
       "229157  CLASS=DM?;MUT=ALT;GENE=TBL1Y;STRAND=+;DNA=NM_0...  \n",
       "229158  CLASS=DM?;MUT=ALT;GENE=TBL1Y;STRAND=+;DNA=NM_0...  \n",
       "229159  CLASS=DM;MUT=ALT;GENE=USP9Y;STRAND=+;DNA=NM_00...  \n",
       "229160  CLASS=DM;MUT=ALT;GENE=NLGN4Y;STRAND=+;DNA=NM_0...  \n",
       "\n",
       "[229161 rows x 8 columns]"
      ]
     },
     "execution_count": 8,
     "metadata": {},
     "output_type": "execute_result"
    }
   ],
   "source": [
    "df"
   ]
  },
  {
   "cell_type": "code",
   "execution_count": 9,
   "metadata": {
    "ExecuteTime": {
     "end_time": "2021-07-14T15:19:18.301665Z",
     "start_time": "2021-07-14T15:19:18.292780Z"
    }
   },
   "outputs": [],
   "source": [
    "def getInfo(row):\n",
    "    d = EasyDict()\n",
    "    for vals in row[\"INFO\"].split(\";\"):\n",
    "        k,v = vals.split(\"=\")\n",
    "        d[k] = v\n",
    "    pid, variant = d.PROT.split(\":\")\n",
    "    pid,_ = pid.split(\".\")\n",
    "    _,variant = variant.split(\".\")\n",
    "    reference,location,missense = variant[0],int(variant[1:-1]),variant[-1]\n",
    "    d.pid = pid\n",
    "    d.reference = reference\n",
    "    d.loc = location - 1\n",
    "    d.missense = missense\n",
    "    return d"
   ]
  },
  {
   "cell_type": "code",
   "execution_count": 10,
   "metadata": {
    "ExecuteTime": {
     "end_time": "2021-07-14T15:19:23.561099Z",
     "start_time": "2021-07-14T15:19:23.553220Z"
    }
   },
   "outputs": [
    {
     "data": {
      "text/plain": [
       "{'CLASS': 'DM?',\n",
       " 'MUT': 'ALT',\n",
       " 'GENE': 'SAMD11',\n",
       " 'STRAND': '+',\n",
       " 'DNA': 'NM_152486.2:c.133A>G',\n",
       " 'PROT': 'NP_689699.2:p.K45E',\n",
       " 'DB': 'rs903331232',\n",
       " 'PHEN': '\"Retinitis_pigmentosa\"',\n",
       " 'RANKSCORE': '0.21',\n",
       " 'pid': 'NP_689699',\n",
       " 'reference': 'K',\n",
       " 'loc': 44,\n",
       " 'missense': 'E'}"
      ]
     },
     "execution_count": 10,
     "metadata": {},
     "output_type": "execute_result"
    }
   ],
   "source": [
    " getInfo(df.loc[0])"
   ]
  },
  {
   "cell_type": "code",
   "execution_count": 11,
   "metadata": {
    "ExecuteTime": {
     "end_time": "2021-07-14T15:19:36.720524Z",
     "start_time": "2021-07-14T15:19:36.716007Z"
    }
   },
   "outputs": [],
   "source": [
    "def addSeqToInfo(info):\n",
    "    info.seq = getSequenceFromNPID(info.pid)\n",
    "    return info"
   ]
  },
  {
   "cell_type": "code",
   "execution_count": 12,
   "metadata": {
    "ExecuteTime": {
     "end_time": "2021-07-14T15:20:18.992146Z",
     "start_time": "2021-07-14T15:19:59.462109Z"
    }
   },
   "outputs": [
    {
     "data": {
      "application/vnd.jupyter.widget-view+json": {
       "model_id": "9464b4a7221345648abf29f65fabc548",
       "version_major": 2,
       "version_minor": 0
      },
      "text/plain": [
       "  0%|          | 0/229161 [00:00<?, ?it/s]"
      ]
     },
     "metadata": {},
     "output_type": "display_data"
    }
   ],
   "source": [
    "protein_ids = set()\n",
    "skipped = []\n",
    "for i,r in tqdm(df.iterrows(),total=df.shape[0]):\n",
    "    try:\n",
    "        info = getInfo(r)\n",
    "        protein_ids.add(info.pid)\n",
    "    except:\n",
    "        skipped.append(i)"
   ]
  },
  {
   "cell_type": "code",
   "execution_count": 14,
   "metadata": {
    "ExecuteTime": {
     "end_time": "2021-07-14T15:23:09.722620Z",
     "start_time": "2021-07-14T15:23:09.718700Z"
    }
   },
   "outputs": [],
   "source": [
    "sequences = EasyDict()"
   ]
  },
  {
   "cell_type": "code",
   "execution_count": 15,
   "metadata": {
    "ExecuteTime": {
     "end_time": "2021-07-14T16:24:25.269855Z",
     "start_time": "2021-07-14T15:23:36.490339Z"
    }
   },
   "outputs": [
    {
     "data": {
      "application/vnd.jupyter.widget-view+json": {
       "model_id": "f0a5f86d23e7411fb2d881372dfd00bb",
       "version_major": 2,
       "version_minor": 0
      },
      "text/plain": [
       "  0%|          | 0/9234 [00:00<?, ?it/s]"
      ]
     },
     "metadata": {},
     "output_type": "display_data"
    }
   ],
   "source": [
    "for npid in tqdm(protein_ids):\n",
    "    sequences[npid] = getSequenceFromNPID(npid)"
   ]
  },
  {
   "cell_type": "code",
   "execution_count": 17,
   "metadata": {
    "ExecuteTime": {
     "end_time": "2021-07-14T18:19:17.241066Z",
     "start_time": "2021-07-14T18:19:17.161828Z"
    }
   },
   "outputs": [],
   "source": [
    "pickle.dump(sequences, open(\"/ssdata/hgmd/sequences.pkl\",\"wb\"))"
   ]
  },
  {
   "cell_type": "code",
   "execution_count": null,
   "metadata": {},
   "outputs": [],
   "source": []
  }
 ],
 "metadata": {
  "kernelspec": {
   "display_name": "bio",
   "language": "python",
   "name": "bio"
  },
  "language_info": {
   "codemirror_mode": {
    "name": "ipython",
    "version": 3
   },
   "file_extension": ".py",
   "mimetype": "text/x-python",
   "name": "python",
   "nbconvert_exporter": "python",
   "pygments_lexer": "ipython3",
   "version": "3.8.5"
  }
 },
 "nbformat": 4,
 "nbformat_minor": 4
}
