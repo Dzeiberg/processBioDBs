{
 "cells": [
  {
   "cell_type": "code",
   "execution_count": null,
   "id": "d1a72718",
   "metadata": {},
   "outputs": [],
   "source": [
    "from IPython.core.display import display, HTML\n",
    "display(HTML(\"<style>.container { width:100% !important; }</style>\"))\n"
   ]
  },
  {
   "cell_type": "code",
   "execution_count": null,
   "id": "53f781e5",
   "metadata": {},
   "outputs": [],
   "source": []
  },
  {
   "cell_type": "code",
   "execution_count": null,
   "id": "047e79bc",
   "metadata": {},
   "outputs": [],
   "source": [
    "import numpy as np\n",
    "import pandas as pd\n",
    "from tqdm.notebook import tqdm"
   ]
  },
  {
   "cell_type": "code",
   "execution_count": null,
   "id": "e86bf039",
   "metadata": {},
   "outputs": [],
   "source": [
    "aaTable = {\"Ala\":\"A\",\n",
    "           \"Arg\": \"R\",\n",
    "           \"Asn\": \"N\",\n",
    "           \"Asp\": \"D\",\n",
    "           \"Cys\": \"C\",\n",
    "           \"Gln\": \"Q\",\n",
    "           \"Glu\": \"E\",\n",
    "           \"Gly\": \"G\",\n",
    "           \"His\": \"H\",\n",
    "           \"Ile\": \"I\",\n",
    "           \"Leu\": \"L\",\n",
    "           \"Lys\": \"K\",\n",
    "           \"Met\": \"M\",\n",
    "           \"Phe\": \"F\",\n",
    "           \"Pro\": \"P\",\n",
    "           \"Ser\": \"S\",\n",
    "           \"Thr\": \"T\",\n",
    "           \"Trp\": \"W\",\n",
    "           \"Tyr\": \"Y\",\n",
    "           \"Val\": \"V\"}"
   ]
  },
  {
   "cell_type": "code",
   "execution_count": null,
   "id": "d7362cd6",
   "metadata": {},
   "outputs": [],
   "source": [
    "import pickle"
   ]
  },
  {
   "cell_type": "code",
   "execution_count": null,
   "id": "42f5b720",
   "metadata": {},
   "outputs": [],
   "source": [
    "npid2seq = pickle.load(open(\"/data/projects/processBio/ncbi/npid2seq.pkl\",\"rb\"))\n",
    "# npid2seq = pickle.load(open(\"/ssdata/projects\"))"
   ]
  },
  {
   "cell_type": "markdown",
   "id": "0feec1fe",
   "metadata": {},
   "source": [
    "# gnomAD"
   ]
  },
  {
   "cell_type": "code",
   "execution_count": null,
   "id": "8d81fdc2",
   "metadata": {},
   "outputs": [],
   "source": [
    "df = pd.read_csv(\"/data/projects/processBio/gnomad/gnomad.exomes.r2.1.1.sites.vcf.vep\",\n",
    "                 header=93,delimiter=\"\\t\")"
   ]
  },
  {
   "cell_type": "code",
   "execution_count": null,
   "id": "b49c3c7b",
   "metadata": {},
   "outputs": [],
   "source": [
    "df"
   ]
  },
  {
   "cell_type": "markdown",
   "id": "9857e579",
   "metadata": {},
   "source": [
    "Originally 103,321,415 variants"
   ]
  },
  {
   "cell_type": "code",
   "execution_count": null,
   "id": "c246e0ef",
   "metadata": {},
   "outputs": [],
   "source": [
    "df = df[df.Consequence.str.contains(\"missense\")]"
   ]
  },
  {
   "cell_type": "code",
   "execution_count": null,
   "id": "39b32b13",
   "metadata": {},
   "outputs": [],
   "source": [
    "df"
   ]
  },
  {
   "cell_type": "markdown",
   "id": "8c40a123",
   "metadata": {},
   "source": [
    "1,652,025 missense variants"
   ]
  },
  {
   "cell_type": "code",
   "execution_count": null,
   "id": "0d099a48",
   "metadata": {},
   "outputs": [],
   "source": [
    "df = df.assign(info=df.Extra.apply(lambda s: dict([l.split(\"=\") for l in s.split(\";\")])))"
   ]
  },
  {
   "cell_type": "code",
   "execution_count": null,
   "id": "6e336bed",
   "metadata": {},
   "outputs": [],
   "source": [
    "df.Feature.unique().shape"
   ]
  },
  {
   "cell_type": "code",
   "execution_count": null,
   "id": "0c6005ee",
   "metadata": {},
   "outputs": [],
   "source": [
    "from ensembl_rest import sequence_id, lookup, symbol_lookup, HTTPError\n",
    "def getSequenceFromTranscript(transcriptID):\n",
    "    return sequence_id(lookup(transcriptID,\n",
    "                              params={\"expand\":True})[\"Translation\"][\"id\"])[\"seq\"]"
   ]
  },
  {
   "cell_type": "code",
   "execution_count": null,
   "id": "28a98f67",
   "metadata": {},
   "outputs": [],
   "source": [
    "transcripts = df.Feature.unique()"
   ]
  },
  {
   "cell_type": "code",
   "execution_count": null,
   "id": "0c8e3634",
   "metadata": {},
   "outputs": [],
   "source": [
    "gnomadTranscriptToSeq = {}\n",
    "for t in tqdm(transcripts):\n",
    "    gnomadTranscriptToSeq[t] = getSequenceFromTranscript(t)"
   ]
  },
  {
   "cell_type": "code",
   "execution_count": null,
   "id": "b3f39042",
   "metadata": {},
   "outputs": [],
   "source": [
    "import pickle"
   ]
  },
  {
   "cell_type": "code",
   "execution_count": null,
   "id": "6feff3e6",
   "metadata": {},
   "outputs": [],
   "source": [
    "pickle.dump(gnomadTranscriptToSeq, open(\"/data/projects/processBio/gnomad/transcriptToSeq.pkl\",\"wb\"))"
   ]
  },
  {
   "cell_type": "code",
   "execution_count": null,
   "id": "0e55ae33",
   "metadata": {},
   "outputs": [],
   "source": [
    "gnomadTranscriptToSeq = pickle.load(open(\"/data/projects/processBio/gnomad/transcriptToSeq.pkl\",\"rb\"))"
   ]
  },
  {
   "cell_type": "code",
   "execution_count": null,
   "id": "b9b4e313",
   "metadata": {},
   "outputs": [],
   "source": [
    "def makeGnomADSeq(row):\n",
    "    og,var = row.Amino_acids[0], row.Amino_acids[-1]\n",
    "    loc = int(row[\"Protein_position\"]) - 1\n",
    "    refSeq= gnomadTranscriptToSeq[row[\"Feature\"]]\n",
    "    if len(refSeq) <= loc:\n",
    "        print(\"invalid seq len\")\n",
    "        return \"\"\n",
    "    if refSeq[loc] == og:\n",
    "        return refSeq[:loc] + var + refSeq[loc+1:]\n",
    "    print(\"invalid reference AA\")\n",
    "    return \"\""
   ]
  },
  {
   "cell_type": "code",
   "execution_count": null,
   "id": "3629bf0e",
   "metadata": {},
   "outputs": [],
   "source": [
    "df = df.assign(seq=df.apply(lambda row: makeGnomADSeq(row),axis=1))"
   ]
  },
  {
   "cell_type": "code",
   "execution_count": null,
   "id": "46f41b9d",
   "metadata": {},
   "outputs": [],
   "source": [
    "df[df.seq != \"\"]"
   ]
  },
  {
   "cell_type": "code",
   "execution_count": null,
   "id": "4e182672",
   "metadata": {},
   "outputs": [],
   "source": [
    "df.to_pickle(\"/data/projects/processBio/gnomad/df.reprocessed.pd.pkl\")"
   ]
  },
  {
   "cell_type": "code",
   "execution_count": null,
   "id": "ece8bc79",
   "metadata": {},
   "outputs": [],
   "source": [
    "df"
   ]
  },
  {
   "cell_type": "code",
   "execution_count": null,
   "id": "3ccbd67d",
   "metadata": {},
   "outputs": [],
   "source": []
  },
  {
   "cell_type": "markdown",
   "id": "baad7fd2",
   "metadata": {},
   "source": [
    "# HGMD"
   ]
  },
  {
   "cell_type": "code",
   "execution_count": null,
   "id": "e725c9da",
   "metadata": {},
   "outputs": [],
   "source": [
    "hgmd = pd.read_csv(\"/data/projects/processBio/hgmd/HGMD_PRO_2019_1_hg19.vcf\",delimiter=\"\\t\",header=14)"
   ]
  },
  {
   "cell_type": "code",
   "execution_count": null,
   "id": "47b2a0fa",
   "metadata": {},
   "outputs": [],
   "source": [
    "hgmd = hgmd.assign(INFO = hgmd.INFO.apply(lambda s: dict([l.split(\"=\") for l in s.split(\";\")])))"
   ]
  },
  {
   "cell_type": "code",
   "execution_count": null,
   "id": "729ff960",
   "metadata": {},
   "outputs": [],
   "source": [
    "hgmd"
   ]
  },
  {
   "cell_type": "markdown",
   "id": "b820e3ae",
   "metadata": {},
   "source": [
    "Originally 229,161 HGMD variants"
   ]
  },
  {
   "cell_type": "code",
   "execution_count": null,
   "id": "1b3b38fc",
   "metadata": {},
   "outputs": [],
   "source": [
    "hgmd = hgmd[hgmd.INFO.apply(lambda i: i[\"CLASS\"] == \"DM\")]"
   ]
  },
  {
   "cell_type": "code",
   "execution_count": null,
   "id": "305a1bfb",
   "metadata": {},
   "outputs": [],
   "source": [
    "hgmd"
   ]
  },
  {
   "cell_type": "markdown",
   "id": "2c30c61d",
   "metadata": {},
   "source": [
    "180,092 variants with class DM"
   ]
  },
  {
   "cell_type": "code",
   "execution_count": null,
   "id": "58407d73",
   "metadata": {},
   "outputs": [],
   "source": [
    "from Bio import Entrez\n",
    "Entrez.email = 'zeiberg.d2@northeastern.edu'\n",
    "\n",
    "def getSequenceFromNPID(npid):\n",
    "    \"Return the protein sequence from \"\n",
    "    handle = Entrez.efetch(db=\"protein\",id=npid, rettype=\"fasta\", retmode=\"text\")\n",
    "    lines = handle.readlines()\n",
    "    lines = [l.strip() for l in lines]\n",
    "    return \"\".join(lines[1:])"
   ]
  },
  {
   "cell_type": "code",
   "execution_count": null,
   "id": "f0ac94f1",
   "metadata": {},
   "outputs": [],
   "source": [
    "def getProt(i):\n",
    "    if \"PROT\" in i:\n",
    "        return i[\"PROT\"][:i[\"PROT\"].find(\":\")]\n",
    "    return \"\"\n",
    "\n",
    "def hasProt(i):\n",
    "    if \"PROT\" in i:\n",
    "        return 1\n",
    "    return 0"
   ]
  },
  {
   "cell_type": "code",
   "execution_count": null,
   "id": "c41fe99b",
   "metadata": {},
   "outputs": [],
   "source": [
    "def getHGMDVariantInfo(i):\n",
    "    if \"PROT\" not in i:\n",
    "        return (np.nan, np.nan)\n",
    "    npid, variant = i[\"PROT\"].split(\":\")\n",
    "    variant = variant[2:]\n",
    "    og,loc,var = variant[0], variant[1:-1], variant[-1]\n",
    "    if og not in aaTable.values() or var not in aaTable.values():\n",
    "        return (np.nan, np.nan)\n",
    "    try:\n",
    "        loc = int(loc) - 1\n",
    "    except ValueError:\n",
    "        return (np.nan, np.nan)\n",
    "    return (npid, (og,loc,var))"
   ]
  },
  {
   "cell_type": "code",
   "execution_count": null,
   "id": "4a6283f1",
   "metadata": {},
   "outputs": [],
   "source": [
    "hgmdVariantInfo = hgmd.INFO.apply(lambda i: getHGMDVariantInfo(i))"
   ]
  },
  {
   "cell_type": "code",
   "execution_count": null,
   "id": "238366f3",
   "metadata": {},
   "outputs": [],
   "source": [
    "hgmd = hgmd.assign(variantInfo = hgmdVariantInfo[hgmdVariantInfo.apply(lambda t: not pd.isna(t[0]))])"
   ]
  },
  {
   "cell_type": "code",
   "execution_count": null,
   "id": "af0cdd45",
   "metadata": {},
   "outputs": [],
   "source": [
    "hgmd"
   ]
  },
  {
   "cell_type": "code",
   "execution_count": null,
   "id": "d2d745f7",
   "metadata": {},
   "outputs": [],
   "source": [
    "hgmd[~hgmd.variantInfo.isna()]"
   ]
  },
  {
   "cell_type": "code",
   "execution_count": null,
   "id": "10002edb",
   "metadata": {},
   "outputs": [],
   "source": [
    "def getHGMDNPIDs(info):\n",
    "    if not pd.isna(info):\n",
    "        npid,_ = info\n",
    "        if npid not in npid2seq:\n",
    "            npid2seq[npid] = getSequenceFromNPID(npid)\n",
    "    "
   ]
  },
  {
   "cell_type": "code",
   "execution_count": null,
   "id": "967195e1",
   "metadata": {},
   "outputs": [],
   "source": [
    "for info in tqdm(hgmd.variantInfo):\n",
    "    getHGMDNPIDs(info)"
   ]
  },
  {
   "cell_type": "code",
   "execution_count": null,
   "id": "2c156c9c",
   "metadata": {},
   "outputs": [],
   "source": [
    "def makeHGMDSeq(info):\n",
    "    if pd.isna(info):\n",
    "        return \"\"\n",
    "    npid, (og,loc,var) = info\n",
    "    refSeq = npid2seq[npid]\n",
    "    if len(refSeq) < loc:\n",
    "        return \"\"\n",
    "    if refSeq[loc] != og:\n",
    "        return \"\"\n",
    "    return refSeq[:loc] + var + refSeq[loc+1:]"
   ]
  },
  {
   "cell_type": "code",
   "execution_count": null,
   "id": "ede7a453",
   "metadata": {},
   "outputs": [],
   "source": [
    "hgmdSeqs = []\n",
    "for info in tqdm(hgmd.variantInfo):\n",
    "    hgmdSeqs.append(makeHGMDSeq(info))"
   ]
  },
  {
   "cell_type": "code",
   "execution_count": null,
   "id": "71f70681",
   "metadata": {},
   "outputs": [],
   "source": [
    "hgmd = hgmd.assign(seq=hgmdSeqs)"
   ]
  },
  {
   "cell_type": "code",
   "execution_count": null,
   "id": "fa86e99c",
   "metadata": {},
   "outputs": [],
   "source": [
    "hgmd[hgmd.seq != \"\"]"
   ]
  },
  {
   "cell_type": "markdown",
   "id": "cdc92ce6",
   "metadata": {},
   "source": [
    "# Clinvar"
   ]
  },
  {
   "cell_type": "code",
   "execution_count": null,
   "id": "add80b97",
   "metadata": {},
   "outputs": [],
   "source": [
    "summary = pd.read_csv(\"/data/projects/processBio/clinvar/clinvar/variant_summary.txt\",delimiter=\"\\t\")\n"
   ]
  },
  {
   "cell_type": "code",
   "execution_count": null,
   "id": "87ab8e9f",
   "metadata": {},
   "outputs": [],
   "source": [
    "summary = summary[(summary.Type == \"single nucleotide variant\") & (summary.ReviewStatus.isin([\"criteria provided, single submitter\",\n",
    "              \"criteria provided, multiple submitters, no conflicts\",\n",
    "              \"reviewed by expert panel\",\n",
    "              \"practice guideline\",\n",
    "              ])) & (summary.Assembly == \"GRCh38\")]"
   ]
  },
  {
   "cell_type": "code",
   "execution_count": null,
   "id": "b56e00fa",
   "metadata": {},
   "outputs": [],
   "source": [
    "summary = summary.assign(nmid=summary.Name.apply(lambda n: n[:n.find(\"(\")]))"
   ]
  },
  {
   "cell_type": "code",
   "execution_count": null,
   "id": "77845f99",
   "metadata": {},
   "outputs": [],
   "source": [
    "summary"
   ]
  },
  {
   "cell_type": "markdown",
   "id": "af908e58",
   "metadata": {},
   "source": [
    "767,700 single nucleotide variants with reference genome GRCh38 with one-star review status"
   ]
  },
  {
   "cell_type": "code",
   "execution_count": null,
   "id": "75c61eeb",
   "metadata": {},
   "outputs": [],
   "source": [
    "g2rs = pd.read_csv(\"/data/projects/processBio/ncbi/gene2refseq\",delimiter=\"\\t\")"
   ]
  },
  {
   "cell_type": "code",
   "execution_count": null,
   "id": "bbd2ba88",
   "metadata": {},
   "outputs": [],
   "source": [
    "g2rs = g2rs[(g2rs.status == \"REVIEWED\") \n",
    "            & (g2rs.assembly == \"Reference GRCh38.p13 Primary Assembly\")\n",
    "            & (g2rs[\"protein_accession.version\"] != \"-\")]"
   ]
  },
  {
   "cell_type": "code",
   "execution_count": null,
   "id": "ab71fbbc",
   "metadata": {},
   "outputs": [],
   "source": [
    "nmid2npid = {}\n",
    "for nmid in tqdm(summary.nmid.unique()):\n",
    "    nmid2npid[nmid] = g2rs[g2rs[\"RNA_nucleotide_accession.version\"] == nmid][\"protein_accession.version\"].unique()"
   ]
  },
  {
   "cell_type": "code",
   "execution_count": null,
   "id": "45028af4",
   "metadata": {},
   "outputs": [],
   "source": [
    "summary = summary.assign(npid=summary.nmid.apply(lambda n: nmid2npid[n]))"
   ]
  },
  {
   "cell_type": "code",
   "execution_count": null,
   "id": "007a6e7d",
   "metadata": {},
   "outputs": [],
   "source": [
    "\n",
    "for npid in tqdm(set([s[0] for s in summary.npid.values if len(s)])):\n",
    "    if npid not in npid2seq:\n",
    "        try:\n",
    "            npid2seq[npid] = getSequenceFromNPID(npid)\n",
    "        except Entrez.HTTPError:\n",
    "            raise"
   ]
  },
  {
   "cell_type": "code",
   "execution_count": null,
   "id": "4693f0c0",
   "metadata": {},
   "outputs": [],
   "source": [
    "pickle.dump(npid2seq,open(\"/data/projects/processBio/ncbi/npid2seq.pkl\",\"wb\"))"
   ]
  },
  {
   "cell_type": "code",
   "execution_count": null,
   "id": "d417da23",
   "metadata": {},
   "outputs": [],
   "source": [
    "summary"
   ]
  },
  {
   "cell_type": "code",
   "execution_count": null,
   "id": "89f10617",
   "metadata": {},
   "outputs": [],
   "source": [
    "summary = summary.assign(npid=summary[summary.npid.str.len() != 0].npid.apply(lambda n: n[0] if len(n) else np.nan))"
   ]
  },
  {
   "cell_type": "code",
   "execution_count": null,
   "id": "517f9ed4",
   "metadata": {},
   "outputs": [],
   "source": [
    "summary[~summary.npid.isna()]"
   ]
  },
  {
   "cell_type": "markdown",
   "id": "675c28d6",
   "metadata": {},
   "source": [
    "623,532 variants found a matching protein id"
   ]
  },
  {
   "cell_type": "code",
   "execution_count": null,
   "id": "3ee92685",
   "metadata": {},
   "outputs": [],
   "source": [
    "summary[~summary.npid.isna()].ClinicalSignificance.value_counts()"
   ]
  },
  {
   "cell_type": "code",
   "execution_count": null,
   "id": "bab1d35b",
   "metadata": {},
   "outputs": [],
   "source": [
    "clinvar = summary[(~summary.npid.isna()) & (summary.ClinicalSignificance.isin([\"Likely benign\",\n",
    "                                                                     \"Benign\", \n",
    "                                                                     \"Pathogenic\",\n",
    "                                                                     \"Likely pathogenic\",\n",
    "                                                                     \"Benign/Likely benign\",\n",
    "                                                                     \"Pathogenic/Likely pathogenic\"]))]"
   ]
  },
  {
   "cell_type": "code",
   "execution_count": null,
   "id": "a7d71bbf",
   "metadata": {},
   "outputs": [],
   "source": [
    "clinvar.loc[33]"
   ]
  },
  {
   "cell_type": "markdown",
   "id": "ee1ed745",
   "metadata": {},
   "source": [
    "328,243 variants have matching protein and valid status"
   ]
  },
  {
   "cell_type": "code",
   "execution_count": null,
   "id": "001c5694",
   "metadata": {},
   "outputs": [],
   "source": [
    "def extractVariantFromClinvar(n):\n",
    "    if n.rfind(\"(p.\") != -1:\n",
    "        variant = n[n.rfind(\"(p.\") + 3 : -1]\n",
    "#         print(variant)\n",
    "        og,loc,var = variant[:3], variant[3:-3], variant[-3:]\n",
    "        try:\n",
    "            loc = int(loc) -1\n",
    "        except ValueError:\n",
    "            return np.nan, np.nan,np.nan\n",
    "        if variant[-1] == \"=\":\n",
    "#             print(\"variant is =\")\n",
    "            return np.nan, np.nan,np.nan\n",
    "        return og,loc,var\n",
    "    return np.nan, np.nan, np.nan"
   ]
  },
  {
   "cell_type": "code",
   "execution_count": null,
   "id": "adfeeaf2",
   "metadata": {},
   "outputs": [],
   "source": [
    "clinvar = clinvar.assign(variantInfo=clinvar.Name.apply(lambda n: extractVariantFromClinvar(n)))"
   ]
  },
  {
   "cell_type": "code",
   "execution_count": null,
   "id": "e7d21131",
   "metadata": {},
   "outputs": [],
   "source": [
    "# clinvar = clinvar[clinvar.variantInfo.apply(lambda t: not pd.isna(t[0]))]\n",
    "clinvar[clinvar.variantInfo.apply(lambda t: pd.isna(t[0]))].RCVaccession"
   ]
  },
  {
   "cell_type": "code",
   "execution_count": null,
   "id": "b0bd8f9b",
   "metadata": {},
   "outputs": [],
   "source": [
    "clinvar"
   ]
  },
  {
   "cell_type": "markdown",
   "id": "bcf18e72",
   "metadata": {},
   "source": [
    "73,371 variants have matching protein, valid status, and have alternate residue != \"=\""
   ]
  },
  {
   "cell_type": "code",
   "execution_count": null,
   "id": "273b09eb",
   "metadata": {},
   "outputs": [],
   "source": [
    "clinvar.ClinicalSignificance.value_counts()"
   ]
  },
  {
   "cell_type": "code",
   "execution_count": null,
   "id": "21a592e5",
   "metadata": {},
   "outputs": [],
   "source": [
    "clinvar"
   ]
  },
  {
   "cell_type": "code",
   "execution_count": null,
   "id": "f4d5f508",
   "metadata": {},
   "outputs": [],
   "source": [
    "def makeClinvarSeq(row):\n",
    "    npid = row[\"npid\"]\n",
    "    refSeq = npid2seq[npid]\n",
    "    og,loc,var = row[\"variantInfo\"]\n",
    "    if og not in aaTable or var not in aaTable:\n",
    "        if var != \"Ter\":\n",
    "            print('invalid parsing of variant... ', og, loc, var)\n",
    "        return \"\"\n",
    "    og = aaTable[og]\n",
    "    var = aaTable[var]\n",
    "    if len(refSeq) <= loc:\n",
    "        print('invalid seq len')\n",
    "        return \"\"\n",
    "    if refSeq[loc] != og:\n",
    "        print('invalid ref AA')\n",
    "        return \"\"\n",
    "    return refSeq[:loc] + var + refSeq[loc+1:]"
   ]
  },
  {
   "cell_type": "code",
   "execution_count": null,
   "id": "21456bc4",
   "metadata": {},
   "outputs": [],
   "source": [
    "clinvar = clinvar.assign(seq = clinvar.apply(lambda row: makeClinvarSeq(row),axis=1))"
   ]
  },
  {
   "cell_type": "code",
   "execution_count": null,
   "id": "9b28cae6",
   "metadata": {},
   "outputs": [],
   "source": [
    "clinvar[clinvar.seq != \"\"]"
   ]
  },
  {
   "cell_type": "markdown",
   "id": "db083351",
   "metadata": {},
   "source": [
    "Successfully retreived 55,087 variants"
   ]
  },
  {
   "cell_type": "markdown",
   "id": "86e18776",
   "metadata": {},
   "source": [
    "# Combine Labeled Data"
   ]
  },
  {
   "cell_type": "code",
   "execution_count": null,
   "id": "163350ad",
   "metadata": {},
   "outputs": [],
   "source": [
    "hgmd = hgmd.assign(ClinSigSimple=1)\n",
    "hgmd = hgmd.assign(db=\"hgmd\")"
   ]
  },
  {
   "cell_type": "code",
   "execution_count": null,
   "id": "0819373c",
   "metadata": {},
   "outputs": [],
   "source": [
    "clinvar = clinvar.assign(db=\"clinvar\")"
   ]
  },
  {
   "cell_type": "code",
   "execution_count": null,
   "id": "55f4fb7d",
   "metadata": {},
   "outputs": [],
   "source": [
    "hgmd = hgmd.assign(npid = hgmd.variantInfo.apply(lambda i: i[0] if not pd.isna(i) else np.nan))"
   ]
  },
  {
   "cell_type": "code",
   "execution_count": null,
   "id": "43870ed0",
   "metadata": {},
   "outputs": [],
   "source": [
    "labeledDF = pd.concat((hgmd[hgmd.seq != \"\"][[\"ClinSigSimple\", \"seq\", \"npid\", \"db\",\"variantInfo\"]],\n",
    "  clinvar[clinvar.seq != \"\"][[\"npid\", \"seq\", \"ClinSigSimple\", \"db\",\"variantInfo\"]]))"
   ]
  },
  {
   "cell_type": "code",
   "execution_count": null,
   "id": "8656f534",
   "metadata": {},
   "outputs": [],
   "source": [
    "labeledDF"
   ]
  },
  {
   "cell_type": "code",
   "execution_count": null,
   "id": "21c52f13",
   "metadata": {},
   "outputs": [],
   "source": [
    "labeledDF.npid.unique().shape"
   ]
  },
  {
   "cell_type": "code",
   "execution_count": null,
   "id": "e313545c",
   "metadata": {},
   "outputs": [],
   "source": [
    "labeledDF.ClinSigSimple.value_counts()"
   ]
  },
  {
   "cell_type": "code",
   "execution_count": null,
   "id": "96fdcc87",
   "metadata": {},
   "outputs": [],
   "source": [
    "labeledDF.groupby(\"npid\").count().seq.mean()"
   ]
  },
  {
   "cell_type": "code",
   "execution_count": null,
   "id": "8c04e2cf",
   "metadata": {},
   "outputs": [],
   "source": [
    "(labeledDF.groupby(\"npid\").count() > 100).sum()"
   ]
  },
  {
   "cell_type": "code",
   "execution_count": null,
   "id": "cfd75d6c",
   "metadata": {},
   "outputs": [],
   "source": [
    "import torch\n",
    "import esm\n",
    "import os\n",
    "import torch.nn as nn\n",
    "os.environ['CUDA_DEVICE_ORDER']='PCI_BUS_ID'\n",
    "os.environ['CUDA_VISIBLE_DEVICES']='1,2,3'\n",
    "\n",
    "\n",
    "model, alphabet = esm.pretrained.esm1b_t33_650M_UR50S()\n",
    "batch_converter = alphabet.get_batch_converter()"
   ]
  },
  {
   "cell_type": "code",
   "execution_count": null,
   "id": "c1881024",
   "metadata": {},
   "outputs": [],
   "source": [
    "model = model.to(\"cuda:2\")"
   ]
  },
  {
   "cell_type": "code",
   "execution_count": null,
   "id": "e01ba75c",
   "metadata": {},
   "outputs": [],
   "source": [
    "from tqdm.notebook import trange"
   ]
  },
  {
   "cell_type": "code",
   "execution_count": null,
   "id": "00d12e23",
   "metadata": {},
   "outputs": [],
   "source": [
    "def embedSeq(Data):\n",
    "    BATCHSIZE=1\n",
    "    representations = []\n",
    "    for start in trange(0,len(Data),BATCHSIZE):\n",
    "        batch_labels, batch_strs, batch_tokens = batch_converter(Data[start : start + BATCHSIZE])\n",
    "        # Extract per-residue representations (on CPU)\n",
    "        with torch.no_grad():\n",
    "            results = model(batch_tokens.to(\"cuda:2\"), repr_layers=[33], return_contacts=True)\n",
    "        token_representations = results[\"representations\"][33].cpu()\n",
    "        del results, batch_labels, batch_strs, batch_tokens\n",
    "        representations.append(token_representations[0,1:-1].cpu().numpy())\n",
    "        del token_representations\n",
    "    return representations"
   ]
  },
  {
   "cell_type": "code",
   "execution_count": null,
   "id": "22cd561f",
   "metadata": {},
   "outputs": [],
   "source": [
    "def prepSeq(row):\n",
    "    if type(row[\"variantInfo\"][1]) == tuple:\n",
    "        loc= row[\"variantInfo\"][1][1]\n",
    "    else:\n",
    "        loc = row[\"variantInfo\"][1]\n",
    "    seq = row[\"seq\"]\n",
    "    return seq[max(0,loc-510) : min(len(seq), loc + 510)]"
   ]
  },
  {
   "cell_type": "code",
   "execution_count": null,
   "id": "b046b961",
   "metadata": {},
   "outputs": [],
   "source": [
    "labeledDF = labeledDF.assign(preppedSeq = labeledDF.apply(lambda row: prepSeq(row),axis=1))"
   ]
  },
  {
   "cell_type": "code",
   "execution_count": null,
   "id": "1098556f",
   "metadata": {},
   "outputs": [],
   "source": [
    "df.head()"
   ]
  },
  {
   "cell_type": "code",
   "execution_count": null,
   "id": "50e69763",
   "metadata": {},
   "outputs": [],
   "source": [
    "def prepGnomad(row):\n",
    "    loc = int(row[\"Protein_position\"])-1\n",
    "    seq = row[\"seq\"]\n",
    "    return seq[max(0,loc-510) : min(len(seq), loc + 510)]"
   ]
  },
  {
   "cell_type": "code",
   "execution_count": null,
   "id": "f0dba784",
   "metadata": {},
   "outputs": [],
   "source": [
    "df= df.assign(preppedSeq=df.apply(lambda row: prepGnomad(row),axis=1))"
   ]
  },
  {
   "cell_type": "code",
   "execution_count": null,
   "id": "2f9d1752",
   "metadata": {},
   "outputs": [],
   "source": [
    "from tqdm.notebook import trange"
   ]
  },
  {
   "cell_type": "code",
   "execution_count": null,
   "id": "8de0f204",
   "metadata": {},
   "outputs": [],
   "source": [
    "GnomadData = list(df.preppedSeq.items())"
   ]
  },
  {
   "cell_type": "code",
   "execution_count": null,
   "id": "e3680014",
   "metadata": {},
   "outputs": [],
   "source": [
    "gnomadEmbeddings = embedSeq(GnomadData)"
   ]
  },
  {
   "cell_type": "code",
   "execution_count": null,
   "id": "4ebe3224",
   "metadata": {},
   "outputs": [],
   "source": [
    "df = df.assign(embedding=gnomadEmbeddings)"
   ]
  },
  {
   "cell_type": "code",
   "execution_count": null,
   "id": "857d0313",
   "metadata": {},
   "outputs": [],
   "source": [
    "df.to_pickle('/data/projects/processBio/gnomadReprocessed.pkl')\n"
   ]
  },
  {
   "cell_type": "code",
   "execution_count": null,
   "id": "5260ed7a",
   "metadata": {},
   "outputs": [],
   "source": [
    "Data = list(labeledDF.preppedSeq.items())"
   ]
  },
  {
   "cell_type": "code",
   "execution_count": null,
   "id": "6bbdb856",
   "metadata": {},
   "outputs": [],
   "source": [
    "embeddings = embedSeq(Data)"
   ]
  },
  {
   "cell_type": "code",
   "execution_count": null,
   "id": "a471409b",
   "metadata": {},
   "outputs": [],
   "source": [
    "embeddings"
   ]
  },
  {
   "cell_type": "code",
   "execution_count": null,
   "id": "3976e350",
   "metadata": {},
   "outputs": [],
   "source": [
    "labeledDF = labeledDF.assign(embedding=embeddings)"
   ]
  },
  {
   "cell_type": "code",
   "execution_count": null,
   "id": "99c94b40",
   "metadata": {},
   "outputs": [],
   "source": [
    "labeledDF"
   ]
  },
  {
   "cell_type": "code",
   "execution_count": null,
   "id": "2142ab70",
   "metadata": {},
   "outputs": [],
   "source": [
    "import pickle"
   ]
  },
  {
   "cell_type": "code",
   "execution_count": null,
   "id": "388c3495",
   "metadata": {},
   "outputs": [],
   "source": [
    "labeledDF = labeledDF.assign(vec=labeledDF.embedding.apply(lambda e: e.mean(0)))"
   ]
  },
  {
   "cell_type": "code",
   "execution_count": null,
   "id": "aabc2a84",
   "metadata": {},
   "outputs": [],
   "source": [
    "labeledDF.to_pickle(\"/data/projects/processBio/labeledDFReprocessed.pkl\")"
   ]
  },
  {
   "cell_type": "code",
   "execution_count": null,
   "id": "010dc93c",
   "metadata": {},
   "outputs": [],
   "source": [
    "labeledDF.ClinSigSimple.value_counts()"
   ]
  },
  {
   "cell_type": "code",
   "execution_count": null,
   "id": "dce9fc8c",
   "metadata": {},
   "outputs": [],
   "source": [
    "labeledDF.groupby(\"npid\").ClinSigSimple.value_counts().describe()"
   ]
  },
  {
   "cell_type": "code",
   "execution_count": null,
   "id": "5e053f07",
   "metadata": {},
   "outputs": [],
   "source": [
    "ls /data/projects/processBio/"
   ]
  },
  {
   "cell_type": "code",
   "execution_count": null,
   "id": "b5caa5d6",
   "metadata": {},
   "outputs": [],
   "source": []
  }
 ],
 "metadata": {
  "language_info": {
   "name": "python",
   "pygments_lexer": "ipython3"
  }
 },
 "nbformat": 4,
 "nbformat_minor": 5
}
