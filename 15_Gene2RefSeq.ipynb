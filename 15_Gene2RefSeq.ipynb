{
 "cells": [
  {
   "cell_type": "code",
   "execution_count": null,
   "id": "7360ac3e",
   "metadata": {},
   "outputs": [],
   "source": [
    "import pandas as pd"
   ]
  },
  {
   "cell_type": "code",
   "execution_count": null,
   "id": "43b81917",
   "metadata": {},
   "outputs": [],
   "source": [
    "df= pd.read_csv(\"/data/projects/processBio/ncbi/gene2refseq\",delimiter=\"\\t\")"
   ]
  },
  {
   "cell_type": "code",
   "execution_count": null,
   "id": "00b62beb",
   "metadata": {},
   "outputs": [],
   "source": [
    "rf = df[(df.status == \"REVIEWED\")\n",
    "        & (df.assembly == \"Reference GRCh38.p13 Primary Assembly\")\n",
    "        & (df[\"protein_accession.version\"] != \"-\")\n",
    "        & (df[\"RNA_nucleotide_accession.version\"].str.contains(\"NM_\"))]"
   ]
  },
  {
   "cell_type": "code",
   "execution_count": null,
   "id": "9c18fa2c",
   "metadata": {},
   "outputs": [],
   "source": [
    "rf[rf.GeneID == 9381]"
   ]
  },
  {
   "cell_type": "code",
   "execution_count": null,
   "id": "645e2101",
   "metadata": {},
   "outputs": [],
   "source": [
    "summary = pd.read_csv(\"/data/projects/processBio/clinvar/clinvar/variant_summary.txt\",delimiter=\"\\t\")"
   ]
  },
  {
   "cell_type": "code",
   "execution_count": null,
   "id": "08902707",
   "metadata": {},
   "outputs": [],
   "source": [
    "summary = summary[(summary.Type == \"single nucleotide variant\") \\\n",
    "                  & (summary.ReviewStatus.isin([\"criteria provided, single submitter\",\n",
    "              \"criteria provided, multiple submitters, no conflicts\",\n",
    "              \"reviewed by expert panel\",\n",
    "              \"practice guideline\",\n",
    "              ])) & (summary.Assembly == \"GRCh38\")]"
   ]
  },
  {
   "cell_type": "code",
   "execution_count": null,
   "id": "93ada5ed",
   "metadata": {},
   "outputs": [],
   "source": [
    "summary = summary.assign(nmid=summary.Name.apply(lambda n: n[:n.find(\"(\")]))"
   ]
  },
  {
   "cell_type": "code",
   "execution_count": null,
   "id": "3f582a4b",
   "metadata": {},
   "outputs": [],
   "source": [
    "summary"
   ]
  },
  {
   "cell_type": "code",
   "execution_count": null,
   "id": "d2e84bbe",
   "metadata": {},
   "outputs": [],
   "source": [
    "from tqdm.notebook import tqdm"
   ]
  },
  {
   "cell_type": "code",
   "execution_count": null,
   "id": "e81503fd",
   "metadata": {},
   "outputs": [],
   "source": [
    "nmid2npid = {}\n",
    "for nmid in tqdm(summary.nmid.unique()):\n",
    "    nmid2npid[nmid] = rf[rf[\"RNA_nucleotide_accession.version\"] == nmid][\"protein_accession.version\"].unique()"
   ]
  },
  {
   "cell_type": "code",
   "execution_count": null,
   "id": "07265ec8",
   "metadata": {},
   "outputs": [],
   "source": [
    "nmid2npid"
   ]
  },
  {
   "cell_type": "code",
   "execution_count": null,
   "id": "9b8f69b6",
   "metadata": {},
   "outputs": [],
   "source": [
    "summary = summary.assign(npid=summary.nmid.apply(lambda n: nmid2npid[n]))"
   ]
  },
  {
   "cell_type": "code",
   "execution_count": null,
   "id": "73c30005",
   "metadata": {},
   "outputs": [],
   "source": [
    "summary"
   ]
  },
  {
   "cell_type": "code",
   "execution_count": null,
   "id": "708fd686",
   "metadata": {},
   "outputs": [],
   "source": [
    "from Bio import Entrez\n",
    "Entrez.email = 'zeiberg.d@northeastern.edu'\n",
    "\n",
    "def getSequenceFromNPID(npid):\n",
    "    \"Return the protein sequence from \"\n",
    "    handle = Entrez.efetch(db=\"protein\",id=npid, rettype=\"fasta\", retmode=\"text\")\n",
    "    lines = handle.readlines()\n",
    "    lines = [l.strip() for l in lines]\n",
    "    return \"\".join(lines[1:])"
   ]
  },
  {
   "cell_type": "code",
   "execution_count": null,
   "id": "61c253bb",
   "metadata": {},
   "outputs": [],
   "source": [
    "set([s[0] for s in summary.npid.values if len(s)])"
   ]
  },
  {
   "cell_type": "code",
   "execution_count": null,
   "id": "29608575",
   "metadata": {},
   "outputs": [],
   "source": [
    "npid2seq = {}\n",
    "for npid in tqdm(set([s[0] for s in summary.npid.values if len(s)])):\n",
    "    try:\n",
    "        npid2seq[npid[0]] = getSequenceFromNPID(npid[0])\n",
    "    except Entrez.HTTPError:\n",
    "        continue"
   ]
  },
  {
   "cell_type": "code",
   "execution_count": null,
   "id": "dd5640a7",
   "metadata": {},
   "outputs": [],
   "source": [
    "npid2seq"
   ]
  },
  {
   "cell_type": "code",
   "execution_count": null,
   "id": "b5d2a7da",
   "metadata": {},
   "outputs": [],
   "source": []
  }
 ],
 "metadata": {
  "language_info": {
   "name": "python",
   "pygments_lexer": "ipython3"
  }
 },
 "nbformat": 4,
 "nbformat_minor": 5
}
