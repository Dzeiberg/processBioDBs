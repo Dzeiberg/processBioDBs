{
 "cells": [
  {
   "cell_type": "code",
   "execution_count": null,
   "id": "5df685f5",
   "metadata": {},
   "outputs": [],
   "source": [
    "# default_exp embedding"
   ]
  },
  {
   "cell_type": "code",
   "execution_count": null,
   "id": "320b46b2",
   "metadata": {},
   "outputs": [],
   "source": [
    "#!pip install fair-esm"
   ]
  },
  {
   "cell_type": "code",
   "execution_count": null,
   "id": "4679974d",
   "metadata": {},
   "outputs": [],
   "source": [
    "# export\n",
    "import torch\n",
    "import esm\n",
    "\n",
    "from tqdm.notebook import tqdm,trange"
   ]
  },
  {
   "cell_type": "code",
   "execution_count": null,
   "id": "2d9c2e82",
   "metadata": {},
   "outputs": [],
   "source": [
    "# export\n",
    "# Load ESM-1b model\n",
    "model, alphabet = esm.pretrained.esm1b_t33_650M_UR50S()\n",
    "batch_converter = alphabet.get_batch_converter()\n",
    "\n",
    "model = model.to(\"cuda:1\")"
   ]
  },
  {
   "cell_type": "code",
   "execution_count": null,
   "id": "b6bcc82b",
   "metadata": {},
   "outputs": [],
   "source": [
    "model.device"
   ]
  },
  {
   "cell_type": "code",
   "execution_count": null,
   "id": "bccc3f42",
   "metadata": {},
   "outputs": [],
   "source": [
    "# export\n",
    "def getSequenceRepresentation(Data):\n",
    "    \"\"\"\n",
    "    Embed the given variants using the ESM-1b model\n",
    "    \n",
    "    Arguments:\n",
    "    - Data : list[(id, sequence),]\n",
    "    \"\"\"\n",
    "    batch_labels, batch_strs, batch_tokens = batch_converter(Data)\n",
    "    batch_tokens = batch_tokens.to(\"cuda:1\")\n",
    "    # Extract per-residue representations (on CPU)\n",
    "    with torch.no_grad():\n",
    "        results = model(batch_tokens, repr_layers=[33], return_contacts=True)\n",
    "    token_representations = results[\"representations\"][33].cpu()\n",
    "    del results, batch_labels, batch_strs, batch_tokens\n",
    "    # Generate per-sequence representations via averaging\n",
    "    # NOTE: token 0 is always a beginning-of-sequence token, so the first residue is token 1.\n",
    "    sequence_representations = []\n",
    "    for i, (_, seq) in enumerate(Data):\n",
    "        sequence_representations.append(token_representations[i, 1 : len(seq) + 1].cpu().numpy())\n",
    "    del token_representations\n",
    "    return sequence_representations#, results"
   ]
  },
  {
   "cell_type": "code",
   "execution_count": null,
   "id": "9f201e74",
   "metadata": {},
   "outputs": [],
   "source": [
    "def prepSeq(row,windowSize=510):\n",
    "    s = row[\"sequence\"]\n",
    "    loc = int(row[\"loc\"]) - 1\n",
    "    sPrime = s[max(0, loc-windowSize) : min(len(s), loc + windowSize)]\n",
    "    return sPrime"
   ]
  },
  {
   "cell_type": "code",
   "execution_count": null,
   "id": "46761564",
   "metadata": {},
   "outputs": [],
   "source": [
    "import pandas as pd\n",
    "df = pd.read_csv(\"/data/projects/processBio/clinvar/clinvar/missenseVariants.csv\")"
   ]
  },
  {
   "cell_type": "code",
   "execution_count": null,
   "id": "5c4a7758",
   "metadata": {},
   "outputs": [],
   "source": [
    "for i,j in zip(df.loc[1,\"sequence\"],df.loc[2,\"sequence\"]):\n",
    "    if i!=j:\n",
    "        print(i,j)"
   ]
  },
  {
   "cell_type": "code",
   "execution_count": null,
   "id": "1bc006a2",
   "metadata": {},
   "outputs": [],
   "source": [
    "def makeReference(row):\n",
    "    aaTable = {\"Ala\":\"A\",\n",
    "           \"Arg\": \"R\",\n",
    "           \"Asn\": \"N\",\n",
    "           \"Asp\": \"D\",\n",
    "           \"Cys\": \"C\",\n",
    "           \"Gln\": \"Q\",\n",
    "           \"Glu\": \"E\",\n",
    "           \"Gly\": \"G\",\n",
    "           \"His\": \"H\",\n",
    "           \"Ile\": \"I\",\n",
    "           \"Leu\": \"L\",\n",
    "           \"Lys\": \"K\",\n",
    "           \"Met\": \"M\",\n",
    "           \"Phe\": \"F\",\n",
    "           \"Pro\": \"P\",\n",
    "           \"Ser\": \"S\",\n",
    "           \"Thr\": \"T\",\n",
    "           \"Trp\": \"W\",\n",
    "           \"Tyr\": \"Y\",\n",
    "           \"Val\": \"V\"}\n",
    "    \n",
    "    og = aaTable[row[\"og\"]]\n",
    "    loc = int(row[\"loc\"]) -1\n",
    "    var = aaTable[row[\"newAA\"]]\n",
    "    print(og,row[\"sequence\"][loc], var)\n",
    "    assert row.sequence[loc] == og\n",
    "    return row.sequence[:loc] + og + row.sequence[loc+1:]"
   ]
  },
  {
   "cell_type": "code",
   "execution_count": null,
   "id": "eb89cc71",
   "metadata": {},
   "outputs": [],
   "source": [
    "df = df.assign(referenceSeq=df.apply(lambda row: makeReference(row),axis=1))"
   ]
  },
  {
   "cell_type": "code",
   "execution_count": null,
   "id": "ea28d24a",
   "metadata": {},
   "outputs": [],
   "source": [
    "seqs = list(zip(df.index, [prepSeq(r) for i,r in tqdm(df.iterrows())]))"
   ]
  },
  {
   "cell_type": "code",
   "execution_count": null,
   "id": "00c242a4",
   "metadata": {},
   "outputs": [],
   "source": [
    "representations = []\n",
    "batchSize=1\n",
    "for i in trange(0,len(seqs),batchSize):\n",
    "    rep = getSequenceRepresentation(seqs[i : i + batchSize])\n",
    "    representations.append(rep)"
   ]
  },
  {
   "cell_type": "code",
   "execution_count": null,
   "id": "feb442a7",
   "metadata": {},
   "outputs": [],
   "source": [
    "import numpy as np"
   ]
  },
  {
   "cell_type": "code",
   "execution_count": null,
   "id": "6258804e",
   "metadata": {},
   "outputs": [],
   "source": [
    "import pickle"
   ]
  },
  {
   "cell_type": "code",
   "execution_count": null,
   "id": "2c12393d",
   "metadata": {},
   "outputs": [],
   "source": [
    "pickle.dump(representations, open('/data/projects/processBio/clinvar/clinvar/embeddings.pkl',\"wb\"))"
   ]
  },
  {
   "cell_type": "code",
   "execution_count": null,
   "id": "61f71d65",
   "metadata": {},
   "outputs": [],
   "source": [
    "pickle.dump(seqs, open('/data/projects/processBio/clinvar/clinvar/seqs.pkl',\"wb\"))"
   ]
  },
  {
   "cell_type": "code",
   "execution_count": null,
   "id": "ca789003",
   "metadata": {},
   "outputs": [],
   "source": [
    "representations[0][0].shape"
   ]
  },
  {
   "cell_type": "code",
   "execution_count": null,
   "id": "30e2adad",
   "metadata": {},
   "outputs": [],
   "source": [
    "len(seqs[0][1])"
   ]
  },
  {
   "cell_type": "markdown",
   "id": "5a4b9864",
   "metadata": {},
   "source": [
    "There is a one to one correspondance between seqs.pkl and embeddings.pkl"
   ]
  },
  {
   "cell_type": "code",
   "execution_count": null,
   "id": "013256b4",
   "metadata": {},
   "outputs": [],
   "source": []
  }
 ],
 "metadata": {
  "language_info": {
   "name": "python",
   "pygments_lexer": "ipython3"
  }
 },
 "nbformat": 4,
 "nbformat_minor": 5
}
