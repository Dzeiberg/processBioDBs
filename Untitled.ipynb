{
 "cells": [
  {
   "cell_type": "code",
   "execution_count": null,
   "id": "caa66d3d",
   "metadata": {},
   "outputs": [],
   "source": [
    "import pandas as pd"
   ]
  },
  {
   "cell_type": "code",
   "execution_count": null,
   "id": "52b00209",
   "metadata": {},
   "outputs": [],
   "source": [
    "    df = pd.read_pickle(\"/data/projects/processBio/gnomad/gnomad.missenseVariants.pd.pkl\")"
   ]
  },
  {
   "cell_type": "code",
   "execution_count": null,
   "id": "1c472002",
   "metadata": {},
   "outputs": [],
   "source": [
    "df[df.seq != \"\"]"
   ]
  },
  {
   "cell_type": "code",
   "execution_count": null,
   "id": "d9649b74",
   "metadata": {},
   "outputs": [],
   "source": [
    "import pickle\n",
    "import numpy as np"
   ]
  },
  {
   "cell_type": "code",
   "execution_count": null,
   "id": "01f82a3c",
   "metadata": {},
   "outputs": [],
   "source": [
    "reps = np.load(\"/data/projects/processBio/gnomad/gnomadValidMissenseVariantEmbeddings.npy\")"
   ]
  },
  {
   "cell_type": "code",
   "execution_count": null,
   "id": "b9841016",
   "metadata": {},
   "outputs": [],
   "source": [
    "reps.shape"
   ]
  },
  {
   "cell_type": "code",
   "execution_count": null,
   "id": "960b6456",
   "metadata": {},
   "outputs": [],
   "source": []
  }
 ],
 "metadata": {
  "language_info": {
   "name": "python",
   "pygments_lexer": "ipython3"
  }
 },
 "nbformat": 4,
 "nbformat_minor": 5
}
