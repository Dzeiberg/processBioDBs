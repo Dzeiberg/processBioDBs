{
 "cells": [
  {
   "cell_type": "code",
   "execution_count": null,
   "id": "d97aeb78",
   "metadata": {},
   "outputs": [],
   "source": [
    "import pickle\n",
    "import numpy as np\n",
    "import pandas as pd"
   ]
  },
  {
   "cell_type": "code",
   "execution_count": null,
   "id": "9324b8b0",
   "metadata": {},
   "outputs": [],
   "source": [
    "embeddings = pickle.load(open(\"/data/projects/processBio/clinvar/clinvar/parseClinvarRepresentations.pkl\",\"rb\"))"
   ]
  },
  {
   "cell_type": "code",
   "execution_count": null,
   "id": "7bd25821",
   "metadata": {},
   "outputs": [],
   "source": [
    "df = pd.read_csv(\"/data/projects/processBio/clinvar/clinvar/parseClinvarWithVariant.csv\")"
   ]
  },
  {
   "cell_type": "code",
   "execution_count": null,
   "id": "1fbb3825",
   "metadata": {},
   "outputs": [],
   "source": [
    "# export utilities\n",
    "def getRep(rep,L,originalWindow=510, W=3):\n",
    "    \"\"\"\n",
    "    Extract a window of the matrix representation rep of size W around a mutation at location L\n",
    "    \n",
    "    Arguments:\n",
    "    - rep : embedding matrix\n",
    "    - L : The index of the variant about which windows will be taken\n",
    "    - originalWindow : The size of the window used to generate the subset of the protein sequence that is embedded\n",
    "    - W : the desired size of the window to be taken from embedding around the variant\n",
    "    \n",
    "    Example:\n",
    "    variant at position 3\n",
    "    what the function is given is 1 2 3 4 5\n",
    "    Given these two you want to return a window of size 1 around position 3 : [2 3 4]\n",
    "    \n",
    "    Original Sequence               : 0 1 2 3 4 5 6\n",
    "    Variant Position                :       L\n",
    "    subset passed to model          :  [1 2 3 4 5]\n",
    "                                        I       J\n",
    "    pass to model a window of size 1:    [2 3 4]\n",
    "    \n",
    "                                          K   M\n",
    "    \n",
    "    \n",
    "    Example: \n",
    "    \n",
    "    L = 2\n",
    "    Original Window size used for embedding: 3\n",
    "    Desired Window size : 1\n",
    "    \n",
    "    Original Sequence : 0 1 2 3 4 5 6\n",
    "                        I   L     J\n",
    "                          K   M\n",
    "                            \n",
    "    \"\"\"\n",
    "    i,j = max(0, L-originalWindow),min(len(rep), L + originalWindow)\n",
    "    k,m = max(0,L - W - i), min(len(rep),L + W - i + 1)\n",
    "    assert k >= 0 and m <= len(rep)\n",
    "\n",
    "    return rep[k : m]"
   ]
  },
  {
   "cell_type": "markdown",
   "id": "3b911102",
   "metadata": {},
   "source": [
    "# Testing getRep"
   ]
  },
  {
   "cell_type": "code",
   "execution_count": null,
   "id": "029344f8",
   "metadata": {},
   "outputs": [],
   "source": [
    "Below, "
   ]
  },
  {
   "cell_type": "markdown",
   "id": "a30b493f",
   "metadata": {},
   "source": [
    "0[1 2 3 4 5]6\n",
    "  I   L   J\n",
    "    K   M"
   ]
  },
  {
   "cell_type": "code",
   "execution_count": null,
   "id": "c1106679",
   "metadata": {},
   "outputs": [],
   "source": [
    "xi = np.array([1,2,3,4])"
   ]
  },
  {
   "cell_type": "code",
   "execution_count": null,
   "id": "a4836483",
   "metadata": {},
   "outputs": [],
   "source": [
    "getRep(np.arange(1,6), 3, W=1,originalWindow=2)"
   ]
  },
  {
   "cell_type": "markdown",
   "id": "d193ea87",
   "metadata": {},
   "source": [
    "0 1 2 3 4 5 6\n",
    "I   L     J\n",
    "  K   M  "
   ]
  },
  {
   "cell_type": "code",
   "execution_count": null,
   "id": "6ff65549",
   "metadata": {},
   "outputs": [],
   "source": [
    "getRep(np.arange(0,5), 3, W=2,originalWindow=2)"
   ]
  },
  {
   "cell_type": "markdown",
   "id": "2ccf6d45",
   "metadata": {},
   "source": [
    "0[1 2 3 4 5 6]\n",
    "  I     L   J\n",
    "    K       M"
   ]
  },
  {
   "cell_type": "code",
   "execution_count": null,
   "id": "cd89809e",
   "metadata": {},
   "outputs": [],
   "source": [
    "getRep(np.arange(1,7),4, originalWindow=3,W=2)"
   ]
  },
  {
   "cell_type": "code",
   "execution_count": null,
   "id": "a16dac10",
   "metadata": {},
   "outputs": [],
   "source": [
    "# export utilities\n",
    "\n",
    "\n",
    "def prepSeq(representationMatrix, locationOfVariant, originalWindowSize=510, windowSizes=2**np.arange(1,9)):\n",
    "    windowVectors= []\n",
    "    for w in windowSizes:\n",
    "        # get the windowed subset of the matrix and take the mean across all character positions\n",
    "        r = getRep(representationMatrix, locationOfVariant, originalWindow=originalWindowSize, W=w).mean(0)\n",
    "        windowVectors.append(r)\n",
    "    xi = np.concatenate(windowVectors)\n",
    "    return xi"
   ]
  },
  {
   "cell_type": "code",
   "execution_count": null,
   "id": "6ee8ddb9",
   "metadata": {},
   "outputs": [],
   "source": [
    "\n",
    "# def prepSeq(idx,dfi=df,windowSizes=[2,4,8,16,32,64,128,256]):\n",
    "#     rep = embeddings[idx][0]\n",
    "#     L = int(dfi.loc[idx,\"variant\"][3:-3]) - 1\n",
    "#     reps = []\n",
    "#     for w in windowSizes:\n",
    "#         r = getRep(rep,L, originalWindow=510,W=w).mean(0)\n",
    "#         if np.any(np.isnan(r)):\n",
    "#             print(w,L, len(rep))\n",
    "#         reps.append(r)\n",
    "#     xi = np.concatenate(reps)\n",
    "#     return xi"
   ]
  },
  {
   "cell_type": "code",
   "execution_count": null,
   "id": "d818ae3a",
   "metadata": {},
   "outputs": [],
   "source": [
    "from tqdm.notebook import tqdm"
   ]
  },
  {
   "cell_type": "code",
   "execution_count": null,
   "id": "f6b9a1e6",
   "metadata": {},
   "outputs": [],
   "source": [
    "len(df.loc[5290].variantSeq), df.loc[5290].variant"
   ]
  },
  {
   "cell_type": "code",
   "execution_count": null,
   "id": "245d946c",
   "metadata": {},
   "outputs": [],
   "source": [
    "Xs = []\n",
    "Ys = []\n",
    "for idx in tqdm(df.index,total=df.shape[0]):\n",
    "    L = int(df.loc[idx].variant[3:-3]) - 1\n",
    "    if len(embeddings[idx]) > 0 and len(embeddings[idx][0]) >= 1 and L < len(df.loc[idx].variantSeq):\n",
    "\n",
    "        xi = prepSeq(embeddings[idx][0], int(df.loc[idx,\"variant\"][3:-3]) - 1)\n",
    "        if np.any(np.isnan(xi)):\n",
    "            print(idx)\n",
    "        Xs.append(xi)\n",
    "        Ys.append(df.loc[idx,\"label\"])"
   ]
  },
  {
   "cell_type": "code",
   "execution_count": null,
   "id": "7dd073c3",
   "metadata": {},
   "outputs": [],
   "source": [
    "X = np.array(Xs)"
   ]
  },
  {
   "cell_type": "code",
   "execution_count": null,
   "id": "f720eb2a",
   "metadata": {},
   "outputs": [],
   "source": [
    "X.shape"
   ]
  },
  {
   "cell_type": "code",
   "execution_count": null,
   "id": "b23e764b",
   "metadata": {},
   "outputs": [],
   "source": [
    "np.any(np.isnan(X))"
   ]
  },
  {
   "cell_type": "code",
   "execution_count": null,
   "id": "0c2e3713",
   "metadata": {},
   "outputs": [],
   "source": [
    "len(Ys)"
   ]
  },
  {
   "cell_type": "code",
   "execution_count": null,
   "id": "254c00a5",
   "metadata": {},
   "outputs": [],
   "source": [
    "np.save(\"/data/projects/processBio/clinvar/clinvar/X.npy\",X)\n",
    "np.save(\"/data/projects/processBio/clinvar/clinvar/y.npy\",Ys)"
   ]
  },
  {
   "cell_type": "code",
   "execution_count": null,
   "id": "8254a5b9",
   "metadata": {},
   "outputs": [],
   "source": [
    "X = np.load(\"/data/projects/processBio/clinvar/clinvar/X.npy\",)\n",
    "y = np.load(\"/data/projects/processBio/clinvar/clinvar/y.npy\")"
   ]
  },
  {
   "cell_type": "code",
   "execution_count": null,
   "id": "27a0e552",
   "metadata": {},
   "outputs": [],
   "source": [
    "from sklearn.linear_model import LogisticRegression"
   ]
  },
  {
   "cell_type": "code",
   "execution_count": null,
   "id": "81bd0c4d",
   "metadata": {},
   "outputs": [],
   "source": [
    "lr = LogisticRegression()"
   ]
  },
  {
   "cell_type": "code",
   "execution_count": null,
   "id": "3ed2ca08",
   "metadata": {},
   "outputs": [],
   "source": [
    "from sklearn.model_selection import train_test_split"
   ]
  },
  {
   "cell_type": "markdown",
   "id": "8edc3189",
   "metadata": {},
   "source": [
    "# Random Train/Val Split"
   ]
  },
  {
   "cell_type": "code",
   "execution_count": null,
   "id": "2a7ce009",
   "metadata": {},
   "outputs": [],
   "source": [
    "xtrain,xval,ytrain,yval = train_test_split(X,y,test_size=.2)"
   ]
  },
  {
   "cell_type": "code",
   "execution_count": null,
   "id": "80caf1d5",
   "metadata": {},
   "outputs": [],
   "source": [
    "lr.fit(xtrain,ytrain)"
   ]
  },
  {
   "cell_type": "code",
   "execution_count": null,
   "id": "59b58320",
   "metadata": {},
   "outputs": [],
   "source": [
    "from sklearn.metrics import roc_auc_score"
   ]
  },
  {
   "cell_type": "code",
   "execution_count": null,
   "id": "f11e7746",
   "metadata": {},
   "outputs": [],
   "source": [
    "roc_auc_score(yval, lr.predict_proba(xval)[:,1])"
   ]
  },
  {
   "cell_type": "markdown",
   "id": "a8518de8",
   "metadata": {},
   "source": [
    "# Per Gene CV"
   ]
  },
  {
   "cell_type": "code",
   "execution_count": null,
   "id": "70e815e2",
   "metadata": {},
   "outputs": [],
   "source": [
    "geneIDs = df.iloc[np.where([len(e) != 0 for e in embeddings])].GeneID_x"
   ]
  },
  {
   "cell_type": "code",
   "execution_count": null,
   "id": "aa33415a",
   "metadata": {},
   "outputs": [],
   "source": [
    "trainGeneIDs, valGeneIDs = train_test_split(list(set(geneIDs.values)),test_size=.2)"
   ]
  },
  {
   "cell_type": "code",
   "execution_count": null,
   "id": "23311cdc",
   "metadata": {},
   "outputs": [],
   "source": [
    "isTrain = [g in trainGeneIDs for g in geneIDs]"
   ]
  },
  {
   "cell_type": "code",
   "execution_count": null,
   "id": "16cca06f",
   "metadata": {},
   "outputs": [],
   "source": [
    "xTrain = X[isTrain]\n",
    "yTrain = y[isTrain]\n",
    "xVal = X[~np.array(isTrain)]\n",
    "yVal = y[~np.array(isTrain)]"
   ]
  },
  {
   "cell_type": "code",
   "execution_count": null,
   "id": "d6a24ad9",
   "metadata": {},
   "outputs": [],
   "source": [
    "xTrain.shape, xVal.shape"
   ]
  },
  {
   "cell_type": "code",
   "execution_count": null,
   "id": "67f6fdcc",
   "metadata": {},
   "outputs": [],
   "source": [
    "xTrain.shape[0] + xVal.shape[0]"
   ]
  },
  {
   "cell_type": "code",
   "execution_count": null,
   "id": "db1049fd",
   "metadata": {},
   "outputs": [],
   "source": [
    "lr2 = LogisticRegression()"
   ]
  },
  {
   "cell_type": "code",
   "execution_count": null,
   "id": "56dcf096",
   "metadata": {},
   "outputs": [],
   "source": [
    "lr2.fit(xTrain,yTrain)"
   ]
  },
  {
   "cell_type": "code",
   "execution_count": null,
   "id": "53c8c4e1",
   "metadata": {},
   "outputs": [],
   "source": [
    "roc_auc_score(yVal, lr.predict_proba(xVal)[:,1])"
   ]
  },
  {
   "cell_type": "code",
   "execution_count": null,
   "id": "a7a0e72a",
   "metadata": {},
   "outputs": [],
   "source": []
  }
 ],
 "metadata": {
  "language_info": {
   "name": "python",
   "pygments_lexer": "ipython3"
  }
 },
 "nbformat": 4,
 "nbformat_minor": 5
}
