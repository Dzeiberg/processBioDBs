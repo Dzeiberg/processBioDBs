{
 "cells": [
  {
   "cell_type": "code",
   "execution_count": null,
   "id": "330cdef8",
   "metadata": {},
   "outputs": [],
   "source": [
    "aaTable = {\"Ala\":\"A\",\n",
    "           \"Arg\": \"R\",\n",
    "           \"Asn\": \"N\",\n",
    "           \"Asp\": \"D\",\n",
    "           \"Cys\": \"C\",\n",
    "           \"Gln\": \"Q\",\n",
    "           \"Glu\": \"E\",\n",
    "           \"Gly\": \"G\",\n",
    "           \"His\": \"H\",\n",
    "           \"Ile\": \"I\",\n",
    "           \"Leu\": \"L\",\n",
    "           \"Lys\": \"K\",\n",
    "           \"Met\": \"M\",\n",
    "           \"Phe\": \"F\",\n",
    "           \"Pro\": \"P\",\n",
    "           \"Ser\": \"S\",\n",
    "           \"Thr\": \"T\",\n",
    "           \"Trp\": \"W\",\n",
    "           \"Tyr\": \"Y\",\n",
    "           \"Val\": \"V\"}"
   ]
  },
  {
   "cell_type": "code",
   "execution_count": null,
   "id": "9adc6f30",
   "metadata": {},
   "outputs": [],
   "source": [
    "import pandas as pd\n",
    "import torch\n",
    "import esm\n",
    "from tqdm.notebook import tqdm"
   ]
  },
  {
   "cell_type": "code",
   "execution_count": null,
   "id": "cd871489",
   "metadata": {},
   "outputs": [],
   "source": [
    "from processBioDBs.utilities import getSequence"
   ]
  },
  {
   "cell_type": "code",
   "execution_count": null,
   "id": "3098a3cf",
   "metadata": {},
   "outputs": [],
   "source": [
    "# Load ESM-1b model\n",
    "model, alphabet = esm.pretrained.esm1b_t33_650M_UR50S()\n",
    "batch_converter = alphabet.get_batch_converter()\n"
   ]
  },
  {
   "cell_type": "code",
   "execution_count": null,
   "id": "f5a0d6fc",
   "metadata": {},
   "outputs": [],
   "source": [
    "model = model.to(\"cuda:1\")"
   ]
  },
  {
   "cell_type": "code",
   "execution_count": null,
   "id": "dbff73b4",
   "metadata": {},
   "outputs": [],
   "source": [
    "def getSequenceRepresentation(Data):\n",
    "    batch_labels, batch_strs, batch_tokens = batch_converter(Data)\n",
    "    batch_tokens = batch_tokens.to(\"cuda:1\")\n",
    "    # Extract per-residue representations (on CPU)\n",
    "    with torch.no_grad():\n",
    "        results = model(batch_tokens, repr_layers=[33], return_contacts=True)\n",
    "    token_representations = results[\"representations\"][33].cpu()\n",
    "    del results, batch_labels, batch_strs, batch_tokens\n",
    "    # Generate per-sequence representations via averaging\n",
    "    # NOTE: token 0 is always a beginning-of-sequence token, so the first residue is token 1.\n",
    "    sequence_representations = []\n",
    "    for i, (_, seq) in enumerate(Data):\n",
    "        sequence_representations.append(token_representations[i, 1 : len(seq) + 1].cpu().numpy())\n",
    "    del token_representations\n",
    "    return sequence_representations"
   ]
  },
  {
   "cell_type": "code",
   "execution_count": null,
   "id": "ca94cdd9",
   "metadata": {},
   "outputs": [],
   "source": [
    "def prepSeq(s,loc,windowSize=510):\n",
    "    sPrime = s[max(0, loc-windowSize) : min(len(s), loc + windowSize)]\n",
    "    return sPrime"
   ]
  },
  {
   "cell_type": "markdown",
   "id": "44d3f7b0",
   "metadata": {},
   "source": [
    "# PTEN"
   ]
  },
  {
   "cell_type": "code",
   "execution_count": null,
   "id": "97cc01e9",
   "metadata": {},
   "outputs": [],
   "source": [
    "pten = pd.read_csv(\"/data/projects/processBio/ycaData/parse_pten.csv\")\n",
    "\n",
    "pten=pten.assign(variant=pten.variant.apply(lambda s: (aaTable[s[:3]], int(s[3:-3]) - 1, aaTable[s[-3:]])))"
   ]
  },
  {
   "cell_type": "code",
   "execution_count": null,
   "id": "9f97d972",
   "metadata": {},
   "outputs": [],
   "source": [
    "ptenSeq = getSequence(\"pten\")"
   ]
  },
  {
   "cell_type": "code",
   "execution_count": null,
   "id": "c2a6e16a",
   "metadata": {},
   "outputs": [],
   "source": [
    "variants = []\n",
    "for idx,row in pten.iterrows():\n",
    "    og,loc,var = row[\"variant\"]\n",
    "    if ptenSeq[loc] != og:\n",
    "        variants.append(\"\")\n",
    "        continue\n",
    "    variants.append(ptenSeq[:loc] + var + ptenSeq[loc+1:])"
   ]
  },
  {
   "cell_type": "code",
   "execution_count": null,
   "id": "150b4327",
   "metadata": {},
   "outputs": [],
   "source": [
    "pten = pten.assign(varSeqe=variants)"
   ]
  },
  {
   "cell_type": "code",
   "execution_count": null,
   "id": "10cb6176",
   "metadata": {},
   "outputs": [],
   "source": [
    "representations = []\n",
    "batchSize=1\n",
    "for idx,row in tqdm(pten.iterrows(),total=pten.shape[0]):\n",
    "    rep = getSequenceRepresentation([(idx, prepSeq(row.varSeqe, row.variant[1]))])\n",
    "    representations.append(rep)\n",
    "#     try:\n",
    "#         rep = getSequenceRepresentation([(idx,prepSeq(row.varSeqe, row.variant[1]))])\n",
    "#         representations.append(rep)\n",
    "#     except:\n",
    "#         representations.append([])"
   ]
  },
  {
   "cell_type": "code",
   "execution_count": null,
   "id": "50535d05",
   "metadata": {},
   "outputs": [],
   "source": [
    "pten = pten.assign(representation=representations)"
   ]
  },
  {
   "cell_type": "code",
   "execution_count": null,
   "id": "536492b7",
   "metadata": {},
   "outputs": [],
   "source": [
    "pten.to_pickle(\"/data/projects/processBio/ycaData/parse_pten.pkl\")"
   ]
  },
  {
   "cell_type": "markdown",
   "id": "24bd325a",
   "metadata": {},
   "source": [
    "# CALM1"
   ]
  },
  {
   "cell_type": "code",
   "execution_count": null,
   "id": "75af44bb",
   "metadata": {},
   "outputs": [],
   "source": [
    "calm = pd.read_csv(\"/data/projects/processBio/ycaData/parse_calm1.csv\")\n",
    "\n",
    "calm=calm.assign(variant=calm.variant.apply(lambda s: (aaTable[s[:3]], int(s[3:-3]) - 1, aaTable[s[-3:]])))"
   ]
  },
  {
   "cell_type": "code",
   "execution_count": null,
   "id": "5f4b4cab",
   "metadata": {},
   "outputs": [],
   "source": [
    "calmSeq = getSequence(\"calm1\")"
   ]
  },
  {
   "cell_type": "code",
   "execution_count": null,
   "id": "da3db272",
   "metadata": {},
   "outputs": [],
   "source": [
    "variants = []\n",
    "for idx,row in calm.iterrows():\n",
    "    og,loc,var = row[\"variant\"]\n",
    "    if calmSeq[loc] != og:\n",
    "        variants.append(\"\")\n",
    "        continue\n",
    "    variants.append(calmSeq[:loc] + var + calmSeq[loc+1:])"
   ]
  },
  {
   "cell_type": "code",
   "execution_count": null,
   "id": "b5ca7437",
   "metadata": {},
   "outputs": [],
   "source": [
    "calm = calm.assign(varSeqe=variants)"
   ]
  },
  {
   "cell_type": "code",
   "execution_count": null,
   "id": "94b7f620",
   "metadata": {},
   "outputs": [],
   "source": [
    "representations = []\n",
    "batchSize=1\n",
    "for idx,row in tqdm(calm.iterrows(),total=calm.shape[0]):\n",
    "    rep = getSequenceRepresentation([(idx, prepSeq(row.varSeqe, row.variant[1]))])\n",
    "    representations.append(rep)\n"
   ]
  },
  {
   "cell_type": "code",
   "execution_count": null,
   "id": "79c955ca",
   "metadata": {},
   "outputs": [],
   "source": [
    "calm = calm.assign(representation=representations)"
   ]
  },
  {
   "cell_type": "code",
   "execution_count": null,
   "id": "b2cfffa4",
   "metadata": {},
   "outputs": [],
   "source": [
    "calm.to_pickle(\"/data/projects/processBio/ycaData/parse_calm1.pkl\")"
   ]
  },
  {
   "cell_type": "markdown",
   "id": "31f9b97d",
   "metadata": {},
   "source": [
    "# SUMO"
   ]
  },
  {
   "cell_type": "code",
   "execution_count": null,
   "id": "f7d629ec",
   "metadata": {},
   "outputs": [],
   "source": [
    "sumo = pd.read_csv(\"/data/projects/processBio/ycaData/parse_sumo.csv\")\n",
    "sumo = sumo.assign(variant=sumo.variant.apply(lambda s: (aaTable[s[:3]], int(s[3:-3]) - 1, aaTable[s[-3:]])))"
   ]
  },
  {
   "cell_type": "code",
   "execution_count": null,
   "id": "3313c9cd",
   "metadata": {},
   "outputs": [],
   "source": [
    "sumoSeq = getSequence(\"sumo1\")"
   ]
  },
  {
   "cell_type": "code",
   "execution_count": null,
   "id": "4747d717",
   "metadata": {},
   "outputs": [],
   "source": [
    "variants = []\n",
    "for idx,row in sumo.iterrows():\n",
    "    og,loc,var = row[\"variant\"]\n",
    "    if sumoSeq[loc] != og:\n",
    "        variants.append(\"\")\n",
    "        continue\n",
    "    variants.append(sumoSeq[:loc] + var + sumoSeq[loc+1:])"
   ]
  },
  {
   "cell_type": "code",
   "execution_count": null,
   "id": "1aa9e2b3",
   "metadata": {},
   "outputs": [],
   "source": [
    "sumo = sumo.assign(varSeqe=variants)"
   ]
  },
  {
   "cell_type": "code",
   "execution_count": null,
   "id": "94ef9477",
   "metadata": {},
   "outputs": [],
   "source": [
    "representations = []\n",
    "batchSize=1\n",
    "for idx,row in tqdm(sumo.iterrows(),total=sumo.shape[0]):\n",
    "    rep = getSequenceRepresentation([(idx, prepSeq(row.varSeqe, row.variant[1]))])\n",
    "    representations.append(rep)\n",
    "\n"
   ]
  },
  {
   "cell_type": "code",
   "execution_count": null,
   "id": "d3ad06eb",
   "metadata": {},
   "outputs": [],
   "source": [
    "sumo = sumo.assign(representation=representations)"
   ]
  },
  {
   "cell_type": "code",
   "execution_count": null,
   "id": "808b5135",
   "metadata": {},
   "outputs": [],
   "source": [
    "sumo.to_pickle(\"/data/projects/processBio/ycaData/parse_sumo.pkl\")"
   ]
  },
  {
   "cell_type": "markdown",
   "id": "7bd302df",
   "metadata": {},
   "source": [
    "# tpmt"
   ]
  },
  {
   "cell_type": "code",
   "execution_count": null,
   "id": "067f7abd",
   "metadata": {},
   "outputs": [],
   "source": [
    "tpmt = pd.read_csv(\"/data/projects/processBio/ycaData/parse_tpmt.csv\")\n",
    "tpmt = tpmt.assign(variant=tpmt.variant.apply(lambda s: (aaTable[s[:3]], int(s[3:-3]) - 1, aaTable[s[-3:]])))"
   ]
  },
  {
   "cell_type": "code",
   "execution_count": null,
   "id": "77ebfb57",
   "metadata": {},
   "outputs": [],
   "source": [
    "tpmtSeq = getSequence(\"tpmt\")"
   ]
  },
  {
   "cell_type": "code",
   "execution_count": null,
   "id": "eadf114f",
   "metadata": {},
   "outputs": [],
   "source": [
    "variants = []\n",
    "for idx,row in tpmt.iterrows():\n",
    "    og,loc,var = row[\"variant\"]\n",
    "    if tpmtSeq[loc] != og:\n",
    "        variants.append(\"\")\n",
    "        continue\n",
    "    variants.append(tpmtSeq[:loc] + var + tpmtSeq[loc+1:])"
   ]
  },
  {
   "cell_type": "code",
   "execution_count": null,
   "id": "07d21c91",
   "metadata": {},
   "outputs": [],
   "source": [
    "tpmt = tpmt.assign(varSeqe=variants)"
   ]
  },
  {
   "cell_type": "code",
   "execution_count": null,
   "id": "0d6402bd",
   "metadata": {},
   "outputs": [],
   "source": [
    "representations = []\n",
    "batchSize=1\n",
    "for idx,row in tqdm(tpmt.iterrows(),total=tpmt.shape[0]):\n",
    "    rep = getSequenceRepresentation([(idx, prepSeq(row.varSeqe, row.variant[1]))])\n",
    "    representations.append(rep)\n",
    "\n",
    "\n"
   ]
  },
  {
   "cell_type": "code",
   "execution_count": null,
   "id": "899e1d2b",
   "metadata": {},
   "outputs": [],
   "source": [
    "tpmt = tpmt.assign(representation=representations)"
   ]
  },
  {
   "cell_type": "code",
   "execution_count": null,
   "id": "80f302f8",
   "metadata": {},
   "outputs": [],
   "source": [
    "tpmt.to_pickle(\"/data/projects/processBio/ycaData/parse_tpmt.pkl\")"
   ]
  },
  {
   "cell_type": "code",
   "execution_count": null,
   "id": "2d0a41f1",
   "metadata": {},
   "outputs": [],
   "source": [
    "def getRep(rep,L,originalWindow=510, W=3):\n",
    "    i,j = max(0, L-originalWindow),min(len(rep), L + originalWindow)\n",
    "    k,m = max(0,L - W - i), min(len(rep),L + W - i + 1)\n",
    "    return rep[k : m]"
   ]
  },
  {
   "cell_type": "code",
   "execution_count": null,
   "id": "ce07af10",
   "metadata": {},
   "outputs": [],
   "source": [
    "tpmt.head()"
   ]
  },
  {
   "cell_type": "code",
   "execution_count": null,
   "id": "d4cb6966",
   "metadata": {},
   "outputs": [],
   "source": [
    "import numpy as np"
   ]
  },
  {
   "cell_type": "code",
   "execution_count": null,
   "id": "6929582c",
   "metadata": {},
   "outputs": [],
   "source": [
    "def prepSeq(row, windowSizes=[2,4,8,16,32,64,128,256]):\n",
    "    rep = np.array(row.representation[0])\n",
    "    L = row.variant[1]\n",
    "    reps = [getRep(rep,L, originalWindow=510,W=w).mean(0) for w in windowSizes]\n",
    "    xi = np.concatenate(reps)\n",
    "    return xi"
   ]
  },
  {
   "cell_type": "code",
   "execution_count": null,
   "id": "688ed07a",
   "metadata": {},
   "outputs": [],
   "source": [
    "tpmt = tpmt.assign(xi=tpmt.apply(lambda row: prepSeq(row),axis=1))\n",
    "\n",
    "tpmt.to_pickle(\"/data/projects/processBio/ycaData/parse_tpmt.pkl\")"
   ]
  },
  {
   "cell_type": "code",
   "execution_count": null,
   "id": "b141606c",
   "metadata": {},
   "outputs": [],
   "source": [
    "sumo = sumo.assign(xi=sumo.apply(lambda row: prepSeq(row),axis=1))\n",
    "\n",
    "sumo.to_pickle(\"/data/projects/processBio/ycaData/parse_sumo.pkl\")"
   ]
  },
  {
   "cell_type": "code",
   "execution_count": null,
   "id": "61774203",
   "metadata": {},
   "outputs": [],
   "source": [
    "calm = calm.assign(xi=calm.apply(lambda row: prepSeq(row),axis=1))\n",
    "\n",
    "calm.to_pickle(\"/data/projects/processBio/ycaData/parse_calm1.pkl\")"
   ]
  },
  {
   "cell_type": "code",
   "execution_count": null,
   "id": "7eb75bcf",
   "metadata": {},
   "outputs": [],
   "source": [
    "pten = pten.assign(xi=pten.apply(lambda row: prepSeq(row),axis=1))\n",
    "\n",
    "pten.to_pickle(\"/data/projects/processBio/ycaData/parse_pten.pkl\")"
   ]
  },
  {
   "cell_type": "code",
   "execution_count": null,
   "id": "60283b11",
   "metadata": {},
   "outputs": [],
   "source": [
    "pten = pd.read_pickle(\"/data/projects/processBio/ycaData/parse_pten.pkl\")"
   ]
  },
  {
   "cell_type": "markdown",
   "id": "b84382a2",
   "metadata": {},
   "source": [
    "# GnomAD Data"
   ]
  },
  {
   "cell_type": "code",
   "execution_count": null,
   "id": "c4d5c8a9",
   "metadata": {},
   "outputs": [],
   "source": [
    "from glob import glob"
   ]
  },
  {
   "cell_type": "code",
   "execution_count": null,
   "id": "30941058",
   "metadata": {},
   "outputs": [],
   "source": [
    "gnomadFiles = glob(\"/data/projects/processBio/gnomad/yca/*.csv\")"
   ]
  },
  {
   "cell_type": "code",
   "execution_count": null,
   "id": "2c24a18c",
   "metadata": {},
   "outputs": [],
   "source": [
    "gnomadDFs = []"
   ]
  },
  {
   "cell_type": "code",
   "execution_count": null,
   "id": "e6142b72",
   "metadata": {},
   "outputs": [],
   "source": [
    "def makeVariedSequence(row,seq):\n",
    "    og,loc,var= row.variant\n",
    "    if loc == -1 or seq[loc] != og:\n",
    "        return \"\"\n",
    "    return seq[:loc] + var + seq[loc+1:]"
   ]
  },
  {
   "cell_type": "code",
   "execution_count": null,
   "id": "a266355f",
   "metadata": {},
   "outputs": [],
   "source": [
    "def parseConsequence(c):\n",
    "    try:\n",
    "        og = aaTable[c[2:5]]\n",
    "    except KeyError:\n",
    "        return (\"X\",-1,\"X\")\n",
    "    try:\n",
    "        loc = int(c[5:-3]) - 1\n",
    "    except ValueError:\n",
    "        return (\"X\",-1,\"X\")\n",
    "    try:\n",
    "        var = aaTable[c[-3:]]\n",
    "    except KeyError:\n",
    "        return (\"X\",-1,\"X\")\n",
    "    return (og,loc,var)"
   ]
  },
  {
   "cell_type": "code",
   "execution_count": null,
   "id": "117f987e",
   "metadata": {},
   "outputs": [],
   "source": [
    "for file in gnomadFiles:\n",
    "    df = pd.read_csv(file)\n",
    "    geneSymbol = file[file.rfind(\"/\") + 1 : -4]\n",
    "    seq = getSequence(geneSymbol)\n",
    "    df = df.assign(variant=df[\"HGVS Consequence\"].apply(lambda s: parseConsequence(s)))\n",
    "    df = df.assign(seq = df.apply(lambda row: makeVariedSequence(row,seq),axis=1))\n",
    "    df = df.assign(embedding=df.seq.apply(lambda s: getSequenceRepresentation([(-1, s)])))\n",
    "    gnomadDFs.append(df)"
   ]
  },
  {
   "cell_type": "code",
   "execution_count": null,
   "id": "22aabd18",
   "metadata": {},
   "outputs": [],
   "source": [
    "gnomadDFs[0]"
   ]
  },
  {
   "cell_type": "code",
   "execution_count": null,
   "id": "e73f2bf2",
   "metadata": {},
   "outputs": [],
   "source": [
    "for name, df in zip(gnomadFiles, gnomadDFs):\n",
    "    df.to_pickle(name.replace(\".csv\",\".pkl\"))"
   ]
  },
  {
   "cell_type": "markdown",
   "id": "b40b5ec7",
   "metadata": {},
   "source": [
    "# Generate vectors for gnomadFiles"
   ]
  },
  {
   "cell_type": "code",
   "execution_count": null,
   "id": "a58a46dc",
   "metadata": {},
   "outputs": [],
   "source": [
    "gnomadDFs = []\n",
    "gnomadFileNames = []\n",
    "for file in glob(\"/data/projects/processBio/gnomad/yca/*.pkl\"):\n",
    "    gnomadDFs.append(pd.read_pickle(file))\n",
    "    gnomadFileNames.append(file)"
   ]
  },
  {
   "cell_type": "code",
   "execution_count": null,
   "id": "d361687d",
   "metadata": {},
   "outputs": [],
   "source": [
    "from processBioDBs.utilities import prepSeq as convertEmbeddingMatrixToVector"
   ]
  },
  {
   "cell_type": "code",
   "execution_count": null,
   "id": "fb17b719",
   "metadata": {},
   "outputs": [],
   "source": [
    "import numpy as np"
   ]
  },
  {
   "cell_type": "code",
   "execution_count": null,
   "id": "e810c281",
   "metadata": {},
   "outputs": [],
   "source": [
    "for i, dfi in enumerate(gnomadDFs):\n",
    "    gnomadDFs[i] = dfi.assign(xi=dfi.apply(lambda row: convertEmbeddingMatrixToVector(row[\"embedding\"][0],\n",
    "                                                                                     row.variant[1]),axis=1))"
   ]
  },
  {
   "cell_type": "code",
   "execution_count": null,
   "id": "185b957c",
   "metadata": {},
   "outputs": [],
   "source": [
    "gnomadFileNames[0]"
   ]
  },
  {
   "cell_type": "code",
   "execution_count": null,
   "id": "bce321da",
   "metadata": {},
   "outputs": [],
   "source": [
    "gnomadDFs[0]"
   ]
  },
  {
   "cell_type": "code",
   "execution_count": null,
   "id": "a2ebb10d",
   "metadata": {},
   "outputs": [],
   "source": [
    "for dfi,fn in zip(gnomadDFs, gnomadFileNames):\n",
    "    dfi.to_pickle(fn)"
   ]
  },
  {
   "cell_type": "code",
   "execution_count": null,
   "id": "5c7f8b0c",
   "metadata": {},
   "outputs": [],
   "source": []
  }
 ],
 "metadata": {
  "language_info": {
   "name": "python",
   "pygments_lexer": "ipython3"
  }
 },
 "nbformat": 4,
 "nbformat_minor": 5
}
