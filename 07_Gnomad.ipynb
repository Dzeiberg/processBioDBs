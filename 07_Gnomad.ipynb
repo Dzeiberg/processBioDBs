{
 "cells": [
  {
   "cell_type": "code",
   "execution_count": null,
   "id": "5d238a5d",
   "metadata": {},
   "outputs": [],
   "source": [
    "import hail as hl"
   ]
  },
  {
   "cell_type": "code",
   "execution_count": null,
   "id": "0512a72f",
   "metadata": {},
   "outputs": [],
   "source": [
    "from processBioDBs.utilities import getSequence"
   ]
  },
  {
   "cell_type": "code",
   "execution_count": null,
   "id": "0eb3fb8d",
   "metadata": {},
   "outputs": [],
   "source": [
    "mt = hl.import_vcf(\"/data/projects/processBio/gnomad/gnomad.exomes.r2.1.1.sites.vcf.gz\",force_bgz=True)"
   ]
  },
  {
   "cell_type": "code",
   "execution_count": null,
   "id": "32f37e28",
   "metadata": {},
   "outputs": [],
   "source": [
    "mt.describe(widget=True)"
   ]
  },
  {
   "cell_type": "code",
   "execution_count": null,
   "id": "71b84e25",
   "metadata": {},
   "outputs": [],
   "source": [
    "res = hl.vep(mt,config=\"/home/dzeiberg/ensembl-vep/vepConfig.json\")"
   ]
  },
  {
   "cell_type": "code",
   "execution_count": null,
   "id": "c546ea84",
   "metadata": {},
   "outputs": [],
   "source": [
    "missenseRes = res.filter_rows(res.vep.transcript_consequences.consequence_terms.contains([\"missense_variant\"]))\n",
    "\n"
   ]
  },
  {
   "cell_type": "code",
   "execution_count": null,
   "id": "40209e0e",
   "metadata": {},
   "outputs": [],
   "source": [
    "rows = missenseRes.row.take(4)"
   ]
  },
  {
   "cell_type": "code",
   "execution_count": null,
   "id": "fae5b8d6",
   "metadata": {},
   "outputs": [],
   "source": [
    "rows[0]"
   ]
  },
  {
   "cell_type": "markdown",
   "id": "d3f3633a",
   "metadata": {},
   "source": [
    "the following shows how to extract the variant, get the reference sequence and get the location of the mutation"
   ]
  },
  {
   "cell_type": "code",
   "execution_count": null,
   "id": "9b7e6cac",
   "metadata": {},
   "outputs": [],
   "source": [
    "rows[1].vep.transcript_consequences[0].amino_acids, getSequence(rows[1].vep.transcript_consequences[0].gene_symbol)[rows[1].vep.transcript_consequences[0].protein_start - 1]\n",
    "\n",
    "\n"
   ]
  },
  {
   "cell_type": "code",
   "execution_count": null,
   "id": "bfbba13c",
   "metadata": {},
   "outputs": [],
   "source": [
    "def getVariedSequence(t):\n",
    "    variant = t.amino_acids\n",
    "    loc = t.protein_start - 1\n",
    "    seq = \"ABC\"\n",
    "    return seq[:loc] + variant[-1] + seq[loc+1:]"
   ]
  },
  {
   "cell_type": "code",
   "execution_count": null,
   "id": "5f247b15",
   "metadata": {},
   "outputs": [],
   "source": [
    "variants = missenseRes.vep.transcript_consequences.map(lambda x: getVariedSequence(x))"
   ]
  },
  {
   "cell_type": "code",
   "execution_count": null,
   "id": "4d82bd91",
   "metadata": {},
   "outputs": [],
   "source": []
  }
 ],
 "metadata": {
  "language_info": {
   "name": "python",
   "pygments_lexer": "ipython3"
  }
 },
 "nbformat": 4,
 "nbformat_minor": 5
}
