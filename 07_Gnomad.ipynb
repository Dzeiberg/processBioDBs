{
 "cells": [
  {
   "cell_type": "code",
   "execution_count": null,
   "id": "5d238a5d",
   "metadata": {},
   "outputs": [],
   "source": [
    "import hail as hl"
   ]
  },
  {
   "cell_type": "code",
   "execution_count": null,
   "id": "0eb3fb8d",
   "metadata": {},
   "outputs": [],
   "source": [
    "mt = hl.import_vcf(\"/data/projects/processBio/gnomad/gnomad.exomes.r2.1.1.sites.vcf.bgz\")"
   ]
  },
  {
   "cell_type": "code",
   "execution_count": null,
   "id": "dc9b4559",
   "metadata": {},
   "outputs": [],
   "source": [
    "mt.info.variant_type.show(5)"
   ]
  },
  {
   "cell_type": "code",
   "execution_count": null,
   "id": "32f37e28",
   "metadata": {},
   "outputs": [],
   "source": [
    "mt.describe(widget=True)"
   ]
  },
  {
   "cell_type": "code",
   "execution_count": null,
   "id": "362db30b",
   "metadata": {},
   "outputs": [],
   "source": [
    "mt.entry.show(10)"
   ]
  },
  {
   "cell_type": "code",
   "execution_count": null,
   "id": "5417deb3",
   "metadata": {},
   "outputs": [],
   "source": [
    "mt.show(10)"
   ]
  },
  {
   "cell_type": "code",
   "execution_count": null,
   "id": "d9576e60",
   "metadata": {},
   "outputs": [],
   "source": [
    "mt.qual.show(10)"
   ]
  },
  {
   "cell_type": "code",
   "execution_count": null,
   "id": "71b84e25",
   "metadata": {},
   "outputs": [],
   "source": [
    "res = hl.vep(mt,config=\"/home/dzeiberg/ensembl-vep/vepConfig.json\")"
   ]
  },
  {
   "cell_type": "code",
   "execution_count": null,
   "id": "c546ea84",
   "metadata": {},
   "outputs": [],
   "source": [
    "missenseRes = res.filter_rows(res.vep.transcript_consequences.consequence_terms.contains([\"missense_variant\"]))"
   ]
  },
  {
   "cell_type": "code",
   "execution_count": null,
   "id": "40209e0e",
   "metadata": {},
   "outputs": [],
   "source": [
    "rows = missenseRes.row.take(4)"
   ]
  },
  {
   "cell_type": "code",
   "execution_count": null,
   "id": "a43414c3",
   "metadata": {},
   "outputs": [],
   "source": [
    "from processBioDBs.utilities import getSequence"
   ]
  },
  {
   "cell_type": "markdown",
   "id": "d3f3633a",
   "metadata": {},
   "source": [
    "the following shows how to extract the variant, get the reference sequence and get the location of the mutation"
   ]
  },
  {
   "cell_type": "code",
   "execution_count": null,
   "id": "9b7e6cac",
   "metadata": {},
   "outputs": [],
   "source": [
    "rows[1].vep.transcript_consequences[0].amino_acids, getSequence(rows[1].vep.transcript_consequences[0].gene_symbol)[rows[1].vep.transcript_consequences[0].protein_start - 1]"
   ]
  },
  {
   "cell_type": "code",
   "execution_count": null,
   "id": "bfbba13c",
   "metadata": {},
   "outputs": [],
   "source": [
    "def getVariedSequence(t):\n",
    "    variant = t.amino_acids\n",
    "    loc = t.protein_start - 1\n",
    "    seq = \"ABC\"\n",
    "    return seq[:loc] + variant[-1] + seq[loc+1:]"
   ]
  },
  {
   "cell_type": "code",
   "execution_count": null,
   "id": "5f247b15",
   "metadata": {},
   "outputs": [],
   "source": [
    "variants = missenseRes.vep.transcript_consequences.map(lambda x: getVariedSequence(x))"
   ]
  },
  {
   "cell_type": "code",
   "execution_count": null,
   "id": "4d82bd91",
   "metadata": {},
   "outputs": [],
   "source": []
  }
 ],
 "metadata": {
  "language_info": {
   "name": "python",
   "pygments_lexer": "ipython3"
  }
 },
 "nbformat": 4,
 "nbformat_minor": 5
}
