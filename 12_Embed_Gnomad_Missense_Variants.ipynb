{
 "cells": [
  {
   "cell_type": "code",
   "execution_count": null,
   "id": "cfd0a0c9",
   "metadata": {},
   "outputs": [],
   "source": [
    "from processBioDBs.utilities import getSequence"
   ]
  },
  {
   "cell_type": "code",
   "execution_count": null,
   "id": "a6202fcc",
   "metadata": {},
   "outputs": [],
   "source": [
    "import pandas as pd"
   ]
  },
  {
   "cell_type": "code",
   "execution_count": null,
   "id": "4ba87dd3",
   "metadata": {},
   "outputs": [],
   "source": [
    "df = pd.read_csv(\"/data/projects/processBio/gnomad/gnomad.exomes.r2.1.1.sites.vcf.vep\",header=93,delimiter=\"\\t\")"
   ]
  },
  {
   "cell_type": "code",
   "execution_count": null,
   "id": "2c2d5059",
   "metadata": {},
   "outputs": [],
   "source": [
    "missense = df[df.Consequence == \"missense_variant\"]"
   ]
  },
  {
   "cell_type": "code",
   "execution_count": null,
   "id": "03764b3b",
   "metadata": {},
   "outputs": [],
   "source": [
    "missense = missense.assign(INFO=missense.Extra.apply(lambda s: dict([l.split(\"=\") for l in s.split(\";\")])))"
   ]
  },
  {
   "cell_type": "code",
   "execution_count": null,
   "id": "850dabd6",
   "metadata": {},
   "outputs": [],
   "source": [
    "symbols = set(i[\"SYMBOL\"] if \"SYMBOL\" in i else \"\" for i in missense[\"info\"])"
   ]
  },
  {
   "cell_type": "code",
   "execution_count": null,
   "id": "d81d228d",
   "metadata": {},
   "outputs": [],
   "source": [
    "len(symbols)"
   ]
  },
  {
   "cell_type": "code",
   "execution_count": null,
   "id": "350096cb",
   "metadata": {},
   "outputs": [],
   "source": [
    "from tqdm.notebook import tqdm"
   ]
  },
  {
   "cell_type": "code",
   "execution_count": null,
   "id": "ab04dc6c",
   "metadata": {},
   "outputs": [],
   "source": [
    "enspIDS = set(missense.INFO.apply(lambda i: i[\"ENSP\"]))"
   ]
  },
  {
   "cell_type": "code",
   "execution_count": null,
   "id": "c9e7c339",
   "metadata": {},
   "outputs": [],
   "source": [
    "from multiprocessing import Pool\n",
    "\n",
    "def f(eid):\n",
    "    return ensembl_rest.sequence_id(eid)[\"seq\"]\n",
    "\n",
    "idMapping = {}\n",
    "\n",
    "for eid in tqdm(enspIDS):\n",
    "    idMapping[eid] = f(eid)"
   ]
  },
  {
   "cell_type": "code",
   "execution_count": null,
   "id": "b2dfb494",
   "metadata": {},
   "outputs": [],
   "source": [
    "def getSeq(row,):\n",
    "    # get the original (reference) amino acid, the variant, and the location of the variant (1-based so you need to convert to zero based)\n",
    "    og,var = row.Amino_acids.split(\"/\")\n",
    "    loc = int(row.Protein_position) - 1\n",
    "    eid = row[\"INFO\"][\"ENSP\"]\n",
    "    s = idMapping[eid]\n",
    "    if s == \"\" or loc >= len(s) or s[loc]!=og:\n",
    "        return \"\"\n",
    "    sequence = s[max(0,loc-510):loc] + var + s[loc+1:min(len(s), loc+1+510)]\n",
    "    return sequence"
   ]
  },
  {
   "cell_type": "code",
   "execution_count": null,
   "id": "c1866756",
   "metadata": {},
   "outputs": [],
   "source": [
    "missense = missense.assign(seq=missense.apply(lambda row: getSeq(row),axis=1))"
   ]
  },
  {
   "cell_type": "code",
   "execution_count": null,
   "id": "33124c37",
   "metadata": {},
   "outputs": [],
   "source": [
    "1 - (missense.seq != \"\").sum() / missense.shape[0]"
   ]
  },
  {
   "cell_type": "code",
   "execution_count": null,
   "id": "47895233",
   "metadata": {},
   "outputs": [],
   "source": [
    "missense"
   ]
  },
  {
   "cell_type": "code",
   "execution_count": null,
   "id": "910b07e1",
   "metadata": {},
   "outputs": [],
   "source": [
    "missense.to_pickle(\"/data/projects/processBio/gnomad/gnomad.missenseVariants.pd.pkl\")"
   ]
  },
  {
   "cell_type": "markdown",
   "id": "b6cd5cd8",
   "metadata": {},
   "source": [
    "# Embed Sequences"
   ]
  },
  {
   "cell_type": "code",
   "execution_count": null,
   "id": "fb530c94",
   "metadata": {},
   "outputs": [],
   "source": [
    "import torch\n",
    "import esm\n",
    "import os\n",
    "import torch.nn as nn\n",
    "os.environ['CUDA_DEVICE_ORDER']='PCI_BUS_ID'\n",
    "os.environ['CUDA_VISIBLE_DEVICES']='1,2,3'\n",
    "\n",
    "\n",
    "model, alphabet = esm.pretrained.esm1b_t33_650M_UR50S()\n",
    "batch_converter = alphabet.get_batch_converter()\n",
    "\n",
    "# model = nn.DataParallel(model.cuda())"
   ]
  },
  {
   "cell_type": "code",
   "execution_count": null,
   "id": "463955ab",
   "metadata": {},
   "outputs": [],
   "source": [
    "Data = list(missense.seq.items())"
   ]
  },
  {
   "cell_type": "code",
   "execution_count": null,
   "id": "fb55786c",
   "metadata": {},
   "outputs": [],
   "source": [
    "from tqdm.notebook import trange"
   ]
  },
  {
   "cell_type": "code",
   "execution_count": null,
   "id": "d2e6404a",
   "metadata": {},
   "outputs": [],
   "source": [
    "BATCHSIZE=2\n",
    "results = []\n",
    "for start in trange(0,len(Data),BATCHSIZE):\n",
    "    batch_labels, batch_strs, batch_tokens = batch_converter(Data[start : start + BATCHSIZE])\n",
    "    # Extract per-residue representations (on CPU)\n",
    "    with torch.no_grad():\n",
    "        results.append(model(batch_tokens, repr_layers=[33], return_contacts=True))"
   ]
  },
  {
   "cell_type": "code",
   "execution_count": null,
   "id": "397c7ad5",
   "metadata": {},
   "outputs": [],
   "source": []
  }
 ],
 "metadata": {
  "language_info": {
   "name": "python",
   "pygments_lexer": "ipython3"
  }
 },
 "nbformat": 4,
 "nbformat_minor": 5
}
