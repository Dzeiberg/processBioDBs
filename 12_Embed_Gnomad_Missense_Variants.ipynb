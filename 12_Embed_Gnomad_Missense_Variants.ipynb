{
 "cells": [
  {
   "cell_type": "code",
   "execution_count": null,
   "id": "cfd0a0c9",
   "metadata": {},
   "outputs": [],
   "source": [
    "from processBioDBs.utilities import getSequence"
   ]
  },
  {
   "cell_type": "code",
   "execution_count": null,
   "id": "a6202fcc",
   "metadata": {},
   "outputs": [],
   "source": [
    "import pandas as pd"
   ]
  },
  {
   "cell_type": "code",
   "execution_count": null,
   "id": "4ba87dd3",
   "metadata": {},
   "outputs": [],
   "source": [
    "df = pd.read_csv(\"/data/projects/processBio/gnomad/gnomad.exomes.r2.1.1.sites.vcf.vep\",header=93,delimiter=\"\\t\")"
   ]
  },
  {
   "cell_type": "code",
   "execution_count": null,
   "id": "7e4bbf00",
   "metadata": {},
   "outputs": [],
   "source": [
    "df.shape"
   ]
  },
  {
   "cell_type": "code",
   "execution_count": null,
   "id": "2c2d5059",
   "metadata": {},
   "outputs": [],
   "source": [
    "missense = df[df.Consequence == \"missense_variant\"]"
   ]
  },
  {
   "cell_type": "code",
   "execution_count": null,
   "id": "0111da2b",
   "metadata": {},
   "outputs": [],
   "source": [
    "missense.shape"
   ]
  },
  {
   "cell_type": "code",
   "execution_count": null,
   "id": "03764b3b",
   "metadata": {},
   "outputs": [],
   "source": [
    "missense = missense.assign(INFO=missense.Extra.apply(lambda s: dict([l.split(\"=\") for l in s.split(\";\")])))"
   ]
  },
  {
   "cell_type": "code",
   "execution_count": null,
   "id": "850dabd6",
   "metadata": {},
   "outputs": [],
   "source": [
    "symbols = set(i[\"SYMBOL\"] if \"SYMBOL\" in i else \"\" for i in missense[\"info\"])"
   ]
  },
  {
   "cell_type": "code",
   "execution_count": null,
   "id": "d81d228d",
   "metadata": {},
   "outputs": [],
   "source": [
    "len(symbols)"
   ]
  },
  {
   "cell_type": "code",
   "execution_count": null,
   "id": "350096cb",
   "metadata": {},
   "outputs": [],
   "source": [
    "from tqdm.notebook import tqdm"
   ]
  },
  {
   "cell_type": "code",
   "execution_count": null,
   "id": "ab04dc6c",
   "metadata": {},
   "outputs": [],
   "source": [
    "enspIDS = set(missense.INFO.apply(lambda i: i[\"ENSP\"]))"
   ]
  },
  {
   "cell_type": "code",
   "execution_count": null,
   "id": "c9e7c339",
   "metadata": {},
   "outputs": [],
   "source": [
    "from multiprocessing import Pool\n",
    "\n",
    "def f(eid):\n",
    "    return ensembl_rest.sequence_id(eid)[\"seq\"]\n",
    "\n",
    "idMapping = {}\n",
    "\n",
    "for eid in tqdm(enspIDS):\n",
    "    idMapping[eid] = f(eid)"
   ]
  },
  {
   "cell_type": "code",
   "execution_count": null,
   "id": "b2dfb494",
   "metadata": {},
   "outputs": [],
   "source": [
    "def getSeq(row,):\n",
    "    # get the original (reference) amino acid, the variant, and the location of the variant (1-based so you need to convert to zero based)\n",
    "    og,var = row.Amino_acids.split(\"/\")\n",
    "    loc = int(row.Protein_position) - 1\n",
    "    eid = row[\"INFO\"][\"ENSP\"]\n",
    "    s = idMapping[eid]\n",
    "    if s == \"\" or loc >= len(s) or s[loc]!=og:\n",
    "        return \"\"\n",
    "    sequence = s[max(0,loc-510):loc] + var + s[loc+1:min(len(s), loc+1+510)]\n",
    "    return sequence"
   ]
  },
  {
   "cell_type": "code",
   "execution_count": null,
   "id": "c1866756",
   "metadata": {},
   "outputs": [],
   "source": [
    "missense = missense.assign(seq=missense.apply(lambda row: getSeq(row),axis=1))"
   ]
  },
  {
   "cell_type": "code",
   "execution_count": null,
   "id": "33124c37",
   "metadata": {},
   "outputs": [],
   "source": [
    "1 - (missense.seq != \"\").sum() / missense.shape[0]"
   ]
  },
  {
   "cell_type": "code",
   "execution_count": null,
   "id": "47895233",
   "metadata": {},
   "outputs": [],
   "source": [
    "missense"
   ]
  },
  {
   "cell_type": "code",
   "execution_count": null,
   "id": "910b07e1",
   "metadata": {},
   "outputs": [],
   "source": [
    "missense.to_pickle(\"/data/projects/processBio/gnomad/gnomad.missenseVariants.pd.pkl\")"
   ]
  },
  {
   "cell_type": "markdown",
   "id": "12a9318d",
   "metadata": {},
   "source": [
    "# Embed Sequences"
   ]
  },
  {
   "cell_type": "code",
   "execution_count": null,
   "id": "4502d4ce",
   "metadata": {},
   "outputs": [],
   "source": [
    "missense = pd.read_pickle(\"/data/projects/processBio/gnomad/gnomad.missenseVariants.pd.pkl\")"
   ]
  },
  {
   "cell_type": "code",
   "execution_count": null,
   "id": "fb530c94",
   "metadata": {},
   "outputs": [],
   "source": [
    "import torch\n",
    "import esm\n",
    "import os\n",
    "import torch.nn as nn\n",
    "os.environ['CUDA_DEVICE_ORDER']='PCI_BUS_ID'\n",
    "os.environ['CUDA_VISIBLE_DEVICES']='1,2,3'\n",
    "\n",
    "\n",
    "model, alphabet = esm.pretrained.esm1b_t33_650M_UR50S()\n",
    "batch_converter = alphabet.get_batch_converter()\n",
    "\n",
    "# model = nn.DataParallel(model.cuda())"
   ]
  },
  {
   "cell_type": "code",
   "execution_count": null,
   "id": "0190d80d",
   "metadata": {},
   "outputs": [],
   "source": [
    "model = model.to(\"cuda:0\")"
   ]
  },
  {
   "cell_type": "code",
   "execution_count": null,
   "id": "463955ab",
   "metadata": {},
   "outputs": [],
   "source": [
    "WINDOW_SIZE = 500\n",
    "\n",
    "Data = list(missense.apply(lambda row: row.seq[max(0,\n",
    "                                                   int(row.Protein_position) - 1 - WINDOW_SIZE) : min(len(row.seq),\n",
    "                                                                                              int(row.Protein_position) + WINDOW_SIZE + 1)],axis=1).items())"
   ]
  },
  {
   "cell_type": "code",
   "execution_count": null,
   "id": "fb55786c",
   "metadata": {},
   "outputs": [],
   "source": [
    "from tqdm.notebook import trange"
   ]
  },
  {
   "cell_type": "code",
   "execution_count": null,
   "id": "d2e6404a",
   "metadata": {},
   "outputs": [],
   "source": [
    "BATCHSIZE=1\n",
    "representations = []\n",
    "for start in trange(0,len(Data),BATCHSIZE):\n",
    "    batch_labels, batch_strs, batch_tokens = batch_converter(Data[start : start + BATCHSIZE])\n",
    "    # Extract per-residue representations (on CPU)\n",
    "    with torch.no_grad():\n",
    "        results = model(batch_tokens.to(\"cuda:0\"), repr_layers=[33], return_contacts=True)\n",
    "    token_representations = results[\"representations\"][33].cpu()\n",
    "    del results, batch_labels, batch_strs, batch_tokens\n",
    "    representations.append(token_representations[0,1:-1].cpu().numpy())\n",
    "    del token_representations"
   ]
  },
  {
   "cell_type": "code",
   "execution_count": null,
   "id": "0e9586e4",
   "metadata": {},
   "outputs": [],
   "source": [
    "missense = missense.assign(representation=representations)"
   ]
  },
  {
   "cell_type": "code",
   "execution_count": null,
   "id": "773875d7",
   "metadata": {},
   "outputs": [],
   "source": [
    "from processBioDBs.utilities import prepSeq,getRep"
   ]
  },
  {
   "cell_type": "code",
   "execution_count": null,
   "id": "7e54913f",
   "metadata": {},
   "outputs": [],
   "source": [
    "prepSeq??"
   ]
  },
  {
   "cell_type": "code",
   "execution_count": null,
   "id": "0064359f",
   "metadata": {},
   "outputs": [],
   "source": [
    "missense.head()"
   ]
  },
  {
   "cell_type": "code",
   "execution_count": null,
   "id": "a69f9f8c",
   "metadata": {},
   "outputs": [],
   "source": [
    "missense = missense.assign(xi=missense.apply(lambda row: prepSeq(row.representation,\n",
    "                                                                 int(row.Protein_position) - 1,\n",
    "                                                                 originalWindowSize=500),axis=1))"
   ]
  },
  {
   "cell_type": "code",
   "execution_count": null,
   "id": "88fa55fc",
   "metadata": {},
   "outputs": [],
   "source": [
    "missense[missense.xi.isna()]"
   ]
  },
  {
   "cell_type": "code",
   "execution_count": null,
   "id": "e8a77c57",
   "metadata": {},
   "outputs": [],
   "source": [
    "badRows = missense[(missense.xi.apply(lambda xi: np.isnan(xi).any())) & (missense.seq.str.len() > 0)]"
   ]
  },
  {
   "cell_type": "code",
   "execution_count": null,
   "id": "ca48d166",
   "metadata": {},
   "outputs": [],
   "source": [
    "badRows.apply(lambda row: len(row.seq) < int(row.Protein_position) - 1,axis=1).all()"
   ]
  },
  {
   "cell_type": "code",
   "execution_count": null,
   "id": "bd7068de",
   "metadata": {},
   "outputs": [],
   "source": [
    "import numpy as np"
   ]
  },
  {
   "cell_type": "code",
   "execution_count": null,
   "id": "d4fd6c20",
   "metadata": {},
   "outputs": [],
   "source": [
    "X = np.stack(missense[(missense.seq.str.len() > 0) & missense.apply(lambda row: int(row.Protein_position) - 1 < len(row.seq),axis=1)].xi.values)"
   ]
  },
  {
   "cell_type": "code",
   "execution_count": null,
   "id": "716a5e15",
   "metadata": {},
   "outputs": [],
   "source": [
    "np.isnan(X).any()"
   ]
  },
  {
   "cell_type": "code",
   "execution_count": null,
   "id": "97d00b83",
   "metadata": {},
   "outputs": [],
   "source": [
    "np.save(\"/data/projects/processBio/gnomad/gnomadValidMissenseVariantEmbeddings.npy\",X)"
   ]
  },
  {
   "cell_type": "code",
   "execution_count": null,
   "id": "91b00c90",
   "metadata": {},
   "outputs": [],
   "source": [
    "X.shape"
   ]
  },
  {
   "cell_type": "code",
   "execution_count": null,
   "id": "7c4ecb2d",
   "metadata": {},
   "outputs": [],
   "source": []
  }
 ],
 "metadata": {
  "language_info": {
   "name": "python",
   "pygments_lexer": "ipython3"
  }
 },
 "nbformat": 4,
 "nbformat_minor": 5
}
