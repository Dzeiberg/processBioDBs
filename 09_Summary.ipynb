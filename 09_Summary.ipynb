{
 "cells": [
  {
   "cell_type": "code",
   "execution_count": null,
   "id": "418f5c5e",
   "metadata": {},
   "outputs": [],
   "source": [
    "import pandas as pd"
   ]
  },
  {
   "cell_type": "code",
   "execution_count": null,
   "id": "0b74b7c5",
   "metadata": {},
   "outputs": [],
   "source": [
    "hgmd = pd.read_csv(\"/data/projects/processBio/hgmd/variant_df.csv\")"
   ]
  },
  {
   "cell_type": "code",
   "execution_count": null,
   "id": "6683f50b",
   "metadata": {},
   "outputs": [],
   "source": [
    "hgmd"
   ]
  },
  {
   "cell_type": "code",
   "execution_count": null,
   "id": "07558b2c",
   "metadata": {},
   "outputs": [],
   "source": [
    "# clinvar = pd.read_pickle(\"/data/projects/processBio/clinvar/clinvar/parseClinvarRepresentations.pkl\")"
   ]
  },
  {
   "cell_type": "code",
   "execution_count": null,
   "id": "04946bbb",
   "metadata": {},
   "outputs": [],
   "source": [
    "clinvarDF = pd.read_csv(\"/data/projects/processBio/clinvar/clinvar/parseClinvarWithVariant.csv\")"
   ]
  },
  {
   "cell_type": "code",
   "execution_count": null,
   "id": "4510c867",
   "metadata": {},
   "outputs": [],
   "source": [
    "clinvarDF"
   ]
  },
  {
   "cell_type": "code",
   "execution_count": null,
   "id": "c6c8c6ac",
   "metadata": {},
   "outputs": [],
   "source": [
    "gnomad = pd.read_pickle(\"/data/projects/processBio/gnomad/gnomad.missenseVariants.pd.pkl\")"
   ]
  },
  {
   "cell_type": "code",
   "execution_count": null,
   "id": "3a64bf0b",
   "metadata": {},
   "outputs": [],
   "source": [
    "gnomad"
   ]
  },
  {
   "cell_type": "code",
   "execution_count": null,
   "id": "1a3d1d4e",
   "metadata": {},
   "outputs": [],
   "source": [
    "gnomadSymbols = gnomad[gnomad.seq != \"\"].INFO.apply(lambda i: i[\"SYMBOL\"] if \"SYMBOL\" in i else \"\")"
   ]
  },
  {
   "cell_type": "code",
   "execution_count": null,
   "id": "56cee5a6",
   "metadata": {},
   "outputs": [],
   "source": [
    "gnomadSymbols"
   ]
  },
  {
   "cell_type": "code",
   "execution_count": null,
   "id": "bde56b9c",
   "metadata": {},
   "outputs": [],
   "source": [
    "clinvarSymbols = clinvarDF[\"GeneSymbol\"]"
   ]
  },
  {
   "cell_type": "code",
   "execution_count": null,
   "id": "0cd43b40",
   "metadata": {},
   "outputs": [],
   "source": [
    "hgmdSymbols = hgmd[\"GENE\"]"
   ]
  },
  {
   "cell_type": "code",
   "execution_count": null,
   "id": "0967c5f0",
   "metadata": {},
   "outputs": [],
   "source": [
    "symbols = pd.concat([clinvarSymbols,\n",
    "                     hgmdSymbols,\n",
    "                     gnomadSymbols])"
   ]
  },
  {
   "cell_type": "code",
   "execution_count": null,
   "id": "5dcf51a6",
   "metadata": {},
   "outputs": [],
   "source": [
    "symbols.shape"
   ]
  },
  {
   "cell_type": "code",
   "execution_count": null,
   "id": "9a26e0d0",
   "metadata": {},
   "outputs": [],
   "source": [
    "symbols.value_counts().shape, \"{:.3f}\".format(symbols.value_counts().mean())"
   ]
  },
  {
   "cell_type": "code",
   "execution_count": null,
   "id": "9210d840",
   "metadata": {},
   "outputs": [],
   "source": []
  }
 ],
 "metadata": {
  "language_info": {
   "name": "python",
   "pygments_lexer": "ipython3"
  }
 },
 "nbformat": 4,
 "nbformat_minor": 5
}
