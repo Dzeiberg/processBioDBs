{
 "cells": [
  {
   "cell_type": "code",
   "execution_count": null,
   "id": "418f5c5e",
   "metadata": {},
   "outputs": [],
   "source": [
    "import pandas as pd\n",
    "import numpy as np"
   ]
  },
  {
   "cell_type": "code",
   "execution_count": null,
   "id": "0b74b7c5",
   "metadata": {},
   "outputs": [],
   "source": [
    "hgmd = pd.read_csv(\"/data/projects/processBio/hgmd/variant_df.csv\")"
   ]
  },
  {
   "cell_type": "code",
   "execution_count": null,
   "id": "6683f50b",
   "metadata": {},
   "outputs": [],
   "source": [
    "hgmd = hgmd.rename({\"GENE\":\"GeneSymbol\"},axis=1)"
   ]
  },
  {
   "cell_type": "code",
   "execution_count": null,
   "id": "858eaa54",
   "metadata": {},
   "outputs": [],
   "source": [
    "hgmd = hgmd.assign(label=True)"
   ]
  },
  {
   "cell_type": "code",
   "execution_count": null,
   "id": "49fb6595",
   "metadata": {},
   "outputs": [],
   "source": [
    "hgmdX = np.load(\"/data/projects/processBio/hgmd/X.npy\")"
   ]
  },
  {
   "cell_type": "code",
   "execution_count": null,
   "id": "04946bbb",
   "metadata": {},
   "outputs": [],
   "source": [
    "clinvarDF = pd.read_csv(\"/data/projects/processBio/clinvar/clinvar/parseClinvarWithVariant.csv\").rename({\"variantSeq\": \"seq\"},axis=1)"
   ]
  },
  {
   "cell_type": "code",
   "execution_count": null,
   "id": "115f3956",
   "metadata": {},
   "outputs": [],
   "source": [
    "clinvarDF[clinvarDF.seq != \"\"]"
   ]
  },
  {
   "cell_type": "code",
   "execution_count": null,
   "id": "e15a601a",
   "metadata": {},
   "outputs": [],
   "source": [
    "import pickle\n",
    "clinvarEmbeddings = pickle.load(open(\"/data/projects/processBio/clinvar/clinvar/parseClinvarRepresentations.pkl\",\"rb\"))"
   ]
  },
  {
   "cell_type": "code",
   "execution_count": null,
   "id": "83b2334e",
   "metadata": {},
   "outputs": [],
   "source": [
    "clinvarDF = clinvarDF[[len(e) > 0 for e in clinvarEmbeddings]]"
   ]
  },
  {
   "cell_type": "code",
   "execution_count": null,
   "id": "a4452440",
   "metadata": {},
   "outputs": [],
   "source": [
    "clinvarDF"
   ]
  },
  {
   "cell_type": "code",
   "execution_count": null,
   "id": "1a6d9e1c",
   "metadata": {},
   "outputs": [],
   "source": [
    "clinvarX = np.load(\"/data/projects/processBio/clinvar/clinvar/X.npy\")"
   ]
  },
  {
   "cell_type": "code",
   "execution_count": null,
   "id": "9d279750",
   "metadata": {},
   "outputs": [],
   "source": [
    "clinvarX.shape"
   ]
  },
  {
   "cell_type": "code",
   "execution_count": null,
   "id": "c6c8c6ac",
   "metadata": {},
   "outputs": [],
   "source": [
    "gnomad = pd.read_pickle(\"/data/projects/processBio/gnomad/gnomad.missenseVariants.pd.pkl\")"
   ]
  },
  {
   "cell_type": "code",
   "execution_count": null,
   "id": "3a64bf0b",
   "metadata": {},
   "outputs": [],
   "source": [
    "gnomad = gnomad[gnomad.apply(lambda row: len(row.seq) > int(row.Protein_position) - 1,axis=1)]"
   ]
  },
  {
   "cell_type": "code",
   "execution_count": null,
   "id": "8e541547",
   "metadata": {},
   "outputs": [],
   "source": [
    "gnomadX = np.load(\"/data/projects/processBio/gnomad/gnomadValidMissenseVariantEmbeddings.npy\")"
   ]
  },
  {
   "cell_type": "code",
   "execution_count": null,
   "id": "0b6016af",
   "metadata": {},
   "outputs": [],
   "source": [
    "gnomadX.shape"
   ]
  },
  {
   "cell_type": "code",
   "execution_count": null,
   "id": "1a3d1d4e",
   "metadata": {},
   "outputs": [],
   "source": [
    "gnomadSymbols = gnomad.INFO.apply(lambda i: i[\"SYMBOL\"] if \"SYMBOL\" in i else \"\")\n",
    "gnomad=gnomad.assign(GeneSymbol=gnomadSymbols)"
   ]
  },
  {
   "cell_type": "code",
   "execution_count": null,
   "id": "a4c8411a",
   "metadata": {},
   "outputs": [],
   "source": [
    "gnomad[gnomad.GeneSymbol == \"\"]"
   ]
  },
  {
   "cell_type": "code",
   "execution_count": null,
   "id": "bde56b9c",
   "metadata": {},
   "outputs": [],
   "source": [
    "clinvarSymbols = clinvarDF[\"GeneSymbol\"]"
   ]
  },
  {
   "cell_type": "code",
   "execution_count": null,
   "id": "0cd43b40",
   "metadata": {},
   "outputs": [],
   "source": [
    "hgmdSymbols = hgmd[\"GeneSymbol\"]"
   ]
  },
  {
   "cell_type": "code",
   "execution_count": null,
   "id": "0967c5f0",
   "metadata": {},
   "outputs": [],
   "source": [
    "symbols = pd.concat([clinvarSymbols,\n",
    "                     hgmdSymbols,\n",
    "                     gnomadSymbols])"
   ]
  },
  {
   "cell_type": "code",
   "execution_count": null,
   "id": "5dcf51a6",
   "metadata": {},
   "outputs": [],
   "source": [
    "symbols.shape"
   ]
  },
  {
   "cell_type": "code",
   "execution_count": null,
   "id": "9a26e0d0",
   "metadata": {},
   "outputs": [],
   "source": [
    "symbols.value_counts().shape, \"{:.3f}\".format(symbols.value_counts().mean())"
   ]
  },
  {
   "cell_type": "markdown",
   "id": "2a2453de",
   "metadata": {},
   "source": [
    "# Combine all datasets"
   ]
  },
  {
   "cell_type": "code",
   "execution_count": null,
   "id": "105f6f7f",
   "metadata": {},
   "outputs": [],
   "source": [
    "gnomad = gnomad.assign(label=np.nan)"
   ]
  },
  {
   "cell_type": "code",
   "execution_count": null,
   "id": "addeacf0",
   "metadata": {},
   "outputs": [],
   "source": [
    "data =pd.concat((gnomad[[\"seq\",\"label\",\"GeneSymbol\"]],\n",
    "           clinvarDF[[\"seq\",\"label\",\"GeneSymbol\"]],\n",
    "           hgmd[[\"label\", \"seq\",\"GeneSymbol\"]]))"
   ]
  },
  {
   "cell_type": "code",
   "execution_count": null,
   "id": "fdd616bd",
   "metadata": {},
   "outputs": [],
   "source": [
    "X = np.concatenate((gnomadX, clinvarX,hgmdX))"
   ]
  },
  {
   "cell_type": "code",
   "execution_count": null,
   "id": "9c7add6e",
   "metadata": {},
   "outputs": [],
   "source": []
  },
  {
   "cell_type": "code",
   "execution_count": null,
   "id": "99b70969",
   "metadata": {},
   "outputs": [],
   "source": [
    "gnomadX.shape, clinvarX.shape, hgmdX.shape, X.shape"
   ]
  },
  {
   "cell_type": "code",
   "execution_count": null,
   "id": "4993682d",
   "metadata": {},
   "outputs": [],
   "source": [
    "clinvarDF.label.value_counts()"
   ]
  },
  {
   "cell_type": "code",
   "execution_count": null,
   "id": "fc4fba7e",
   "metadata": {},
   "outputs": [],
   "source": [
    "np.save(\"/data/projects/processBio/X.npy\",X)"
   ]
  },
  {
   "cell_type": "code",
   "execution_count": null,
   "id": "2a7d05ca",
   "metadata": {},
   "outputs": [],
   "source": [
    "data.to_pickle(\"/data/projects/processBio/df.pd.pkl\")"
   ]
  },
  {
   "cell_type": "code",
   "execution_count": null,
   "id": "91d4f67e",
   "metadata": {},
   "outputs": [],
   "source": [
    "alphas = []\n",
    "numPos = []\n",
    "numNeg = []\n",
    "for (idx,group) in data[~data.label.isna()].groupby(\"GeneSymbol\"):\n",
    "    labels = group.label\n",
    "    if labels.sum() > 0 and labels.sum() < labels.shape[0]:\n",
    "        alphas.append(labels.sum() / labels.shape[0])\n",
    "        numPos.append(labels.sum())\n",
    "        numNeg.append(labels.shape[0] - labels.sum())"
   ]
  },
  {
   "cell_type": "code",
   "execution_count": null,
   "id": "88dd4be8",
   "metadata": {},
   "outputs": [],
   "source": [
    "len(alphas)"
   ]
  },
  {
   "cell_type": "code",
   "execution_count": null,
   "id": "e5797dbb",
   "metadata": {},
   "outputs": [],
   "source": [
    "(data.GeneSymbol == \"\").any()"
   ]
  },
  {
   "cell_type": "code",
   "execution_count": null,
   "id": "a0955ff6",
   "metadata": {},
   "outputs": [],
   "source": [
    "data.groupby(\"GeneSymbol\").count()"
   ]
  },
  {
   "cell_type": "code",
   "execution_count": null,
   "id": "99c9f519",
   "metadata": {},
   "outputs": [],
   "source": [
    "import matplotlib.pyplot as plt\n",
    "plt.hist(alphas,)"
   ]
  },
  {
   "cell_type": "markdown",
   "id": "ed5c5639",
   "metadata": {},
   "source": [
    "# Can I skip clustering by using the mutpred data clusters?"
   ]
  },
  {
   "cell_type": "code",
   "execution_count": null,
   "id": "c5839bd9",
   "metadata": {},
   "outputs": [],
   "source": [
    "mutpreddf = pd.read_csv(\"/data/projects/mutpred/mutpred2_revised_val_cleaned_cluster50.txt\",header=10,delimiter=\"\\t\")\n",
    "mutpreddf = mutpreddf.assign(symbol=mutpreddf.internal_id.apply(lambda x: [xi.replace(\"_HUMAN\",\"\") for xi in x.split(\";\")  if \"HUMAN\" in xi]))"
   ]
  },
  {
   "cell_type": "code",
   "execution_count": null,
   "id": "25ac159e",
   "metadata": {},
   "outputs": [],
   "source": [
    "mutpreddf"
   ]
  },
  {
   "cell_type": "code",
   "execution_count": null,
   "id": "816d71a9",
   "metadata": {},
   "outputs": [],
   "source": [
    "mpsymbols = set([s[0] for s in mutpreddf.symbol if len(s)])"
   ]
  },
  {
   "cell_type": "code",
   "execution_count": null,
   "id": "83507d25",
   "metadata": {},
   "outputs": [],
   "source": [
    "pd.Series(data.GeneSymbol.unique()).isin(mpsymbols).value_counts()"
   ]
  },
  {
   "cell_type": "markdown",
   "id": "d5fe6a8b",
   "metadata": {},
   "source": [
    "I cannot..."
   ]
  },
  {
   "cell_type": "code",
   "execution_count": null,
   "id": "c80c1862",
   "metadata": {},
   "outputs": [],
   "source": [
    "data[~data.label.isna()].groupby(\"GeneSymbol\").count().mean()"
   ]
  },
  {
   "cell_type": "code",
   "execution_count": null,
   "id": "3f8a4d7f",
   "metadata": {},
   "outputs": [],
   "source": [
    "data[~data.label.isna()]"
   ]
  },
  {
   "cell_type": "code",
   "execution_count": null,
   "id": "e2e7fdf2",
   "metadata": {},
   "outputs": [],
   "source": [
    "data.label.value_counts()"
   ]
  },
  {
   "cell_type": "code",
   "execution_count": null,
   "id": "1ff86cdb",
   "metadata": {},
   "outputs": [],
   "source": [
    "data.label.shape"
   ]
  },
  {
   "cell_type": "code",
   "execution_count": null,
   "id": "3961d326",
   "metadata": {},
   "outputs": [],
   "source": []
  }
 ],
 "metadata": {
  "language_info": {
   "name": "python",
   "pygments_lexer": "ipython3"
  }
 },
 "nbformat": 4,
 "nbformat_minor": 5
}
