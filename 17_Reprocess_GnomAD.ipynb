{
 "cells": [
  {
   "cell_type": "code",
   "execution_count": null,
   "id": "7ab0a8f5",
   "metadata": {},
   "outputs": [],
   "source": [
    "from cyvcf2 import VCF\n",
    "from tqdm.notebook import tqdm"
   ]
  },
  {
   "cell_type": "code",
   "execution_count": null,
   "id": "531f188e",
   "metadata": {},
   "outputs": [],
   "source": [
    "aaTable = {\"Ala\":\"A\",\n",
    "           \"Arg\": \"R\",\n",
    "           \"Asn\": \"N\",\n",
    "           \"Asp\": \"D\",\n",
    "           \"Cys\": \"C\",\n",
    "           \"Gln\": \"Q\",\n",
    "           \"Glu\": \"E\",\n",
    "           \"Gly\": \"G\",\n",
    "           \"His\": \"H\",\n",
    "           \"Ile\": \"I\",\n",
    "           \"Leu\": \"L\",\n",
    "           \"Lys\": \"K\",\n",
    "           \"Met\": \"M\",\n",
    "           \"Phe\": \"F\",\n",
    "           \"Pro\": \"P\",\n",
    "           \"Ser\": \"S\",\n",
    "           \"Thr\": \"T\",\n",
    "           \"Trp\": \"W\",\n",
    "           \"Tyr\": \"Y\",\n",
    "           \"Val\": \"V\"}"
   ]
  },
  {
   "cell_type": "code",
   "execution_count": null,
   "id": "18079f58",
   "metadata": {},
   "outputs": [],
   "source": [
    "missenseCount = 0\n",
    "hgvs = []\n",
    "for variant in tqdm(VCF(\"/data/projects/processBio/gnomad/gnomad.exomes.r2.1.1.sites.vcf\")):\n",
    "    vep = variant.INFO.get(\"vep\")\n",
    "    if len(vep):\n",
    "        vep = vep.split(\"|\")\n",
    "    else:\n",
    "        continue\n",
    "    if \"missense\" in vep[1]:\n",
    "        missenseCount += 1\n",
    "        hgvs.append(vep[11])"
   ]
  },
  {
   "cell_type": "code",
   "execution_count": null,
   "id": "53336881",
   "metadata": {},
   "outputs": [],
   "source": [
    "missenseCount"
   ]
  },
  {
   "cell_type": "code",
   "execution_count": null,
   "id": "37b712c8",
   "metadata": {},
   "outputs": [],
   "source": [
    "len(hgvs)"
   ]
  },
  {
   "cell_type": "code",
   "execution_count": null,
   "id": "8663661c",
   "metadata": {},
   "outputs": [],
   "source": [
    "hgvs"
   ]
  },
  {
   "cell_type": "code",
   "execution_count": null,
   "id": "988c22a6",
   "metadata": {},
   "outputs": [],
   "source": [
    "ensemblIDS = set([p.split(\":\")[0] for p in hgvs])"
   ]
  },
  {
   "cell_type": "code",
   "execution_count": null,
   "id": "7348835f",
   "metadata": {},
   "outputs": [],
   "source": [
    "len(ensemblIDS)"
   ]
  },
  {
   "cell_type": "code",
   "execution_count": null,
   "id": "e873a32e",
   "metadata": {},
   "outputs": [],
   "source": [
    "from io import StringIO\n",
    "\n",
    "import urllib.parse\n",
    "import urllib.request\n",
    "\n",
    "url = 'https://www.uniprot.org/uploadlists/'\n",
    "\n",
    "params = {\n",
    "'from': 'ENSEMBL_PRO_ID',\n",
    "'to': 'ACC',\n",
    "'format': 'tab',\n",
    "'query': ' '.join([i[:i.find(\".\")] for i in list(ensemblIDS)])\n",
    "}\n",
    "\n",
    "data = urllib.parse.urlencode(params)\n",
    "data = data.encode('utf-8')\n",
    "req = urllib.request.Request(url, data)\n",
    "with urllib.request.urlopen(req) as f:\n",
    "    response = f.read()\n",
    "\n",
    "idmapping = dict([r.split(\"\\t\") for r in response.decode('utf-8').split(\"\\n\")[1:-1]])"
   ]
  },
  {
   "cell_type": "code",
   "execution_count": null,
   "id": "e486eb00",
   "metadata": {},
   "outputs": [],
   "source": [
    "len(idmapping)"
   ]
  },
  {
   "cell_type": "code",
   "execution_count": null,
   "id": "57c22fcc",
   "metadata": {},
   "outputs": [],
   "source": [
    "def get_uniprot_sequences(uniprot_ids):\n",
    "        \"\"\"\n",
    "        Retrieve uniprot sequences based on a list of uniprot sequence identifier.\n",
    "\n",
    "        For large lists it is recommended to perform batch retrieval.\n",
    "\n",
    "        documentation which columns are available:\n",
    "        https://www.uniprot.org/help/uniprotkb%5Fcolumn%5Fnames\n",
    "\n",
    "        this python script is based on\n",
    "        https://www.biostars.org/p/67822/\n",
    "\n",
    "        Parameters:\n",
    "            uniprot_ids: List, list of uniprot identifier\n",
    "\n",
    "        Returns:\n",
    "            pd.DataFrame, pandas dataframe with uniprot id column and sequence\n",
    "        \"\"\"\n",
    "        import urllib\n",
    "        import pandas as pd\n",
    "        url = 'https://www.uniprot.org/uploadlists/'  # This is the webserver to retrieve the Uniprot data\n",
    "        params = {\n",
    "            'from': \"ACC\",\n",
    "            'to': 'ACC',\n",
    "            'format': 'tab',\n",
    "            'query': \" \".join(uniprot_ids),\n",
    "            'columns': 'id,sequence'}\n",
    "\n",
    "        data = urllib.parse.urlencode(params)\n",
    "        data = data.encode('ascii')\n",
    "        request = urllib.request.Request(url, data)\n",
    "        with urllib.request.urlopen(request) as response:\n",
    "            res = response.read()\n",
    "        print(res)\n",
    "        df_fasta = pd.read_csv(StringIO(res.decode(\"utf-8\")), sep=\"\\t\")\n",
    "        df_fasta.columns = [\"Entry\", \"Sequence\", \"Query\"]\n",
    "        # it might happen that 2 different ids for a single query id are returned, split these rows\n",
    "        return df_fasta.assign(Query=df_fasta['Query'].str.split(',')).explode('Query')"
   ]
  },
  {
   "cell_type": "code",
   "execution_count": null,
   "id": "cd91bfd4",
   "metadata": {},
   "outputs": [],
   "source": [
    "uniprot = get_uniprot_sequences(idmapping.values())"
   ]
  },
  {
   "cell_type": "code",
   "execution_count": null,
   "id": "ea018f41",
   "metadata": {},
   "outputs": [],
   "source": [
    "uniprot"
   ]
  },
  {
   "cell_type": "code",
   "execution_count": null,
   "id": "d3dfbdd4",
   "metadata": {},
   "outputs": [],
   "source": [
    "variantSeqs = []\n",
    "for variant in tqdm(hgvs):\n",
    "    id_, variant = variant.split(\":\")\n",
    "    og,loc,var = variant[2:5], int(variant[5:-3])-1, variant[-3:]\n",
    "    ensp = id_[:id_.find(\".\")]\n",
    "    if ensp not in idmapping:\n",
    "        continue\n",
    "    seq = uniprot[uniprot.Entry == idmapping[ensp]].Sequence\n",
    "    if og in aaTable and var in aaTable and loc < len(seq):\n",
    "        variantSeqs.append(seq[:loc] + var + seq[loc+1:])"
   ]
  },
  {
   "cell_type": "code",
   "execution_count": null,
   "id": "123fd6b6",
   "metadata": {},
   "outputs": [],
   "source": [
    "variantSeqs"
   ]
  },
  {
   "cell_type": "code",
   "execution_count": null,
   "id": "5ea7c5fa",
   "metadata": {},
   "outputs": [],
   "source": []
  }
 ],
 "metadata": {
  "language_info": {
   "name": "python",
   "pygments_lexer": "ipython3"
  }
 },
 "nbformat": 4,
 "nbformat_minor": 5
}
