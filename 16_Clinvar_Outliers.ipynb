{
 "cells": [
  {
   "cell_type": "code",
   "execution_count": null,
   "id": "de4bc83d",
   "metadata": {},
   "outputs": [],
   "source": [
    "from Bio import Entrez\n",
    "\n",
    "import xml.etree.ElementTree as ET\n",
    "import pandas as pd\n",
    "import numpy as np"
   ]
  },
  {
   "cell_type": "code",
   "execution_count": null,
   "id": "dbe9f0e8",
   "metadata": {},
   "outputs": [],
   "source": [
    "Entrez.email = \"zeiberg.d@northeastern.edu\""
   ]
  },
  {
   "cell_type": "markdown",
   "id": "bc827c1d",
   "metadata": {},
   "source": [
    "# Example 1"
   ]
  },
  {
   "cell_type": "code",
   "execution_count": null,
   "id": "04ddbaac",
   "metadata": {},
   "outputs": [],
   "source": [
    "def getTree(RCVID):\n",
    "    handle = Entrez.efetch(db=\"clinvar\",id=RCVID, rettype=\"clinvarset\", retmode=\"text\")\n",
    "    lines = handle.read()\n",
    "\n",
    "    return ET.fromstring(lines)"
   ]
  },
  {
   "cell_type": "code",
   "execution_count": null,
   "id": "5f18a48f",
   "metadata": {},
   "outputs": [],
   "source": [
    "def getClinSig(tree):\n",
    "    return tree.find(\"ClinVarSet\").find(\"ReferenceClinVarAssertion\").find(\"ClinicalSignificance\").find(\"Description\").text"
   ]
  },
  {
   "cell_type": "code",
   "execution_count": null,
   "id": "3f5b8246",
   "metadata": {},
   "outputs": [],
   "source": [
    "def getVariants(tree):\n",
    "    variants = [e.find(\"Attribute\") for e in tree.find(\"ClinVarSet\").find(\"ReferenceClinVarAssertion\").find(\"MeasureSet\").find(\"Measure\").findall(\"AttributeSet\") if e.find(\"Attribute\").attrib[\"Type\"] == \"HGVS, protein, RefSeq\"]\n",
    "    return [v.attrib for v in variants]"
   ]
  },
  {
   "cell_type": "code",
   "execution_count": null,
   "id": "8ac0f3d6",
   "metadata": {},
   "outputs": [],
   "source": [
    "tree1 = getTree(\"RCV000000036\")"
   ]
  },
  {
   "cell_type": "code",
   "execution_count": null,
   "id": "d0e57208",
   "metadata": {},
   "outputs": [],
   "source": [
    "getClinSig(tree1)"
   ]
  },
  {
   "cell_type": "code",
   "execution_count": null,
   "id": "3a2e915a",
   "metadata": {},
   "outputs": [],
   "source": [
    "variants = getVariants(tree1)"
   ]
  },
  {
   "cell_type": "code",
   "execution_count": null,
   "id": "f14ecaf3",
   "metadata": {},
   "outputs": [],
   "source": [
    "variants"
   ]
  },
  {
   "cell_type": "markdown",
   "id": "27c968c6",
   "metadata": {},
   "source": [
    "# Example 2"
   ]
  },
  {
   "cell_type": "code",
   "execution_count": null,
   "id": "dcca249e",
   "metadata": {},
   "outputs": [],
   "source": [
    "tree2 = getTree(\"RCV000000077\")"
   ]
  },
  {
   "cell_type": "code",
   "execution_count": null,
   "id": "cbbb54a7",
   "metadata": {},
   "outputs": [],
   "source": [
    "getClinSig(tree2)"
   ]
  },
  {
   "cell_type": "code",
   "execution_count": null,
   "id": "e55edfcd",
   "metadata": {},
   "outputs": [],
   "source": [
    "getVariants(tree2)"
   ]
  },
  {
   "cell_type": "markdown",
   "id": "0c308255",
   "metadata": {},
   "source": [
    "# Example 3"
   ]
  },
  {
   "cell_type": "code",
   "execution_count": null,
   "id": "506267b9",
   "metadata": {},
   "outputs": [],
   "source": [
    "tree3 = getTree(\"RCV000000206\")"
   ]
  },
  {
   "cell_type": "code",
   "execution_count": null,
   "id": "2e7cef1d",
   "metadata": {},
   "outputs": [],
   "source": [
    "getClinSig(tree3)"
   ]
  },
  {
   "cell_type": "code",
   "execution_count": null,
   "id": "cb6343c7",
   "metadata": {},
   "outputs": [],
   "source": [
    "getVariants(tree3)"
   ]
  },
  {
   "cell_type": "markdown",
   "id": "785436d6",
   "metadata": {},
   "source": [
    "# Lets get it"
   ]
  },
  {
   "cell_type": "code",
   "execution_count": null,
   "id": "887965be",
   "metadata": {},
   "outputs": [],
   "source": [
    "summary = pd.read_csv(\"/data/projects/processBio/clinvar/clinvar/variant_summary.txt\",delimiter=\"\\t\")"
   ]
  },
  {
   "cell_type": "code",
   "execution_count": null,
   "id": "7999dc15",
   "metadata": {},
   "outputs": [],
   "source": [
    "summary = summary[(summary.Type == \"single nucleotide variant\") & (summary.ReviewStatus.isin([\"criteria provided, single submitter\",\n",
    "              \"criteria provided, multiple submitters, no conflicts\",\n",
    "              \"reviewed by expert panel\",\n",
    "              \"practice guideline\",\n",
    "              ])) & (summary.Assembly == \"GRCh38\")]\n"
   ]
  },
  {
   "cell_type": "code",
   "execution_count": null,
   "id": "7a2204ac",
   "metadata": {},
   "outputs": [],
   "source": [
    "summary = summary.assign(nmid=summary.Name.apply(lambda n: n[:n.find(\"(\")]))"
   ]
  },
  {
   "cell_type": "code",
   "execution_count": null,
   "id": "0535e2f0",
   "metadata": {},
   "outputs": [],
   "source": [
    "summary"
   ]
  },
  {
   "cell_type": "code",
   "execution_count": null,
   "id": "a7e45867",
   "metadata": {},
   "outputs": [],
   "source": [
    "clinvar = summary[(summary.ClinicalSignificance.isin([\"Likely benign\",\n",
    "                                                                     \"Benign\", \n",
    "                                                                     \"Pathogenic\",\n",
    "                                                                     \"Likely pathogenic\",\n",
    "                                                                     \"Benign/Likely benign\",\n",
    "                                                                     \"Pathogenic/Likely pathogenic\"]))]"
   ]
  },
  {
   "cell_type": "code",
   "execution_count": null,
   "id": "1a71fa68",
   "metadata": {},
   "outputs": [],
   "source": [
    "clinvar"
   ]
  },
  {
   "cell_type": "code",
   "execution_count": null,
   "id": "69a25ab6",
   "metadata": {},
   "outputs": [],
   "source": [
    "def extractVariantFromClinvar(n):\n",
    "    if n.rfind(\"(p.\") != -1:\n",
    "        variant = n[n.rfind(\"(p.\") + 3 : -1]\n",
    "#         print(variant)\n",
    "        og,loc,var = variant[:3], variant[3:-3], variant[-3:]\n",
    "        try:\n",
    "            loc = int(loc) -1\n",
    "        except ValueError:\n",
    "            return np.nan, np.nan,np.nan\n",
    "        if variant[-1] == \"=\":\n",
    "#             print(\"variant is =\")\n",
    "            return np.nan, np.nan,np.nan\n",
    "        return og,loc,var\n",
    "    return np.nan, np.nan, np.nan"
   ]
  },
  {
   "cell_type": "code",
   "execution_count": null,
   "id": "d46f42da",
   "metadata": {},
   "outputs": [],
   "source": [
    "clinvar = clinvar.assign(variantInfo=clinvar.Name.apply(lambda n: extractVariantFromClinvar(n)))"
   ]
  },
  {
   "cell_type": "code",
   "execution_count": null,
   "id": "e269c0b0",
   "metadata": {},
   "outputs": [],
   "source": [
    "outliers = clinvar[clinvar.variantInfo.apply(lambda t: pd.isna(t[0]))]"
   ]
  },
  {
   "cell_type": "code",
   "execution_count": null,
   "id": "6de4595e",
   "metadata": {},
   "outputs": [],
   "source": [
    "accessions = outliers.RCVaccession.apply(lambda s: s.split(\"|\")[0])"
   ]
  },
  {
   "cell_type": "code",
   "execution_count": null,
   "id": "46cef2b8",
   "metadata": {},
   "outputs": [],
   "source": [
    "accessions"
   ]
  },
  {
   "cell_type": "code",
   "execution_count": null,
   "id": "52f46742",
   "metadata": {},
   "outputs": [],
   "source": [
    "from tqdm.notebook import tqdm"
   ]
  },
  {
   "cell_type": "code",
   "execution_count": null,
   "id": "a896bd0b",
   "metadata": {},
   "outputs": [],
   "source": [
    "trees = {}\n",
    "for a in tqdm(accessions):\n",
    "    try:\n",
    "        trees[a] = getTree(a)\n",
    "    except Entrez.HTTPError:\n",
    "        trees[a] = np.nan"
   ]
  },
  {
   "cell_type": "code",
   "execution_count": null,
   "id": "48b8af50",
   "metadata": {},
   "outputs": [],
   "source": [
    "len(trees)"
   ]
  },
  {
   "cell_type": "code",
   "execution_count": null,
   "id": "c5019fce",
   "metadata": {},
   "outputs": [],
   "source": [
    "import pickle"
   ]
  },
  {
   "cell_type": "code",
   "execution_count": null,
   "id": "5900482a",
   "metadata": {},
   "outputs": [],
   "source": [
    "pickle.dump(trees, open(\"/data/projects/processBio/clinvar/clinvar/outlierTrees.pkl\",\"wb\"))"
   ]
  },
  {
   "cell_type": "code",
   "execution_count": null,
   "id": "57f91e40",
   "metadata": {},
   "outputs": [],
   "source": [
    "treeVariants = {}\n",
    "for rcv, t in tqdm(trees.items()):\n",
    "    if not pd.isna(t):\n",
    "        treeVariants[rcv] = getVariants(t)"
   ]
  },
  {
   "cell_type": "code",
   "execution_count": null,
   "id": "9bfdc17c",
   "metadata": {},
   "outputs": [],
   "source": [
    "treeConsequences = {}\n",
    "for rcv, t in tqdm(trees.items()):\n",
    "    if not pd.isna(t):\n",
    "        treeConsequences[rcv] = getClinSig(t)"
   ]
  },
  {
   "cell_type": "code",
   "execution_count": null,
   "id": "3e51fd96",
   "metadata": {},
   "outputs": [],
   "source": [
    "treeVariants[\"RCV000000036\"]"
   ]
  },
  {
   "cell_type": "code",
   "execution_count": null,
   "id": "7dab891b",
   "metadata": {},
   "outputs": [],
   "source": [
    "for v,c in zip(*np.unique(list(treeConsequences.values()),return_counts=True)):\n",
    "    print(v,\"\\t\", c)"
   ]
  },
  {
   "cell_type": "code",
   "execution_count": null,
   "id": "cdef738d",
   "metadata": {},
   "outputs": [],
   "source": [
    "from Bio import Entrez\n",
    "Entrez.email = 'zeiberg.d2@northeastern.edu'\n",
    "\n",
    "def getSequenceFromNPID(npid):\n",
    "    \"Return the protein sequence from \"\n",
    "    handle = Entrez.efetch(db=\"protein\",id=npid, rettype=\"fasta\", retmode=\"text\")\n",
    "    lines = handle.readlines()\n",
    "    lines = [l.strip() for l in lines]\n",
    "    return \"\".join(lines[1:])\n",
    "\n",
    "npid2seq = pickle.load(open(\"/data/projects/processBio/ncbi/npid2seq.pkl\",\"rb\"))"
   ]
  },
  {
   "cell_type": "code",
   "execution_count": null,
   "id": "570e3a57",
   "metadata": {},
   "outputs": [],
   "source": [
    "aaTable = {\"Ala\":\"A\",\n",
    "           \"Arg\": \"R\",\n",
    "           \"Asn\": \"N\",\n",
    "           \"Asp\": \"D\",\n",
    "           \"Cys\": \"C\",\n",
    "           \"Gln\": \"Q\",\n",
    "           \"Glu\": \"E\",\n",
    "           \"Gly\": \"G\",\n",
    "           \"His\": \"H\",\n",
    "           \"Ile\": \"I\",\n",
    "           \"Leu\": \"L\",\n",
    "           \"Lys\": \"K\",\n",
    "           \"Met\": \"M\",\n",
    "           \"Phe\": \"F\",\n",
    "           \"Pro\": \"P\",\n",
    "           \"Ser\": \"S\",\n",
    "           \"Thr\": \"T\",\n",
    "           \"Trp\": \"W\",\n",
    "           \"Tyr\": \"Y\",\n",
    "           \"Val\": \"V\"}"
   ]
  },
  {
   "cell_type": "code",
   "execution_count": null,
   "id": "149416ea",
   "metadata": {},
   "outputs": [],
   "source": [
    "tableDicts = []\n",
    "mismatchCount = 0\n",
    "for rcv in tqdm(set(treeConsequences.keys()).intersection(set(treeVariants.keys()))):\n",
    "    consequence = treeConsequences[rcv]\n",
    "    variants = treeVariants[rcv]\n",
    "    if consequence in [\"Benign\",\n",
    "                       \"Benign/Likely benign\",\n",
    "                       \"Likely benign\"]:\n",
    "        label = 0\n",
    "    elif consequence in [\"Likely pathogenic\",\n",
    "                         \"Pathogenic\",\n",
    "                         \"Pathogenic/Likely pathogenic\"]:\n",
    "        label = 1\n",
    "    else:\n",
    "        print(\"invalid label\")\n",
    "        continue\n",
    "    for variant in variants:\n",
    "        npid = variant[\"Accession\"]\n",
    "        if npid in npid2seq:\n",
    "            seq = npid2seq[npid]\n",
    "        else:\n",
    "            seq = getSequenceFromNPID(npid)\n",
    "            npid2seq[npid] = seq\n",
    "        if \"Change\" not in variant:\n",
    "            print(\"can't find change\")\n",
    "            continue\n",
    "        varstr = variant[\"Change\"]\n",
    "        og,loc,var = varstr[2:5], varstr[5:-3], varstr[-3:]\n",
    "        try:\n",
    "            loc = int(loc) - 1\n",
    "        except ValueError:\n",
    "            print(\"can't parse location\", varstr)\n",
    "            continue\n",
    "        if og not in aaTable or var not in aaTable:\n",
    "            print(\"invalid AAs\", varstr)\n",
    "            continue\n",
    "        if len(seq) < loc or seq[loc] != var:\n",
    "            print(\"~~~~~~~~ mismatch\", varstr)\n",
    "            mismatchCount += 1\n",
    "            continue\n",
    "        tableDicts.append({\n",
    "            \"npid\":npid,\n",
    "            \"rcv\" : rcv,\n",
    "            \"label\": label,\n",
    "            \"seq\" : seq[:int(loc)] + var + seq[int(loc)+1:]\n",
    "        })\n",
    "\n"
   ]
  },
  {
   "cell_type": "code",
   "execution_count": null,
   "id": "164ac804",
   "metadata": {},
   "outputs": [],
   "source": [
    "mismatchCount"
   ]
  },
  {
   "cell_type": "code",
   "execution_count": null,
   "id": "93f6f09e",
   "metadata": {},
   "outputs": [],
   "source": [
    "tableDicts"
   ]
  },
  {
   "cell_type": "code",
   "execution_count": null,
   "id": "4b1df694",
   "metadata": {},
   "outputs": [],
   "source": []
  }
 ],
 "metadata": {
  "language_info": {
   "name": "python",
   "pygments_lexer": "ipython3"
  }
 },
 "nbformat": 4,
 "nbformat_minor": 5
}
