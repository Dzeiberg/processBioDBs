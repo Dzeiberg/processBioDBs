{
 "cells": [
  {
   "cell_type": "code",
   "execution_count": null,
   "id": "cfd0a0c9",
   "metadata": {},
   "outputs": [],
   "source": [
    "from processBioDBs.utilities import getSequence\n",
    "from processBioDBs.embedding import *"
   ]
  },
  {
   "cell_type": "code",
   "execution_count": null,
   "id": "88a239db",
   "metadata": {},
   "outputs": [],
   "source": [
    "getSequenceRepresentation??"
   ]
  },
  {
   "cell_type": "code",
   "execution_count": null,
   "id": "a6202fcc",
   "metadata": {},
   "outputs": [],
   "source": [
    "import pandas as pd"
   ]
  },
  {
   "cell_type": "code",
   "execution_count": null,
   "id": "625d1e1f",
   "metadata": {},
   "outputs": [],
   "source": [
    "getSequenceRepresentation??"
   ]
  },
  {
   "cell_type": "code",
   "execution_count": null,
   "id": "4ba87dd3",
   "metadata": {},
   "outputs": [],
   "source": [
    "df = pd.read_csv(\"/data/projects/processBio/gnomad/gnomad.exomes.r2.1.1.sites.vcf.vep\",header=93,delimiter=\"\\t\")"
   ]
  },
  {
   "cell_type": "code",
   "execution_count": null,
   "id": "2c2d5059",
   "metadata": {},
   "outputs": [],
   "source": [
    "missense = df[df.Consequence == \"missense_variant\"]"
   ]
  },
  {
   "cell_type": "code",
   "execution_count": null,
   "id": "8ccca6c3",
   "metadata": {},
   "outputs": [],
   "source": [
    "missense"
   ]
  },
  {
   "cell_type": "code",
   "execution_count": null,
   "id": "03764b3b",
   "metadata": {},
   "outputs": [],
   "source": [
    "missense = missense.assign(info=missense.Extra.apply(lambda s: dict([l.split(\"=\") for l in s.split(\";\")])))"
   ]
  },
  {
   "cell_type": "code",
   "execution_count": null,
   "id": "a3300535",
   "metadata": {},
   "outputs": [],
   "source": [
    "missense[missense[\"info\"].apply(lambda i: i[\"SYMBOL\"] == \"MTHFR\" if \"SYMBOL\" in i else False)].drop_duplicates([\"Protein_position\", \"Amino_acids\"])"
   ]
  },
  {
   "cell_type": "markdown",
   "id": "591c81e8",
   "metadata": {},
   "source": [
    "# Example for generating an embedding"
   ]
  },
  {
   "cell_type": "code",
   "execution_count": null,
   "id": "708cf476",
   "metadata": {},
   "outputs": [],
   "source": [
    "def getEmbedding(idx):\n",
    "    info = dict([i.split(\"=\") for i in missense.loc[idx].Extra.split(\";\")])\n",
    "\n",
    "    # get the original (reference) amino acid, the variant, and the location of the variant (1-based so you need to convert to zero based)\n",
    "    og,var = missense.loc[idx].Amino_acids.split(\"/\")\n",
    "    loc = int(missense.loc[idx].Protein_position) - 1\n",
    "\n",
    "    s = getSequence(info[\"SYMBOL\"])\n",
    "    if s[loc]!=og:\n",
    "        return []\n",
    "    sequence = s[:loc] + var + s[loc+1:]\n",
    "\n",
    "    sequenceRepresentation = getSequenceRepresentation([(idx, sequence)])\n",
    "\n",
    "    return sequenceRepresentation[0]"
   ]
  },
  {
   "cell_type": "code",
   "execution_count": null,
   "id": "e6723594",
   "metadata": {},
   "outputs": [],
   "source": [
    "getEmbedding(missense.index[0])"
   ]
  },
  {
   "cell_type": "markdown",
   "id": "134c8b06",
   "metadata": {},
   "source": [
    "# Embed all missense variants"
   ]
  },
  {
   "cell_type": "code",
   "execution_count": null,
   "id": "4e8c30f7",
   "metadata": {},
   "outputs": [],
   "source": [
    "from tqdm.notebook import tqdm"
   ]
  },
  {
   "cell_type": "code",
   "execution_count": null,
   "id": "d757ac36",
   "metadata": {},
   "outputs": [],
   "source": [
    "representations = []\n",
    "for idx in tqdm(missense.index):\n",
    "    rep = getEmbedding(idx)\n",
    "    representations.append(rep)"
   ]
  },
  {
   "cell_type": "code",
   "execution_count": null,
   "id": "397c7ad5",
   "metadata": {},
   "outputs": [],
   "source": []
  }
 ],
 "metadata": {
  "language_info": {
   "name": "python",
   "pygments_lexer": "ipython3"
  }
 },
 "nbformat": 4,
 "nbformat_minor": 5
}
