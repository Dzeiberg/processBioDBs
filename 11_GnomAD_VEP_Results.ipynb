{
 "cells": [
  {
   "cell_type": "code",
   "execution_count": null,
   "id": "9b36a05b",
   "metadata": {},
   "outputs": [],
   "source": [
    "from processBioDBs.utilities import getSequence\n",
    "from processBioDBs.embedding import *"
   ]
  },
  {
   "cell_type": "code",
   "execution_count": null,
   "id": "1e38672b",
   "metadata": {},
   "outputs": [],
   "source": [
    "import pandas as pd"
   ]
  },
  {
   "cell_type": "code",
   "execution_count": null,
   "id": "7974b730",
   "metadata": {},
   "outputs": [],
   "source": [
    "getSequenceRepresentation??"
   ]
  },
  {
   "cell_type": "code",
   "execution_count": null,
   "id": "eb37e3a9",
   "metadata": {},
   "outputs": [],
   "source": [
    "df = pd.read_csv(\"/data/projects/processBio/gnomad/gnomad.exomes.r2.1.1.sites.vcf.vep\",header=93,delimiter=\"\\t\")"
   ]
  },
  {
   "cell_type": "code",
   "execution_count": null,
   "id": "ac8afdb4",
   "metadata": {},
   "outputs": [],
   "source": [
    "missense = df[df.Consequence == \"missense_variant\"]"
   ]
  },
  {
   "cell_type": "code",
   "execution_count": null,
   "id": "9fa5a7ea",
   "metadata": {},
   "outputs": [],
   "source": [
    "missense"
   ]
  },
  {
   "cell_type": "markdown",
   "id": "59c7ee92",
   "metadata": {},
   "source": [
    "# Example for generating an embedding"
   ]
  },
  {
   "cell_type": "code",
   "execution_count": null,
   "id": "232cd733",
   "metadata": {},
   "outputs": [],
   "source": [
    "info = dict([i.split(\"=\") for i in missense.iloc[0].Extra.split(\";\")])"
   ]
  },
  {
   "cell_type": "markdown",
   "id": "7148f3a1",
   "metadata": {},
   "source": [
    "get the original (reference) amino acid, the variant, and the location of the variant (1-based so you need to convert to zero based)"
   ]
  },
  {
   "cell_type": "code",
   "execution_count": null,
   "id": "07e84735",
   "metadata": {},
   "outputs": [],
   "source": [
    "og,var = missense.iloc[0].Amino_acids.split(\"/\")\n",
    "loc = int(missense.iloc[0].Protein_position) - 1"
   ]
  },
  {
   "cell_type": "code",
   "execution_count": null,
   "id": "24b469b5",
   "metadata": {},
   "outputs": [],
   "source": [
    "s = getSequence(info[\"SYMBOL\"])\n",
    "assert s[loc]==og\n",
    "sequence = s[:loc] + var + s[loc+1:]"
   ]
  },
  {
   "cell_type": "code",
   "execution_count": null,
   "id": "e221f438",
   "metadata": {},
   "outputs": [],
   "source": [
    "sequenceRepresentation = getSequenceRepresentation([(df.index[0], sequence)])"
   ]
  },
  {
   "cell_type": "code",
   "execution_count": null,
   "id": "7612101b",
   "metadata": {},
   "outputs": [],
   "source": [
    "sequenceRepresentation[0].shape"
   ]
  },
  {
   "cell_type": "code",
   "execution_count": null,
   "id": "8fed05a6",
   "metadata": {},
   "outputs": [],
   "source": []
  }
 ],
 "metadata": {
  "language_info": {
   "name": "python",
   "pygments_lexer": "ipython3"
  }
 },
 "nbformat": 4,
 "nbformat_minor": 5
}
