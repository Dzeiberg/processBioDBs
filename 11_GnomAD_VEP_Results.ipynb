{
 "cells": [
  {
   "cell_type": "code",
   "execution_count": null,
   "id": "d9506c89",
   "metadata": {},
   "outputs": [],
   "source": [
    "from processBioDBs.utilities import getSequence\n",
    "from processBioDBs.embedding import *"
   ]
  },
  {
   "cell_type": "code",
   "execution_count": null,
   "id": "c4e50b4e",
   "metadata": {},
   "outputs": [],
   "source": [
    "import pandas as pd"
   ]
  },
  {
   "cell_type": "code",
   "execution_count": null,
   "id": "ed2ffbee",
   "metadata": {},
   "outputs": [],
   "source": [
    "getSequenceRepresentation??"
   ]
  },
  {
   "cell_type": "code",
   "execution_count": null,
   "id": "830dce35",
   "metadata": {},
   "outputs": [],
   "source": [
    "df = pd.read_csv(\"/data/projects/processBio/gnomad/gnomad.exomes.r2.1.1.sites.vcf.vep\",header=93,delimiter=\"\\t\")"
   ]
  },
  {
   "cell_type": "code",
   "execution_count": null,
   "id": "b0ad0dc9",
   "metadata": {},
   "outputs": [],
   "source": [
    "missense = df[df.Consequence == \"missense_variant\"]"
   ]
  },
  {
   "cell_type": "markdown",
   "id": "fae02599",
   "metadata": {},
   "source": [
    "# Example for generating an embedding"
   ]
  },
  {
   "cell_type": "code",
   "execution_count": null,
   "id": "74f806bb",
   "metadata": {},
   "outputs": [],
   "source": [
    "info = dict([i.split(\"=\") for i in missense.iloc[0].Extra.split(\";\")])"
   ]
  },
  {
   "cell_type": "code",
   "execution_count": null,
   "id": "90afdd33",
   "metadata": {},
   "outputs": [],
   "source": [
    "sequence = getSequence(info[\"SYMBOL\"])"
   ]
  },
  {
   "cell_type": "code",
   "execution_count": null,
   "id": "8bdfce19",
   "metadata": {},
   "outputs": [],
   "source": [
    "sequenceRepresentation = getSequenceRepresentation([(df.index[0], sequence)])"
   ]
  },
  {
   "cell_type": "code",
   "execution_count": null,
   "id": "13b5ec5c",
   "metadata": {},
   "outputs": [],
   "source": [
    "sequenceRepresentation[0].shape"
   ]
  },
  {
   "cell_type": "code",
   "execution_count": null,
   "id": "87697a10",
   "metadata": {},
   "outputs": [],
   "source": []
  }
 ],
 "metadata": {
  "language_info": {
   "name": "python",
   "pygments_lexer": "ipython3"
  }
 },
 "nbformat": 4,
 "nbformat_minor": 5
}
