{
 "cells": [
  {
   "cell_type": "code",
   "execution_count": null,
   "id": "914fc529",
   "metadata": {},
   "outputs": [],
   "source": [
    "import pandas as pd"
   ]
  },
  {
   "cell_type": "code",
   "execution_count": null,
   "id": "eea6c3ab",
   "metadata": {},
   "outputs": [],
   "source": [
    "! head -n 94 /data/projects/processBio/gnomad/gnomad.exomes.r2.1.1.sites.vcf.vep"
   ]
  },
  {
   "cell_type": "code",
   "execution_count": null,
   "id": "aaf56ab7",
   "metadata": {},
   "outputs": [],
   "source": [
    "df = pd.read_csv(\"/data/projects/processBio/gnomad/gnomad.exomes.r2.1.1.sites.vcf.vep\",header=93,delimiter=\"\\t\")"
   ]
  },
  {
   "cell_type": "code",
   "execution_count": null,
   "id": "78d41237",
   "metadata": {},
   "outputs": [],
   "source": [
    "missense = df[df.Consequence == \"missense_variant\"]"
   ]
  },
  {
   "cell_type": "code",
   "execution_count": null,
   "id": "0f03de66",
   "metadata": {},
   "outputs": [],
   "source": [
    "missense.iloc[0].Extra.split(\";\")"
   ]
  },
  {
   "cell_type": "code",
   "execution_count": null,
   "id": "2f2c0dc5",
   "metadata": {},
   "outputs": [],
   "source": []
  }
 ],
 "metadata": {
  "language_info": {
   "name": "python",
   "pygments_lexer": "ipython3"
  }
 },
 "nbformat": 4,
 "nbformat_minor": 5
}
