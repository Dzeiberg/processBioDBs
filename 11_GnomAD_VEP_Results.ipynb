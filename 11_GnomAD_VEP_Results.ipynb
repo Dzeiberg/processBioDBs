{
 "cells": [
  {
   "cell_type": "code",
   "execution_count": null,
   "id": "cfd0a0c9",
   "metadata": {},
   "outputs": [],
   "source": [
    "from processBioDBs.utilities import getSequence\n",
    "from processBioDBs.embedding import *"
   ]
  },
  {
   "cell_type": "code",
   "execution_count": null,
   "id": "a6202fcc",
   "metadata": {},
   "outputs": [],
   "source": [
    "import pandas as pd"
   ]
  },
  {
   "cell_type": "code",
   "execution_count": null,
   "id": "625d1e1f",
   "metadata": {},
   "outputs": [],
   "source": [
    "getSequenceRepresentation??"
   ]
  },
  {
   "cell_type": "code",
   "execution_count": null,
   "id": "4ba87dd3",
   "metadata": {},
   "outputs": [],
   "source": [
    "df = pd.read_csv(\"/data/projects/processBio/gnomad/gnomad.exomes.r2.1.1.sites.vcf.vep\",header=93,delimiter=\"\\t\")"
   ]
  },
  {
   "cell_type": "code",
   "execution_count": null,
   "id": "2c2d5059",
   "metadata": {},
   "outputs": [],
   "source": [
    "missense = df[df.Consequence == \"missense_variant\"]"
   ]
  },
  {
   "cell_type": "code",
   "execution_count": null,
   "id": "8c6e3e9a",
   "metadata": {},
   "outputs": [],
   "source": [
    "missense"
   ]
  },
  {
   "cell_type": "markdown",
   "id": "591c81e8",
   "metadata": {},
   "source": [
    "# Example for generating an embedding"
   ]
  },
  {
   "cell_type": "code",
   "execution_count": null,
   "id": "708cf476",
   "metadata": {},
   "outputs": [],
   "source": [
    "def getEmbedding(idx):\n",
    "    info = dict([i.split(\"=\") for i in missense.loc[idx].Extra.split(\";\")])\n",
    "\n",
    "    # get the original (reference) amino acid, the variant, and the location of the variant (1-based so you need to convert to zero based)\n",
    "    og,var = missense.loc[idx].Amino_acids.split(\"/\")\n",
    "    loc = int(missense.loc[idx].Protein_position) - 1\n",
    "\n",
    "    s = getSequence(info[\"SYMBOL\"])\n",
    "    assert s[loc]==og\n",
    "    sequence = s[:loc] + var + s[loc+1:]\n",
    "\n",
    "    sequenceRepresentation = getSequenceRepresentation([(idx, sequence)])\n",
    "\n",
    "    return sequenceRepresentation[0]"
   ]
  },
  {
   "cell_type": "code",
   "execution_count": null,
   "id": "e6723594",
   "metadata": {},
   "outputs": [],
   "source": [
    "getEmbedding(missense.index[0])"
   ]
  },
  {
   "cell_type": "code",
   "execution_count": null,
   "id": "a0936c69",
   "metadata": {},
   "outputs": [],
   "source": []
  }
 ],
 "metadata": {
  "language_info": {
   "name": "python",
   "pygments_lexer": "ipython3"
  }
 },
 "nbformat": 4,
 "nbformat_minor": 5
}
