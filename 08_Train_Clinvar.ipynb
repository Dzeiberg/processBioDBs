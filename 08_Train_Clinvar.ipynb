{
 "cells": [
  {
   "cell_type": "code",
   "execution_count": null,
   "id": "ccab6e99",
   "metadata": {},
   "outputs": [],
   "source": [
    "import pickle\n",
    "import numpy as np\n",
    "import pandas as pd"
   ]
  },
  {
   "cell_type": "code",
   "execution_count": null,
   "id": "233c47c7",
   "metadata": {},
   "outputs": [],
   "source": [
    "embeddings = pickle.load(open(\"/data/projects/processBio/clinvar/clinvar/parseClinvarRepresentations.pkl\",\"rb\"))"
   ]
  },
  {
   "cell_type": "code",
   "execution_count": null,
   "id": "7743d5df",
   "metadata": {},
   "outputs": [],
   "source": [
    "df = pd.read_csv(\"/data/projects/processBio/clinvar/clinvar/parseClinvarWithVariant.csv\")"
   ]
  },
  {
   "cell_type": "code",
   "execution_count": null,
   "id": "132e5152",
   "metadata": {},
   "outputs": [],
   "source": [
    "df.loc[0]"
   ]
  },
  {
   "cell_type": "code",
   "execution_count": null,
   "id": "70044780",
   "metadata": {},
   "outputs": [],
   "source": [
    "def getRep(rep,L,originalWindow=510, W=3):\n",
    "    i,j = max(0, L-originalWindow),min(len(rep), L + originalWindow)\n",
    "    k,m = max(0,L - W - i), min(len(rep),L + W - i + 1)\n",
    "    return rep[k : m]"
   ]
  },
  {
   "cell_type": "markdown",
   "id": "badcc39f",
   "metadata": {},
   "source": [
    "m0[1 2 3 4 5]6\n",
    "  I   L   J\n",
    "    K   M"
   ]
  },
  {
   "cell_type": "code",
   "execution_count": null,
   "id": "f10a7093",
   "metadata": {},
   "outputs": [],
   "source": [
    "getRep(np.arange(1,6), 3, W=1,originalWindow=2)"
   ]
  },
  {
   "cell_type": "markdown",
   "id": "a171107e",
   "metadata": {},
   "source": [
    "0 1 2 3 4 5 6\n",
    "I   L     J\n",
    "  K   M  "
   ]
  },
  {
   "cell_type": "code",
   "execution_count": null,
   "id": "d9efde99",
   "metadata": {},
   "outputs": [],
   "source": [
    "getRep(np.arange(0,5), 3, W=2,originalWindow=2)"
   ]
  },
  {
   "cell_type": "markdown",
   "id": "de725a79",
   "metadata": {},
   "source": [
    "0[1 2 3 4 5 6]\n",
    "  I     L   J\n",
    "    K       M"
   ]
  },
  {
   "cell_type": "code",
   "execution_count": null,
   "id": "1e3afa30",
   "metadata": {},
   "outputs": [],
   "source": [
    "getRep(np.arange(1,7),4, originalWindow=3,W=2)"
   ]
  },
  {
   "cell_type": "code",
   "execution_count": null,
   "id": "7b25323a",
   "metadata": {},
   "outputs": [],
   "source": [
    "def prepSeq(idx,dfi=df,windowSizes=[2,4,8,16,32,64,128,256]):\n",
    "    rep = embeddings[idx][0]\n",
    "    L = int(dfi.loc[idx,\"variant\"][3:-3]) - 1\n",
    "    xi = np.concatenate([getRep(rep,L, originalWindow=510,W=w).mean(0) for w in windowSizes])\n",
    "    return xi"
   ]
  },
  {
   "cell_type": "code",
   "execution_count": null,
   "id": "8d472d39",
   "metadata": {},
   "outputs": [],
   "source": [
    "from tqdm.notebook import tqdm"
   ]
  },
  {
   "cell_type": "code",
   "execution_count": null,
   "id": "621fffdf",
   "metadata": {},
   "outputs": [],
   "source": [
    "Xs = []\n",
    "Ys = []\n",
    "for i,idx in tqdm(enumerate(df.index),total=df.shape[0]):\n",
    "    if len(embeddings[i]) >= 1:\n",
    "        Xs.append(prepSeq(idx))\n",
    "        Ys.append(df.loc[idx,\"label\"])"
   ]
  },
  {
   "cell_type": "code",
   "execution_count": null,
   "id": "e558ef9f",
   "metadata": {},
   "outputs": [],
   "source": [
    "X = np.array(Xs)"
   ]
  },
  {
   "cell_type": "code",
   "execution_count": null,
   "id": "8df1a78b",
   "metadata": {},
   "outputs": [],
   "source": [
    "X.shape"
   ]
  },
  {
   "cell_type": "code",
   "execution_count": null,
   "id": "4eb8fc1f",
   "metadata": {},
   "outputs": [],
   "source": [
    "len(Ys)"
   ]
  },
  {
   "cell_type": "code",
   "execution_count": null,
   "id": "cffed518",
   "metadata": {},
   "outputs": [],
   "source": [
    "np.save(\"/data/projects/processBio/clinvar/clinvar/X.npy\",X)\n",
    "np.save(\"/data/projects/processBio/clinvar/clinvar/y.npy\",Ys)"
   ]
  }
 ],
 "metadata": {
  "language_info": {
   "name": "python",
   "pygments_lexer": "ipython3"
  }
 },
 "nbformat": 4,
 "nbformat_minor": 5
}
