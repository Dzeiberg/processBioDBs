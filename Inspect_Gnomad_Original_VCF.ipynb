{
 "cells": [
  {
   "cell_type": "code",
   "execution_count": null,
   "id": "71cc3465",
   "metadata": {},
   "outputs": [],
   "source": [
    "import pandas as pd\n",
    "import vcf\n",
    "\n",
    "def read(f):\n",
    "    reader = vcf.Reader(open(f))\n",
    "    df = pd.DataFrame([vars(r) for r in reader])\n",
    "    out = df.merge(pd.DataFrame(df.INFO.tolist()),\n",
    "                   left_index=True, right_index=True)\n",
    "    return out"
   ]
  },
  {
   "cell_type": "code",
   "execution_count": null,
   "id": "bc17753b",
   "metadata": {},
   "outputs": [],
   "source": [
    "from tqdm.notebook import tqdm"
   ]
  },
  {
   "cell_type": "code",
   "execution_count": null,
   "id": "c1768050",
   "metadata": {},
   "outputs": [],
   "source": [
    "from multiprocessing import Pool"
   ]
  },
  {
   "cell_type": "code",
   "execution_count": null,
   "id": "0dc1f9ac",
   "metadata": {},
   "outputs": [],
   "source": [
    "reader = vcf.Reader(open(\"/data/projects/processBio/gnomad/gnomad.exomes.r2.1.1.sites.vcf\"))"
   ]
  },
  {
   "cell_type": "code",
   "execution_count": null,
   "id": "923dafcd",
   "metadata": {},
   "outputs": [],
   "source": [
    "def parseVEP(record):\n",
    "    return [v.split(\"|\") for v in record.INFO[\"vep\"]]"
   ]
  },
  {
   "cell_type": "code",
   "execution_count": null,
   "id": "48048e6a",
   "metadata": {},
   "outputs": [],
   "source": [
    "with Pool() as p:\n",
    "    vepResults = p.map(parseVEP,reader)"
   ]
  },
  {
   "cell_type": "code",
   "execution_count": null,
   "id": "e8bc91f6",
   "metadata": {},
   "outputs": [],
   "source": [
    "cols = \"\"\"Allele|Consequence|IMPACT|SYMBOL|Gene|Feature_type|Feature|BIOTYPE|EXON|IN\n",
    "TRON|HGVSc|HGVSp|cDNA_position|CDS_position|Protein_position|Amino_acids|Codons|Existing_variation|ALLELE_NUM|DISTANCE|STRAND|FLAGS|VARIANT_CLASS|MINIMISED|SYMBOL_SOURCE|HGN\n",
    "C_ID|CANONICAL|TSL|APPRIS|CCDS|ENSP|SWISSPROT|TREMBL|UNIPARC|GENE_PHENO|SIFT|PolyPhen|DOMAINS|HGVS_OFFSET|GMAF|AFR_MAF|AMR_MAF|EAS_MAF|EUR_MAF|SAS_MAF|AA_MAF|EA_MAF|ExAC_MAF\n",
    "|ExAC_Adj_MAF|ExAC_AFR_MAF|ExAC_AMR_MAF|ExAC_EAS_MAF|ExAC_FIN_MAF|ExAC_NFE_MAF|ExAC_OTH_MAF|ExAC_SAS_MAF|CLIN_SIG|SOMATIC|PHENO|PUBMED|MOTIF_NAME|MOTIF_POS|HIGH_INF_POS|MOTI\n",
    "F_SCORE_CHANGE|LoF|LoF_filter|LoF_flags|LoF_info\n",
    "\"\"\".split(\"|\")"
   ]
  },
  {
   "cell_type": "code",
   "execution_count": null,
   "id": "7875a167",
   "metadata": {},
   "outputs": [],
   "source": [
    "vf = pd.DataFrame([v[0] for v in vepResults],columns=cols)"
   ]
  },
  {
   "cell_type": "code",
   "execution_count": null,
   "id": "4e908a96",
   "metadata": {},
   "outputs": [],
   "source": []
  },
  {
   "cell_type": "code",
   "execution_count": null,
   "id": "bac9f1c1",
   "metadata": {},
   "outputs": [],
   "source": []
  }
 ],
 "metadata": {
  "language_info": {
   "name": "python",
   "pygments_lexer": "ipython3"
  }
 },
 "nbformat": 4,
 "nbformat_minor": 5
}
