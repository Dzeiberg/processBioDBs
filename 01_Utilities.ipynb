{
 "cells": [
  {
   "cell_type": "code",
   "execution_count": null,
   "id": "b311893a",
   "metadata": {},
   "outputs": [],
   "source": [
    "# default_exp utilities"
   ]
  },
  {
   "cell_type": "code",
   "execution_count": null,
   "id": "3867a78f",
   "metadata": {},
   "outputs": [],
   "source": [
    "# export\n",
    "import numpy as np\n",
    "import ensembl_rest"
   ]
  },
  {
   "cell_type": "code",
   "execution_count": null,
   "id": "0993fb17",
   "metadata": {},
   "outputs": [],
   "source": [
    "# export\n",
    "def getSequence(gene):\n",
    "    \"Get the canonical protein sequence coded by the given gene symbol\"\n",
    "    q = ensembl_rest.symbol_lookup(\n",
    "        species='human',\n",
    "        symbol=gene,params={'expand':True})\n",
    "    try:\n",
    "        is_canonical = [t[\"is_canonical\"] for t in q[\"Transcript\"]]\n",
    "        t = q[\"Transcript\"][np.argmax(is_canonical)]\n",
    "        seq = ensembl_rest.sequence_id(t[\"Translation\"][\"id\"])[\"seq\"]\n",
    "        return seq\n",
    "    except:\n",
    "        return \"\""
   ]
  },
  {
   "cell_type": "code",
   "execution_count": null,
   "id": "c2a60e25",
   "metadata": {},
   "outputs": [],
   "source": [
    "getSequence(\"FoxRed1\")"
   ]
  },
  {
   "cell_type": "code",
   "execution_count": null,
   "id": "cae7a28e",
   "metadata": {},
   "outputs": [],
   "source": []
  }
 ],
 "metadata": {
  "language_info": {
   "name": "python",
   "pygments_lexer": "ipython3"
  }
 },
 "nbformat": 4,
 "nbformat_minor": 5
}
