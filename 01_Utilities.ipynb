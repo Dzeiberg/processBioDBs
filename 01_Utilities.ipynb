{
 "cells": [
  {
   "cell_type": "code",
   "execution_count": null,
   "metadata": {},
   "outputs": [],
   "source": [
    "# default_exp utilities"
   ]
  },
  {
   "cell_type": "code",
   "execution_count": null,
   "metadata": {},
   "outputs": [],
   "source": [
    "# export\n",
    "import numpy as np\n",
    "import ensembl_rest"
   ]
  },
  {
   "cell_type": "code",
   "execution_count": null,
   "metadata": {},
   "outputs": [],
   "source": [
    "# export\n",
    "def getSequence(gene):\n",
    "    \"Get the canonical protein sequence coded by the given gene symbol\"\n",
    "    q = ensembl_rest.symbol_lookup(\n",
    "        species='human',\n",
    "        symbol=gene,params={'expand':True})\n",
    "    try:\n",
    "        is_canonical = [t[\"is_canonical\"] for t in q[\"Transcript\"]]\n",
    "        t = q[\"Transcript\"][np.argmax(is_canonical)]\n",
    "        seq = ensembl_rest.sequence_id(t[\"Translation\"][\"id\"])[\"seq\"]\n",
    "        return seq\n",
    "    except:\n",
    "        return \"\""
   ]
  },
  {
   "cell_type": "code",
   "execution_count": null,
   "metadata": {},
   "outputs": [],
   "source": [
    "getSequence(\"FoxRed1\")"
   ]
  },
  {
   "cell_type": "code",
   "execution_count": null,
   "metadata": {},
   "outputs": [],
   "source": []
  }
 ],
 "metadata": {
  "kernelspec": {
   "display_name": "Python 3",
   "language": "python",
   "name": "python3"
  },
  "language_info": {
   "codemirror_mode": {
    "name": "ipython",
    "version": 3
   },
   "file_extension": ".py",
   "mimetype": "text/x-python",
   "name": "python",
   "nbconvert_exporter": "python",
   "pygments_lexer": "ipython3",
   "version": "3.7.6"
  }
 },
 "nbformat": 4,
 "nbformat_minor": 5
}
