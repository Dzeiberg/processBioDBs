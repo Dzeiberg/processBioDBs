{
 "cells": [
  {
   "cell_type": "code",
   "execution_count": 1,
   "metadata": {
    "ExecuteTime": {
     "end_time": "2021-07-20T23:50:44.478303Z",
     "start_time": "2021-07-20T23:50:44.258456Z"
    }
   },
   "outputs": [],
   "source": [
    "import pandas as pd"
   ]
  },
  {
   "cell_type": "code",
   "execution_count": 2,
   "metadata": {
    "ExecuteTime": {
     "end_time": "2021-07-20T23:50:44.529025Z",
     "start_time": "2021-07-20T23:50:44.480100Z"
    }
   },
   "outputs": [],
   "source": [
    "df = pd.read_csv(\"/ssdata/clinvar/clinvar/parseClinvar.csv\")"
   ]
  },
  {
   "cell_type": "code",
   "execution_count": 3,
   "metadata": {
    "ExecuteTime": {
     "end_time": "2021-07-20T23:50:44.564897Z",
     "start_time": "2021-07-20T23:50:44.556686Z"
    }
   },
   "outputs": [],
   "source": [
    "df = df.assign(idx=df.index)"
   ]
  },
  {
   "cell_type": "code",
   "execution_count": 4,
   "metadata": {
    "ExecuteTime": {
     "end_time": "2021-07-20T23:50:44.756711Z",
     "start_time": "2021-07-20T23:50:44.723461Z"
    }
   },
   "outputs": [
    {
     "data": {
      "text/html": [
       "<div>\n",
       "<style scoped>\n",
       "    .dataframe tbody tr th:only-of-type {\n",
       "        vertical-align: middle;\n",
       "    }\n",
       "\n",
       "    .dataframe tbody tr th {\n",
       "        vertical-align: top;\n",
       "    }\n",
       "\n",
       "    .dataframe thead th {\n",
       "        text-align: right;\n",
       "    }\n",
       "</style>\n",
       "<table border=\"1\" class=\"dataframe\">\n",
       "  <thead>\n",
       "    <tr style=\"text-align: right;\">\n",
       "      <th></th>\n",
       "      <th>GeneID</th>\n",
       "      <th>variant</th>\n",
       "      <th>NM</th>\n",
       "      <th>label</th>\n",
       "      <th>idx</th>\n",
       "    </tr>\n",
       "  </thead>\n",
       "  <tbody>\n",
       "    <tr>\n",
       "      <th>0</th>\n",
       "      <td>57539</td>\n",
       "      <td>Ala864Thr</td>\n",
       "      <td>NM_020779.4</td>\n",
       "      <td>True</td>\n",
       "      <td>0</td>\n",
       "    </tr>\n",
       "    <tr>\n",
       "      <th>1</th>\n",
       "      <td>112817</td>\n",
       "      <td>Gly287Val</td>\n",
       "      <td>NM_138413.4</td>\n",
       "      <td>True</td>\n",
       "      <td>1</td>\n",
       "    </tr>\n",
       "    <tr>\n",
       "      <th>2</th>\n",
       "      <td>112817</td>\n",
       "      <td>Arg70Pro</td>\n",
       "      <td>NM_138413.4</td>\n",
       "      <td>True</td>\n",
       "      <td>2</td>\n",
       "    </tr>\n",
       "    <tr>\n",
       "      <th>3</th>\n",
       "      <td>112817</td>\n",
       "      <td>Cys257Gly</td>\n",
       "      <td>NM_138413.4</td>\n",
       "      <td>True</td>\n",
       "      <td>3</td>\n",
       "    </tr>\n",
       "    <tr>\n",
       "      <th>4</th>\n",
       "      <td>22995</td>\n",
       "      <td>Gln265Pro</td>\n",
       "      <td>NM_001194998.2</td>\n",
       "      <td>True</td>\n",
       "      <td>4</td>\n",
       "    </tr>\n",
       "    <tr>\n",
       "      <th>...</th>\n",
       "      <td>...</td>\n",
       "      <td>...</td>\n",
       "      <td>...</td>\n",
       "      <td>...</td>\n",
       "      <td>...</td>\n",
       "    </tr>\n",
       "    <tr>\n",
       "      <th>70820</th>\n",
       "      <td>23152</td>\n",
       "      <td>Pro2506Gln</td>\n",
       "      <td>NM_001386298.1</td>\n",
       "      <td>False</td>\n",
       "      <td>70820</td>\n",
       "    </tr>\n",
       "    <tr>\n",
       "      <th>70821</th>\n",
       "      <td>2906</td>\n",
       "      <td>Thr1082Ala</td>\n",
       "      <td>NM_000836.4</td>\n",
       "      <td>False</td>\n",
       "      <td>70821</td>\n",
       "    </tr>\n",
       "    <tr>\n",
       "      <th>70822</th>\n",
       "      <td>4810</td>\n",
       "      <td>Ser1646Phe</td>\n",
       "      <td>NM_001291867.2</td>\n",
       "      <td>False</td>\n",
       "      <td>70822</td>\n",
       "    </tr>\n",
       "    <tr>\n",
       "      <th>70823</th>\n",
       "      <td>23133</td>\n",
       "      <td>Met291Thr</td>\n",
       "      <td>NM_015107.3</td>\n",
       "      <td>False</td>\n",
       "      <td>70823</td>\n",
       "    </tr>\n",
       "    <tr>\n",
       "      <th>70824</th>\n",
       "      <td>7399</td>\n",
       "      <td>Phe4589Leu</td>\n",
       "      <td>NM_206933.4</td>\n",
       "      <td>False</td>\n",
       "      <td>70824</td>\n",
       "    </tr>\n",
       "  </tbody>\n",
       "</table>\n",
       "<p>70825 rows × 5 columns</p>\n",
       "</div>"
      ],
      "text/plain": [
       "       GeneID     variant              NM  label    idx\n",
       "0       57539   Ala864Thr     NM_020779.4   True      0\n",
       "1      112817   Gly287Val     NM_138413.4   True      1\n",
       "2      112817    Arg70Pro     NM_138413.4   True      2\n",
       "3      112817   Cys257Gly     NM_138413.4   True      3\n",
       "4       22995   Gln265Pro  NM_001194998.2   True      4\n",
       "...       ...         ...             ...    ...    ...\n",
       "70820   23152  Pro2506Gln  NM_001386298.1  False  70820\n",
       "70821    2906  Thr1082Ala     NM_000836.4  False  70821\n",
       "70822    4810  Ser1646Phe  NM_001291867.2  False  70822\n",
       "70823   23133   Met291Thr     NM_015107.3  False  70823\n",
       "70824    7399  Phe4589Leu     NM_206933.4  False  70824\n",
       "\n",
       "[70825 rows x 5 columns]"
      ]
     },
     "execution_count": 4,
     "metadata": {},
     "output_type": "execute_result"
    }
   ],
   "source": [
    "df"
   ]
  },
  {
   "cell_type": "code",
   "execution_count": 65,
   "metadata": {
    "ExecuteTime": {
     "end_time": "2021-07-21T00:18:23.490744Z",
     "start_time": "2021-07-21T00:18:13.855603Z"
    }
   },
   "outputs": [
    {
     "name": "stderr",
     "output_type": "stream",
     "text": [
      "/home/dz/anaconda3/envs/bio/lib/python3.8/site-packages/IPython/core/interactiveshell.py:3145: DtypeWarning: Columns (18) have mixed types.Specify dtype option on import or set low_memory=False.\n",
      "  has_raised = await self.run_ast_nodes(code_ast.body, cell_name,\n"
     ]
    }
   ],
   "source": [
    "sf = pd.read_csv(\"/ssdata/clinvar/clinvar/variant_summary.txt\",delimiter=\"\\t\")"
   ]
  },
  {
   "cell_type": "code",
   "execution_count": 66,
   "metadata": {
    "ExecuteTime": {
     "end_time": "2021-07-21T00:18:24.905216Z",
     "start_time": "2021-07-21T00:18:23.891924Z"
    }
   },
   "outputs": [],
   "source": [
    "sf = sf.assign(nmid=sf.Name.apply(lambda s: s[:s.find(\"(\")]))"
   ]
  },
  {
   "cell_type": "code",
   "execution_count": 67,
   "metadata": {
    "ExecuteTime": {
     "end_time": "2021-07-21T00:18:26.988985Z",
     "start_time": "2021-07-21T00:18:25.838125Z"
    }
   },
   "outputs": [],
   "source": [
    "sf = sf.assign(variant=sf.Name.apply(lambda s: s[s.find(\"(p.\") + 3 : -1]))"
   ]
  },
  {
   "cell_type": "code",
   "execution_count": 68,
   "metadata": {
    "ExecuteTime": {
     "end_time": "2021-07-21T00:18:35.402279Z",
     "start_time": "2021-07-21T00:18:31.980726Z"
    }
   },
   "outputs": [],
   "source": [
    "ff = pd.merge(df,sf,how=\"inner\",left_on=[\"NM\",\"variant\"], right_on=[\"nmid\",\"variant\"]).drop_duplicates(subset=[\"idx\"])"
   ]
  },
  {
   "cell_type": "code",
   "execution_count": 70,
   "metadata": {
    "ExecuteTime": {
     "end_time": "2021-07-21T00:18:48.372012Z",
     "start_time": "2021-07-21T00:18:48.364930Z"
    }
   },
   "outputs": [],
   "source": [
    "aaTable = {\"Ala\":\"A\",\n",
    "           \"Arg\": \"R\",\n",
    "           \"Asn\": \"N\",\n",
    "           \"Asp\": \"D\",\n",
    "           \"Cys\": \"C\",\n",
    "           \"Gln\": \"Q\",\n",
    "           \"Glu\": \"E\",\n",
    "           \"Gly\": \"G\",\n",
    "           \"His\": \"H\",\n",
    "           \"Ile\": \"I\",\n",
    "           \"Leu\": \"L\",\n",
    "           \"Lys\": \"K\",\n",
    "           \"Met\": \"M\",\n",
    "           \"Phe\": \"F\",\n",
    "           \"Pro\": \"P\",\n",
    "           \"Ser\": \"S\",\n",
    "           \"Thr\": \"T\",\n",
    "           \"Trp\": \"W\",\n",
    "           \"Tyr\": \"Y\",\n",
    "           \"Val\": \"V\"}"
   ]
  },
  {
   "cell_type": "code",
   "execution_count": 11,
   "metadata": {
    "ExecuteTime": {
     "end_time": "2021-07-20T23:51:00.080319Z",
     "start_time": "2021-07-20T23:51:00.012623Z"
    }
   },
   "outputs": [],
   "source": [
    "from processBioDBs.utilities import getSequence"
   ]
  },
  {
   "cell_type": "code",
   "execution_count": 12,
   "metadata": {
    "ExecuteTime": {
     "end_time": "2021-07-20T23:51:00.106908Z",
     "start_time": "2021-07-20T23:51:00.082637Z"
    }
   },
   "outputs": [],
   "source": [
    "import pickle\n",
    "seqs = pickle.load(open(\"/ssdata/clinvar/clinvar/seqs.pkl\",\"rb\"))"
   ]
  },
  {
   "cell_type": "code",
   "execution_count": 13,
   "metadata": {
    "ExecuteTime": {
     "end_time": "2021-07-20T23:51:00.123258Z",
     "start_time": "2021-07-20T23:51:00.108541Z"
    }
   },
   "outputs": [],
   "source": [
    "symbols = set(ff.GeneSymbol)\n",
    "\n",
    "symbols = [s for s in symbols if s not in seqs]"
   ]
  },
  {
   "cell_type": "code",
   "execution_count": 17,
   "metadata": {
    "ExecuteTime": {
     "end_time": "2021-07-20T23:51:20.721555Z",
     "start_time": "2021-07-20T23:51:20.717474Z"
    }
   },
   "outputs": [],
   "source": [
    "skippedSymbols = set()"
   ]
  },
  {
   "cell_type": "code",
   "execution_count": 18,
   "metadata": {
    "ExecuteTime": {
     "end_time": "2021-07-20T23:57:05.408126Z",
     "start_time": "2021-07-20T23:51:27.369968Z"
    }
   },
   "outputs": [
    {
     "data": {
      "application/vnd.jupyter.widget-view+json": {
       "model_id": "b2fa42f406a048d29cc8234527f4e503",
       "version_major": 2,
       "version_minor": 0
      },
      "text/plain": [
       "  0%|          | 0/500 [00:00<?, ?it/s]"
      ]
     },
     "metadata": {},
     "output_type": "display_data"
    }
   ],
   "source": [
    "from tqdm.notebook import tqdm\n",
    "for s in tqdm(symbols):\n",
    "    if s not in seqs:\n",
    "        try:\n",
    "            seqs[s] = getSequence(s)\n",
    "        except:\n",
    "            skippedSymbols.add(s)"
   ]
  },
  {
   "cell_type": "code",
   "execution_count": 71,
   "metadata": {
    "ExecuteTime": {
     "end_time": "2021-07-21T00:19:09.669725Z",
     "start_time": "2021-07-21T00:19:09.665602Z"
    }
   },
   "outputs": [],
   "source": [
    "import numpy as np"
   ]
  },
  {
   "cell_type": "code",
   "execution_count": 72,
   "metadata": {
    "ExecuteTime": {
     "end_time": "2021-07-21T00:20:36.940461Z",
     "start_time": "2021-07-21T00:20:29.334131Z"
    }
   },
   "outputs": [
    {
     "data": {
      "application/vnd.jupyter.widget-view+json": {
       "model_id": "8018f8c044714f1b86474f7c9c3abd10",
       "version_major": 2,
       "version_minor": 0
      },
      "text/plain": [
       "  0%|          | 0/70825 [00:00<?, ?it/s]"
      ]
     },
     "metadata": {},
     "output_type": "display_data"
    }
   ],
   "source": [
    "skippedVariants = set()\n",
    "\n",
    "variants = []\n",
    "\n",
    "for idx,row in tqdm(ff.iterrows(),total=ff.shape[0]):\n",
    "\n",
    "    o,L,v = aaTable[row.variant[:3]], int(row.variant[3:-3]) - 1, aaTable[row.variant[-3:]]\n",
    "    if row.GeneSymbol not in seqs or L >= len(seqs[row.GeneSymbol]) or seqs[row.GeneSymbol][L] != o:\n",
    "        skippedVariants.add(idx)\n",
    "        variants.append(np.nan)\n",
    "    else:\n",
    "        variant = s[:L] + v + s[L+1:]\n",
    "        variants.append(variant)"
   ]
  },
  {
   "cell_type": "code",
   "execution_count": 73,
   "metadata": {
    "ExecuteTime": {
     "end_time": "2021-07-21T00:20:37.941799Z",
     "start_time": "2021-07-21T00:20:37.935328Z"
    }
   },
   "outputs": [
    {
     "data": {
      "text/plain": [
       "0.9627109071655489"
      ]
     },
     "execution_count": 73,
     "metadata": {},
     "output_type": "execute_result"
    }
   ],
   "source": [
    "1 - len(skippedVariants)/ff.shape[0]"
   ]
  },
  {
   "cell_type": "code",
   "execution_count": 74,
   "metadata": {
    "ExecuteTime": {
     "end_time": "2021-07-21T00:21:01.526669Z",
     "start_time": "2021-07-21T00:21:01.493127Z"
    }
   },
   "outputs": [],
   "source": [
    "ff = ff.assign(variantSeq=variants)"
   ]
  },
  {
   "cell_type": "code",
   "execution_count": 75,
   "metadata": {
    "ExecuteTime": {
     "end_time": "2021-07-21T00:21:04.292224Z",
     "start_time": "2021-07-21T00:21:04.157786Z"
    }
   },
   "outputs": [
    {
     "data": {
      "text/html": [
       "<div>\n",
       "<style scoped>\n",
       "    .dataframe tbody tr th:only-of-type {\n",
       "        vertical-align: middle;\n",
       "    }\n",
       "\n",
       "    .dataframe tbody tr th {\n",
       "        vertical-align: top;\n",
       "    }\n",
       "\n",
       "    .dataframe thead th {\n",
       "        text-align: right;\n",
       "    }\n",
       "</style>\n",
       "<table border=\"1\" class=\"dataframe\">\n",
       "  <thead>\n",
       "    <tr style=\"text-align: right;\">\n",
       "      <th></th>\n",
       "      <th>GeneID_x</th>\n",
       "      <th>variant</th>\n",
       "      <th>NM</th>\n",
       "      <th>label</th>\n",
       "      <th>idx</th>\n",
       "      <th>#AlleleID</th>\n",
       "      <th>Type</th>\n",
       "      <th>Name</th>\n",
       "      <th>GeneID_y</th>\n",
       "      <th>GeneSymbol</th>\n",
       "      <th>...</th>\n",
       "      <th>Guidelines</th>\n",
       "      <th>TestedInGTR</th>\n",
       "      <th>OtherIDs</th>\n",
       "      <th>SubmitterCategories</th>\n",
       "      <th>VariationID</th>\n",
       "      <th>PositionVCF</th>\n",
       "      <th>ReferenceAlleleVCF</th>\n",
       "      <th>AlternateAlleleVCF</th>\n",
       "      <th>nmid</th>\n",
       "      <th>variantSeq</th>\n",
       "    </tr>\n",
       "  </thead>\n",
       "  <tbody>\n",
       "    <tr>\n",
       "      <th>0</th>\n",
       "      <td>57539</td>\n",
       "      <td>Ala864Thr</td>\n",
       "      <td>NM_020779.4</td>\n",
       "      <td>True</td>\n",
       "      <td>0</td>\n",
       "      <td>15062</td>\n",
       "      <td>single nucleotide variant</td>\n",
       "      <td>NM_020779.4(WDR35):c.2590G&gt;A (p.Ala864Thr)</td>\n",
       "      <td>57539</td>\n",
       "      <td>WDR35</td>\n",
       "      <td>...</td>\n",
       "      <td>-</td>\n",
       "      <td>N</td>\n",
       "      <td>ClinGen:CA339782,UniProtKB:Q9P2L0#VAR_064582,O...</td>\n",
       "      <td>3</td>\n",
       "      <td>23</td>\n",
       "      <td>20133230</td>\n",
       "      <td>C</td>\n",
       "      <td>T</td>\n",
       "      <td>NM_020779.4</td>\n",
       "      <td>MNCPVLSLGSGFLFQVIEMLIFAYFASISLTESRGLFPRLENVGAF...</td>\n",
       "    </tr>\n",
       "    <tr>\n",
       "      <th>2</th>\n",
       "      <td>112817</td>\n",
       "      <td>Gly287Val</td>\n",
       "      <td>NM_138413.4</td>\n",
       "      <td>True</td>\n",
       "      <td>1</td>\n",
       "      <td>15069</td>\n",
       "      <td>single nucleotide variant</td>\n",
       "      <td>NM_138413.4(HOGA1):c.860G&gt;T (p.Gly287Val)</td>\n",
       "      <td>112817</td>\n",
       "      <td>HOGA1</td>\n",
       "      <td>...</td>\n",
       "      <td>-</td>\n",
       "      <td>N</td>\n",
       "      <td>ClinGen:CA113813,UniProtKB:Q86XE5#VAR_064036,O...</td>\n",
       "      <td>3</td>\n",
       "      <td>30</td>\n",
       "      <td>99371292</td>\n",
       "      <td>G</td>\n",
       "      <td>T</td>\n",
       "      <td>NM_138413.4</td>\n",
       "      <td>MNCPVLSLGSGFLFQVIEMLIFAYFASISLTESRGLFPRLENVGAF...</td>\n",
       "    </tr>\n",
       "    <tr>\n",
       "      <th>4</th>\n",
       "      <td>112817</td>\n",
       "      <td>Arg70Pro</td>\n",
       "      <td>NM_138413.4</td>\n",
       "      <td>True</td>\n",
       "      <td>2</td>\n",
       "      <td>15072</td>\n",
       "      <td>single nucleotide variant</td>\n",
       "      <td>NM_138413.4(HOGA1):c.209G&gt;C (p.Arg70Pro)</td>\n",
       "      <td>112817</td>\n",
       "      <td>HOGA1</td>\n",
       "      <td>...</td>\n",
       "      <td>-</td>\n",
       "      <td>N</td>\n",
       "      <td>ClinGen:CA113816,OMIM:613597.0005</td>\n",
       "      <td>3</td>\n",
       "      <td>33</td>\n",
       "      <td>99344669</td>\n",
       "      <td>G</td>\n",
       "      <td>C</td>\n",
       "      <td>NM_138413.4</td>\n",
       "      <td>MNCPVLSLGSGFLFQVIEMLIFAYFASISLTESRGLFPRLENVGAF...</td>\n",
       "    </tr>\n",
       "    <tr>\n",
       "      <th>6</th>\n",
       "      <td>112817</td>\n",
       "      <td>Cys257Gly</td>\n",
       "      <td>NM_138413.4</td>\n",
       "      <td>True</td>\n",
       "      <td>3</td>\n",
       "      <td>15073</td>\n",
       "      <td>single nucleotide variant</td>\n",
       "      <td>NM_138413.4(HOGA1):c.769T&gt;G (p.Cys257Gly)</td>\n",
       "      <td>112817</td>\n",
       "      <td>HOGA1</td>\n",
       "      <td>...</td>\n",
       "      <td>-</td>\n",
       "      <td>N</td>\n",
       "      <td>ClinGen:CA113818,UniProtKB:Q86XE5#VAR_064035,O...</td>\n",
       "      <td>3</td>\n",
       "      <td>34</td>\n",
       "      <td>99361682</td>\n",
       "      <td>T</td>\n",
       "      <td>G</td>\n",
       "      <td>NM_138413.4</td>\n",
       "      <td>MNCPVLSLGSGFLFQVIEMLIFAYFASISLTESRGLFPRLENVGAF...</td>\n",
       "    </tr>\n",
       "    <tr>\n",
       "      <th>8</th>\n",
       "      <td>22995</td>\n",
       "      <td>Gln265Pro</td>\n",
       "      <td>NM_001194998.2</td>\n",
       "      <td>True</td>\n",
       "      <td>4</td>\n",
       "      <td>15094</td>\n",
       "      <td>single nucleotide variant</td>\n",
       "      <td>NM_001194998.2(CEP152):c.794A&gt;C (p.Gln265Pro)</td>\n",
       "      <td>22995</td>\n",
       "      <td>CEP152</td>\n",
       "      <td>...</td>\n",
       "      <td>-</td>\n",
       "      <td>N</td>\n",
       "      <td>ClinGen:CA210936,UniProtKB:O94986#VAR_063813,O...</td>\n",
       "      <td>3</td>\n",
       "      <td>55</td>\n",
       "      <td>49085556</td>\n",
       "      <td>T</td>\n",
       "      <td>G</td>\n",
       "      <td>NM_001194998.2</td>\n",
       "      <td>MNCPVLSLGSGFLFQVIEMLIFAYFASISLTESRGLFPRLENVGAF...</td>\n",
       "    </tr>\n",
       "    <tr>\n",
       "      <th>...</th>\n",
       "      <td>...</td>\n",
       "      <td>...</td>\n",
       "      <td>...</td>\n",
       "      <td>...</td>\n",
       "      <td>...</td>\n",
       "      <td>...</td>\n",
       "      <td>...</td>\n",
       "      <td>...</td>\n",
       "      <td>...</td>\n",
       "      <td>...</td>\n",
       "      <td>...</td>\n",
       "      <td>...</td>\n",
       "      <td>...</td>\n",
       "      <td>...</td>\n",
       "      <td>...</td>\n",
       "      <td>...</td>\n",
       "      <td>...</td>\n",
       "      <td>...</td>\n",
       "      <td>...</td>\n",
       "      <td>...</td>\n",
       "      <td>...</td>\n",
       "    </tr>\n",
       "    <tr>\n",
       "      <th>143892</th>\n",
       "      <td>23152</td>\n",
       "      <td>Pro2506Gln</td>\n",
       "      <td>NM_001386298.1</td>\n",
       "      <td>False</td>\n",
       "      <td>70820</td>\n",
       "      <td>1166322</td>\n",
       "      <td>single nucleotide variant</td>\n",
       "      <td>NM_001386298.1(CIC):c.7517C&gt;A (p.Pro2506Gln)</td>\n",
       "      <td>23152</td>\n",
       "      <td>CIC</td>\n",
       "      <td>...</td>\n",
       "      <td>-</td>\n",
       "      <td>N</td>\n",
       "      <td>-</td>\n",
       "      <td>2</td>\n",
       "      <td>1176081</td>\n",
       "      <td>42799306</td>\n",
       "      <td>C</td>\n",
       "      <td>A</td>\n",
       "      <td>NM_001386298.1</td>\n",
       "      <td>MNCPVLSLGSGFLFQVIEMLIFAYFASISLTESRGLFPRLENVGAF...</td>\n",
       "    </tr>\n",
       "    <tr>\n",
       "      <th>143894</th>\n",
       "      <td>2906</td>\n",
       "      <td>Thr1082Ala</td>\n",
       "      <td>NM_000836.4</td>\n",
       "      <td>False</td>\n",
       "      <td>70821</td>\n",
       "      <td>1166329</td>\n",
       "      <td>single nucleotide variant</td>\n",
       "      <td>NM_000836.4(GRIN2D):c.3244A&gt;G (p.Thr1082Ala)</td>\n",
       "      <td>2906</td>\n",
       "      <td>GRIN2D</td>\n",
       "      <td>...</td>\n",
       "      <td>-</td>\n",
       "      <td>N</td>\n",
       "      <td>-</td>\n",
       "      <td>2</td>\n",
       "      <td>1176712</td>\n",
       "      <td>48946427</td>\n",
       "      <td>A</td>\n",
       "      <td>G</td>\n",
       "      <td>NM_000836.4</td>\n",
       "      <td>MNCPVLSLGSGFLFQVIEMLIFAYFASISLTESRGLFPRLENVGAF...</td>\n",
       "    </tr>\n",
       "    <tr>\n",
       "      <th>143896</th>\n",
       "      <td>4810</td>\n",
       "      <td>Ser1646Phe</td>\n",
       "      <td>NM_001291867.2</td>\n",
       "      <td>False</td>\n",
       "      <td>70822</td>\n",
       "      <td>1166440</td>\n",
       "      <td>single nucleotide variant</td>\n",
       "      <td>NM_001291867.2(NHS):c.4937C&gt;T (p.Ser1646Phe)</td>\n",
       "      <td>4810</td>\n",
       "      <td>NHS</td>\n",
       "      <td>...</td>\n",
       "      <td>-</td>\n",
       "      <td>N</td>\n",
       "      <td>-</td>\n",
       "      <td>2</td>\n",
       "      <td>1175807</td>\n",
       "      <td>17750565</td>\n",
       "      <td>C</td>\n",
       "      <td>T</td>\n",
       "      <td>NM_001291867.2</td>\n",
       "      <td>MNCPVLSLGSGFLFQVIEMLIFAYFASISLTESRGLFPRLENVGAF...</td>\n",
       "    </tr>\n",
       "    <tr>\n",
       "      <th>143898</th>\n",
       "      <td>23133</td>\n",
       "      <td>Met291Thr</td>\n",
       "      <td>NM_015107.3</td>\n",
       "      <td>False</td>\n",
       "      <td>70823</td>\n",
       "      <td>1166476</td>\n",
       "      <td>single nucleotide variant</td>\n",
       "      <td>NM_015107.3(PHF8):c.872T&gt;C (p.Met291Thr)</td>\n",
       "      <td>23133</td>\n",
       "      <td>PHF8</td>\n",
       "      <td>...</td>\n",
       "      <td>-</td>\n",
       "      <td>N</td>\n",
       "      <td>-</td>\n",
       "      <td>2</td>\n",
       "      <td>1175826</td>\n",
       "      <td>54037629</td>\n",
       "      <td>A</td>\n",
       "      <td>G</td>\n",
       "      <td>NM_015107.3</td>\n",
       "      <td>MNCPVLSLGSGFLFQVIEMLIFAYFASISLTESRGLFPRLENVGAF...</td>\n",
       "    </tr>\n",
       "    <tr>\n",
       "      <th>143900</th>\n",
       "      <td>7399</td>\n",
       "      <td>Phe4589Leu</td>\n",
       "      <td>NM_206933.4</td>\n",
       "      <td>False</td>\n",
       "      <td>70824</td>\n",
       "      <td>1166499</td>\n",
       "      <td>single nucleotide variant</td>\n",
       "      <td>NM_206933.4(USH2A):c.13767T&gt;A (p.Phe4589Leu)</td>\n",
       "      <td>7399</td>\n",
       "      <td>USH2A</td>\n",
       "      <td>...</td>\n",
       "      <td>-</td>\n",
       "      <td>N</td>\n",
       "      <td>-</td>\n",
       "      <td>2</td>\n",
       "      <td>1177010</td>\n",
       "      <td>215847486</td>\n",
       "      <td>A</td>\n",
       "      <td>T</td>\n",
       "      <td>NM_206933.4</td>\n",
       "      <td>MNCPVLSLGSGFLFQVIEMLIFAYFASISLTESRGLFPRLENVGAF...</td>\n",
       "    </tr>\n",
       "  </tbody>\n",
       "</table>\n",
       "<p>70825 rows × 41 columns</p>\n",
       "</div>"
      ],
      "text/plain": [
       "        GeneID_x     variant              NM  label    idx  #AlleleID  \\\n",
       "0          57539   Ala864Thr     NM_020779.4   True      0      15062   \n",
       "2         112817   Gly287Val     NM_138413.4   True      1      15069   \n",
       "4         112817    Arg70Pro     NM_138413.4   True      2      15072   \n",
       "6         112817   Cys257Gly     NM_138413.4   True      3      15073   \n",
       "8          22995   Gln265Pro  NM_001194998.2   True      4      15094   \n",
       "...          ...         ...             ...    ...    ...        ...   \n",
       "143892     23152  Pro2506Gln  NM_001386298.1  False  70820    1166322   \n",
       "143894      2906  Thr1082Ala     NM_000836.4  False  70821    1166329   \n",
       "143896      4810  Ser1646Phe  NM_001291867.2  False  70822    1166440   \n",
       "143898     23133   Met291Thr     NM_015107.3  False  70823    1166476   \n",
       "143900      7399  Phe4589Leu     NM_206933.4  False  70824    1166499   \n",
       "\n",
       "                             Type  \\\n",
       "0       single nucleotide variant   \n",
       "2       single nucleotide variant   \n",
       "4       single nucleotide variant   \n",
       "6       single nucleotide variant   \n",
       "8       single nucleotide variant   \n",
       "...                           ...   \n",
       "143892  single nucleotide variant   \n",
       "143894  single nucleotide variant   \n",
       "143896  single nucleotide variant   \n",
       "143898  single nucleotide variant   \n",
       "143900  single nucleotide variant   \n",
       "\n",
       "                                                 Name  GeneID_y GeneSymbol  \\\n",
       "0          NM_020779.4(WDR35):c.2590G>A (p.Ala864Thr)     57539      WDR35   \n",
       "2           NM_138413.4(HOGA1):c.860G>T (p.Gly287Val)    112817      HOGA1   \n",
       "4            NM_138413.4(HOGA1):c.209G>C (p.Arg70Pro)    112817      HOGA1   \n",
       "6           NM_138413.4(HOGA1):c.769T>G (p.Cys257Gly)    112817      HOGA1   \n",
       "8       NM_001194998.2(CEP152):c.794A>C (p.Gln265Pro)     22995     CEP152   \n",
       "...                                               ...       ...        ...   \n",
       "143892   NM_001386298.1(CIC):c.7517C>A (p.Pro2506Gln)     23152        CIC   \n",
       "143894   NM_000836.4(GRIN2D):c.3244A>G (p.Thr1082Ala)      2906     GRIN2D   \n",
       "143896   NM_001291867.2(NHS):c.4937C>T (p.Ser1646Phe)      4810        NHS   \n",
       "143898       NM_015107.3(PHF8):c.872T>C (p.Met291Thr)     23133       PHF8   \n",
       "143900   NM_206933.4(USH2A):c.13767T>A (p.Phe4589Leu)      7399      USH2A   \n",
       "\n",
       "        ... Guidelines TestedInGTR  \\\n",
       "0       ...          -           N   \n",
       "2       ...          -           N   \n",
       "4       ...          -           N   \n",
       "6       ...          -           N   \n",
       "8       ...          -           N   \n",
       "...     ...        ...         ...   \n",
       "143892  ...          -           N   \n",
       "143894  ...          -           N   \n",
       "143896  ...          -           N   \n",
       "143898  ...          -           N   \n",
       "143900  ...          -           N   \n",
       "\n",
       "                                                 OtherIDs SubmitterCategories  \\\n",
       "0       ClinGen:CA339782,UniProtKB:Q9P2L0#VAR_064582,O...                   3   \n",
       "2       ClinGen:CA113813,UniProtKB:Q86XE5#VAR_064036,O...                   3   \n",
       "4                       ClinGen:CA113816,OMIM:613597.0005                   3   \n",
       "6       ClinGen:CA113818,UniProtKB:Q86XE5#VAR_064035,O...                   3   \n",
       "8       ClinGen:CA210936,UniProtKB:O94986#VAR_063813,O...                   3   \n",
       "...                                                   ...                 ...   \n",
       "143892                                                  -                   2   \n",
       "143894                                                  -                   2   \n",
       "143896                                                  -                   2   \n",
       "143898                                                  -                   2   \n",
       "143900                                                  -                   2   \n",
       "\n",
       "        VariationID PositionVCF ReferenceAlleleVCF AlternateAlleleVCF  \\\n",
       "0                23    20133230                  C                  T   \n",
       "2                30    99371292                  G                  T   \n",
       "4                33    99344669                  G                  C   \n",
       "6                34    99361682                  T                  G   \n",
       "8                55    49085556                  T                  G   \n",
       "...             ...         ...                ...                ...   \n",
       "143892      1176081    42799306                  C                  A   \n",
       "143894      1176712    48946427                  A                  G   \n",
       "143896      1175807    17750565                  C                  T   \n",
       "143898      1175826    54037629                  A                  G   \n",
       "143900      1177010   215847486                  A                  T   \n",
       "\n",
       "                  nmid                                         variantSeq  \n",
       "0          NM_020779.4  MNCPVLSLGSGFLFQVIEMLIFAYFASISLTESRGLFPRLENVGAF...  \n",
       "2          NM_138413.4  MNCPVLSLGSGFLFQVIEMLIFAYFASISLTESRGLFPRLENVGAF...  \n",
       "4          NM_138413.4  MNCPVLSLGSGFLFQVIEMLIFAYFASISLTESRGLFPRLENVGAF...  \n",
       "6          NM_138413.4  MNCPVLSLGSGFLFQVIEMLIFAYFASISLTESRGLFPRLENVGAF...  \n",
       "8       NM_001194998.2  MNCPVLSLGSGFLFQVIEMLIFAYFASISLTESRGLFPRLENVGAF...  \n",
       "...                ...                                                ...  \n",
       "143892  NM_001386298.1  MNCPVLSLGSGFLFQVIEMLIFAYFASISLTESRGLFPRLENVGAF...  \n",
       "143894     NM_000836.4  MNCPVLSLGSGFLFQVIEMLIFAYFASISLTESRGLFPRLENVGAF...  \n",
       "143896  NM_001291867.2  MNCPVLSLGSGFLFQVIEMLIFAYFASISLTESRGLFPRLENVGAF...  \n",
       "143898     NM_015107.3  MNCPVLSLGSGFLFQVIEMLIFAYFASISLTESRGLFPRLENVGAF...  \n",
       "143900     NM_206933.4  MNCPVLSLGSGFLFQVIEMLIFAYFASISLTESRGLFPRLENVGAF...  \n",
       "\n",
       "[70825 rows x 41 columns]"
      ]
     },
     "execution_count": 75,
     "metadata": {},
     "output_type": "execute_result"
    }
   ],
   "source": [
    "ff"
   ]
  },
  {
   "cell_type": "code",
   "execution_count": 76,
   "metadata": {
    "ExecuteTime": {
     "end_time": "2021-07-21T00:22:06.803998Z",
     "start_time": "2021-07-21T00:21:53.917884Z"
    }
   },
   "outputs": [],
   "source": [
    "ff.to_csv(\"/ssdata/clinvar/clinvar/parseClinvarWithVariant.csv\")"
   ]
  },
  {
   "cell_type": "code",
   "execution_count": null,
   "metadata": {},
   "outputs": [],
   "source": []
  }
 ],
 "metadata": {
  "kernelspec": {
   "display_name": "bio",
   "language": "python",
   "name": "bio"
  },
  "language_info": {
   "codemirror_mode": {
    "name": "ipython",
    "version": 3
   },
   "file_extension": ".py",
   "mimetype": "text/x-python",
   "name": "python",
   "nbconvert_exporter": "python",
   "pygments_lexer": "ipython3",
   "version": "3.8.5"
  }
 },
 "nbformat": 4,
 "nbformat_minor": 4
}
