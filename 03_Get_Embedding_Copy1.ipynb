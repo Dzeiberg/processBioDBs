{
 "cells": [
  {
   "cell_type": "code",
   "execution_count": 1,
   "metadata": {
    "ExecuteTime": {
     "end_time": "2021-07-20T23:14:19.876365Z",
     "start_time": "2021-07-20T23:14:19.486642Z"
    }
   },
   "outputs": [],
   "source": [
    "import torch\n",
    "import esm"
   ]
  },
  {
   "cell_type": "code",
   "execution_count": 2,
   "metadata": {
    "ExecuteTime": {
     "end_time": "2021-07-20T23:14:31.890215Z",
     "start_time": "2021-07-20T23:14:23.294788Z"
    }
   },
   "outputs": [],
   "source": [
    "# Load ESM-1b model\n",
    "model, alphabet = esm.pretrained.esm1b_t33_650M_UR50S()\n",
    "batch_converter = alphabet.get_batch_converter()"
   ]
  },
  {
   "cell_type": "code",
   "execution_count": 3,
   "metadata": {
    "ExecuteTime": {
     "end_time": "2021-07-20T23:14:33.925777Z",
     "start_time": "2021-07-20T23:14:31.892359Z"
    }
   },
   "outputs": [],
   "source": [
    "model = model.to(\"cuda\")"
   ]
  },
  {
   "cell_type": "code",
   "execution_count": 4,
   "metadata": {
    "ExecuteTime": {
     "end_time": "2021-07-20T23:14:33.929968Z",
     "start_time": "2021-07-20T23:14:33.927578Z"
    }
   },
   "outputs": [],
   "source": [
    "from tqdm.notebook import tqdm"
   ]
  },
  {
   "cell_type": "code",
   "execution_count": 5,
   "metadata": {
    "ExecuteTime": {
     "end_time": "2021-07-20T23:15:12.894970Z",
     "start_time": "2021-07-20T23:15:12.890370Z"
    }
   },
   "outputs": [],
   "source": [
    "from processBioDBs.embedding import getSequenceRepresentation"
   ]
  },
  {
   "cell_type": "code",
   "execution_count": 8,
   "metadata": {
    "ExecuteTime": {
     "end_time": "2021-07-20T23:17:03.308950Z",
     "start_time": "2021-07-20T23:17:03.246934Z"
    }
   },
   "outputs": [],
   "source": [
    "getSequenceRepresentation??"
   ]
  },
  {
   "cell_type": "code",
   "execution_count": 6,
   "metadata": {
    "ExecuteTime": {
     "end_time": "2021-07-20T23:16:45.710883Z",
     "start_time": "2021-07-20T23:16:45.433488Z"
    }
   },
   "outputs": [],
   "source": [
    "import pandas as pd\n",
    "df = pd.read_csv(\"/ssdata/clinvar/clinvar/parseClinvar.csv\")"
   ]
  },
  {
   "cell_type": "code",
   "execution_count": 7,
   "metadata": {
    "ExecuteTime": {
     "end_time": "2021-07-20T23:16:46.379161Z",
     "start_time": "2021-07-20T23:16:46.350225Z"
    }
   },
   "outputs": [
    {
     "data": {
      "text/html": [
       "<div>\n",
       "<style scoped>\n",
       "    .dataframe tbody tr th:only-of-type {\n",
       "        vertical-align: middle;\n",
       "    }\n",
       "\n",
       "    .dataframe tbody tr th {\n",
       "        vertical-align: top;\n",
       "    }\n",
       "\n",
       "    .dataframe thead th {\n",
       "        text-align: right;\n",
       "    }\n",
       "</style>\n",
       "<table border=\"1\" class=\"dataframe\">\n",
       "  <thead>\n",
       "    <tr style=\"text-align: right;\">\n",
       "      <th></th>\n",
       "      <th>GeneID</th>\n",
       "      <th>variant</th>\n",
       "      <th>NM</th>\n",
       "      <th>label</th>\n",
       "    </tr>\n",
       "  </thead>\n",
       "  <tbody>\n",
       "    <tr>\n",
       "      <th>0</th>\n",
       "      <td>57539</td>\n",
       "      <td>Ala864Thr</td>\n",
       "      <td>NM_020779.4</td>\n",
       "      <td>True</td>\n",
       "    </tr>\n",
       "    <tr>\n",
       "      <th>1</th>\n",
       "      <td>112817</td>\n",
       "      <td>Gly287Val</td>\n",
       "      <td>NM_138413.4</td>\n",
       "      <td>True</td>\n",
       "    </tr>\n",
       "    <tr>\n",
       "      <th>2</th>\n",
       "      <td>112817</td>\n",
       "      <td>Arg70Pro</td>\n",
       "      <td>NM_138413.4</td>\n",
       "      <td>True</td>\n",
       "    </tr>\n",
       "    <tr>\n",
       "      <th>3</th>\n",
       "      <td>112817</td>\n",
       "      <td>Cys257Gly</td>\n",
       "      <td>NM_138413.4</td>\n",
       "      <td>True</td>\n",
       "    </tr>\n",
       "    <tr>\n",
       "      <th>4</th>\n",
       "      <td>22995</td>\n",
       "      <td>Gln265Pro</td>\n",
       "      <td>NM_001194998.2</td>\n",
       "      <td>True</td>\n",
       "    </tr>\n",
       "    <tr>\n",
       "      <th>...</th>\n",
       "      <td>...</td>\n",
       "      <td>...</td>\n",
       "      <td>...</td>\n",
       "      <td>...</td>\n",
       "    </tr>\n",
       "    <tr>\n",
       "      <th>70820</th>\n",
       "      <td>23152</td>\n",
       "      <td>Pro2506Gln</td>\n",
       "      <td>NM_001386298.1</td>\n",
       "      <td>False</td>\n",
       "    </tr>\n",
       "    <tr>\n",
       "      <th>70821</th>\n",
       "      <td>2906</td>\n",
       "      <td>Thr1082Ala</td>\n",
       "      <td>NM_000836.4</td>\n",
       "      <td>False</td>\n",
       "    </tr>\n",
       "    <tr>\n",
       "      <th>70822</th>\n",
       "      <td>4810</td>\n",
       "      <td>Ser1646Phe</td>\n",
       "      <td>NM_001291867.2</td>\n",
       "      <td>False</td>\n",
       "    </tr>\n",
       "    <tr>\n",
       "      <th>70823</th>\n",
       "      <td>23133</td>\n",
       "      <td>Met291Thr</td>\n",
       "      <td>NM_015107.3</td>\n",
       "      <td>False</td>\n",
       "    </tr>\n",
       "    <tr>\n",
       "      <th>70824</th>\n",
       "      <td>7399</td>\n",
       "      <td>Phe4589Leu</td>\n",
       "      <td>NM_206933.4</td>\n",
       "      <td>False</td>\n",
       "    </tr>\n",
       "  </tbody>\n",
       "</table>\n",
       "<p>70825 rows × 4 columns</p>\n",
       "</div>"
      ],
      "text/plain": [
       "       GeneID     variant              NM  label\n",
       "0       57539   Ala864Thr     NM_020779.4   True\n",
       "1      112817   Gly287Val     NM_138413.4   True\n",
       "2      112817    Arg70Pro     NM_138413.4   True\n",
       "3      112817   Cys257Gly     NM_138413.4   True\n",
       "4       22995   Gln265Pro  NM_001194998.2   True\n",
       "...       ...         ...             ...    ...\n",
       "70820   23152  Pro2506Gln  NM_001386298.1  False\n",
       "70821    2906  Thr1082Ala     NM_000836.4  False\n",
       "70822    4810  Ser1646Phe  NM_001291867.2  False\n",
       "70823   23133   Met291Thr     NM_015107.3  False\n",
       "70824    7399  Phe4589Leu     NM_206933.4  False\n",
       "\n",
       "[70825 rows x 4 columns]"
      ]
     },
     "execution_count": 7,
     "metadata": {},
     "output_type": "execute_result"
    }
   ],
   "source": [
    "df"
   ]
  },
  {
   "cell_type": "code",
   "execution_count": null,
   "metadata": {},
   "outputs": [],
   "source": [
    "def prepSeq(row,windowSize=510):\n",
    "    s = row[\"sequence\"]\n",
    "    loc = int(row[\"loc\"]) - 1\n",
    "    sPrime = s[max(0, loc-windowSize) : min(len(s), loc + windowSize)]\n",
    "    return sPrime"
   ]
  },
  {
   "cell_type": "code",
   "execution_count": null,
   "metadata": {},
   "outputs": [],
   "source": [
    "seqs = list(zip(df.index, [prepSeq(r) for i,r in tqdm(df.iterrows())]))"
   ]
  },
  {
   "cell_type": "code",
   "execution_count": null,
   "metadata": {},
   "outputs": [],
   "source": [
    "from tqdm.notebook import trange"
   ]
  },
  {
   "cell_type": "code",
   "execution_count": null,
   "metadata": {},
   "outputs": [],
   "source": [
    "representations = []\n",
    "batchSize=1\n",
    "for i in trange(0,len(seqs),batchSize):\n",
    "    rep = getSequenceRepresentation(seqs[i : i + batchSize])\n",
    "    representations.append(rep)"
   ]
  },
  {
   "cell_type": "code",
   "execution_count": null,
   "metadata": {},
   "outputs": [],
   "source": [
    "import numpy as np"
   ]
  },
  {
   "cell_type": "code",
   "execution_count": null,
   "metadata": {},
   "outputs": [],
   "source": [
    "import pickle"
   ]
  },
  {
   "cell_type": "code",
   "execution_count": null,
   "metadata": {},
   "outputs": [],
   "source": [
    "pickle.dump(representations, open('/data/projects/processBio/clinvar/clinvar/embeddings.pkl',\"wb\"))"
   ]
  },
  {
   "cell_type": "code",
   "execution_count": null,
   "metadata": {},
   "outputs": [],
   "source": [
    "pickle.dump(seqs, open('/data/projects/processBio/clinvar/clinvar/seqs.pkl',\"wb\"))"
   ]
  },
  {
   "cell_type": "code",
   "execution_count": null,
   "metadata": {},
   "outputs": [],
   "source": [
    "representations[0][0].shape"
   ]
  },
  {
   "cell_type": "code",
   "execution_count": null,
   "metadata": {},
   "outputs": [],
   "source": [
    "len(seqs[0][1])"
   ]
  },
  {
   "cell_type": "markdown",
   "metadata": {},
   "source": [
    "There is a one to one correspondance between seqs.pkl and embeddings.pkl"
   ]
  },
  {
   "cell_type": "code",
   "execution_count": null,
   "metadata": {},
   "outputs": [],
   "source": []
  }
 ],
 "metadata": {
  "kernelspec": {
   "display_name": "torch",
   "language": "python",
   "name": "torch"
  },
  "language_info": {
   "codemirror_mode": {
    "name": "ipython",
    "version": 3
   },
   "file_extension": ".py",
   "mimetype": "text/x-python",
   "name": "python",
   "nbconvert_exporter": "python",
   "pygments_lexer": "ipython3",
   "version": "3.7.7"
  }
 },
 "nbformat": 4,
 "nbformat_minor": 5
}
