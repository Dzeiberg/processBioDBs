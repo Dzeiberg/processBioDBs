{
 "cells": [
  {
   "cell_type": "code",
   "execution_count": 4,
   "metadata": {
    "ExecuteTime": {
     "end_time": "2021-07-21T00:24:48.986972Z",
     "start_time": "2021-07-21T00:24:48.982007Z"
    }
   },
   "outputs": [],
   "source": [
    "import pandas as pd\n",
    "import torch\n",
    "import esm\n",
    "from tqdm.notebook import tqdm"
   ]
  },
  {
   "cell_type": "code",
   "execution_count": 3,
   "metadata": {
    "ExecuteTime": {
     "end_time": "2021-07-21T00:24:47.719662Z",
     "start_time": "2021-07-21T00:24:37.652326Z"
    }
   },
   "outputs": [],
   "source": [
    "# Load ESM-1b model\n",
    "model, alphabet = esm.pretrained.esm1b_t33_650M_UR50S()\n",
    "batch_converter = alphabet.get_batch_converter()\n",
    "model = model.to(\"cuda\")"
   ]
  },
  {
   "cell_type": "code",
   "execution_count": 5,
   "metadata": {
    "ExecuteTime": {
     "end_time": "2021-07-21T00:25:02.145261Z",
     "start_time": "2021-07-21T00:25:02.133716Z"
    }
   },
   "outputs": [],
   "source": [
    "def getSequenceRepresentation(Data):\n",
    "    batch_labels, batch_strs, batch_tokens = batch_converter(Data)\n",
    "    batch_tokens = batch_tokens.to(\"cuda\")\n",
    "    # Extract per-residue representations (on CPU)\n",
    "    with torch.no_grad():\n",
    "        results = model(batch_tokens, repr_layers=[33], return_contacts=True)\n",
    "    token_representations = results[\"representations\"][33].cpu()\n",
    "    del results, batch_labels, batch_strs, batch_tokens\n",
    "    # Generate per-sequence representations via averaging\n",
    "    # NOTE: token 0 is always a beginning-of-sequence token, so the first residue is token 1.\n",
    "    sequence_representations = []\n",
    "    for i, (_, seq) in enumerate(Data):\n",
    "        sequence_representations.append(token_representations[i, 1 : len(seq) + 1].cpu().numpy())\n",
    "    del token_representations\n",
    "    return sequence_representations#, results"
   ]
  },
  {
   "cell_type": "code",
   "execution_count": 6,
   "metadata": {
    "ExecuteTime": {
     "end_time": "2021-07-21T00:26:15.757049Z",
     "start_time": "2021-07-21T00:26:12.489668Z"
    }
   },
   "outputs": [],
   "source": [
    "df = pd.read_csv(\"/ssdata/clinvar/clinvar/parseClinvarWithVariant.csv\")"
   ]
  },
  {
   "cell_type": "code",
   "execution_count": 8,
   "metadata": {
    "ExecuteTime": {
     "end_time": "2021-07-21T00:26:24.399217Z",
     "start_time": "2021-07-21T00:26:24.362316Z"
    }
   },
   "outputs": [
    {
     "data": {
      "text/html": [
       "<div>\n",
       "<style scoped>\n",
       "    .dataframe tbody tr th:only-of-type {\n",
       "        vertical-align: middle;\n",
       "    }\n",
       "\n",
       "    .dataframe tbody tr th {\n",
       "        vertical-align: top;\n",
       "    }\n",
       "\n",
       "    .dataframe thead th {\n",
       "        text-align: right;\n",
       "    }\n",
       "</style>\n",
       "<table border=\"1\" class=\"dataframe\">\n",
       "  <thead>\n",
       "    <tr style=\"text-align: right;\">\n",
       "      <th></th>\n",
       "      <th>Unnamed: 0</th>\n",
       "      <th>GeneID_x</th>\n",
       "      <th>variant</th>\n",
       "      <th>NM</th>\n",
       "      <th>label</th>\n",
       "      <th>idx</th>\n",
       "      <th>#AlleleID</th>\n",
       "      <th>Type</th>\n",
       "      <th>Name</th>\n",
       "      <th>GeneID_y</th>\n",
       "      <th>...</th>\n",
       "      <th>Guidelines</th>\n",
       "      <th>TestedInGTR</th>\n",
       "      <th>OtherIDs</th>\n",
       "      <th>SubmitterCategories</th>\n",
       "      <th>VariationID</th>\n",
       "      <th>PositionVCF</th>\n",
       "      <th>ReferenceAlleleVCF</th>\n",
       "      <th>AlternateAlleleVCF</th>\n",
       "      <th>nmid</th>\n",
       "      <th>variantSeq</th>\n",
       "    </tr>\n",
       "  </thead>\n",
       "  <tbody>\n",
       "    <tr>\n",
       "      <th>0</th>\n",
       "      <td>0</td>\n",
       "      <td>57539</td>\n",
       "      <td>Ala864Thr</td>\n",
       "      <td>NM_020779.4</td>\n",
       "      <td>True</td>\n",
       "      <td>0</td>\n",
       "      <td>15062</td>\n",
       "      <td>single nucleotide variant</td>\n",
       "      <td>NM_020779.4(WDR35):c.2590G&gt;A (p.Ala864Thr)</td>\n",
       "      <td>57539</td>\n",
       "      <td>...</td>\n",
       "      <td>-</td>\n",
       "      <td>N</td>\n",
       "      <td>ClinGen:CA339782,UniProtKB:Q9P2L0#VAR_064582,O...</td>\n",
       "      <td>3</td>\n",
       "      <td>23</td>\n",
       "      <td>20133230</td>\n",
       "      <td>C</td>\n",
       "      <td>T</td>\n",
       "      <td>NM_020779.4</td>\n",
       "      <td>MNCPVLSLGSGFLFQVIEMLIFAYFASISLTESRGLFPRLENVGAF...</td>\n",
       "    </tr>\n",
       "    <tr>\n",
       "      <th>1</th>\n",
       "      <td>2</td>\n",
       "      <td>112817</td>\n",
       "      <td>Gly287Val</td>\n",
       "      <td>NM_138413.4</td>\n",
       "      <td>True</td>\n",
       "      <td>1</td>\n",
       "      <td>15069</td>\n",
       "      <td>single nucleotide variant</td>\n",
       "      <td>NM_138413.4(HOGA1):c.860G&gt;T (p.Gly287Val)</td>\n",
       "      <td>112817</td>\n",
       "      <td>...</td>\n",
       "      <td>-</td>\n",
       "      <td>N</td>\n",
       "      <td>ClinGen:CA113813,UniProtKB:Q86XE5#VAR_064036,O...</td>\n",
       "      <td>3</td>\n",
       "      <td>30</td>\n",
       "      <td>99371292</td>\n",
       "      <td>G</td>\n",
       "      <td>T</td>\n",
       "      <td>NM_138413.4</td>\n",
       "      <td>MNCPVLSLGSGFLFQVIEMLIFAYFASISLTESRGLFPRLENVGAF...</td>\n",
       "    </tr>\n",
       "    <tr>\n",
       "      <th>2</th>\n",
       "      <td>4</td>\n",
       "      <td>112817</td>\n",
       "      <td>Arg70Pro</td>\n",
       "      <td>NM_138413.4</td>\n",
       "      <td>True</td>\n",
       "      <td>2</td>\n",
       "      <td>15072</td>\n",
       "      <td>single nucleotide variant</td>\n",
       "      <td>NM_138413.4(HOGA1):c.209G&gt;C (p.Arg70Pro)</td>\n",
       "      <td>112817</td>\n",
       "      <td>...</td>\n",
       "      <td>-</td>\n",
       "      <td>N</td>\n",
       "      <td>ClinGen:CA113816,OMIM:613597.0005</td>\n",
       "      <td>3</td>\n",
       "      <td>33</td>\n",
       "      <td>99344669</td>\n",
       "      <td>G</td>\n",
       "      <td>C</td>\n",
       "      <td>NM_138413.4</td>\n",
       "      <td>MNCPVLSLGSGFLFQVIEMLIFAYFASISLTESRGLFPRLENVGAF...</td>\n",
       "    </tr>\n",
       "    <tr>\n",
       "      <th>3</th>\n",
       "      <td>6</td>\n",
       "      <td>112817</td>\n",
       "      <td>Cys257Gly</td>\n",
       "      <td>NM_138413.4</td>\n",
       "      <td>True</td>\n",
       "      <td>3</td>\n",
       "      <td>15073</td>\n",
       "      <td>single nucleotide variant</td>\n",
       "      <td>NM_138413.4(HOGA1):c.769T&gt;G (p.Cys257Gly)</td>\n",
       "      <td>112817</td>\n",
       "      <td>...</td>\n",
       "      <td>-</td>\n",
       "      <td>N</td>\n",
       "      <td>ClinGen:CA113818,UniProtKB:Q86XE5#VAR_064035,O...</td>\n",
       "      <td>3</td>\n",
       "      <td>34</td>\n",
       "      <td>99361682</td>\n",
       "      <td>T</td>\n",
       "      <td>G</td>\n",
       "      <td>NM_138413.4</td>\n",
       "      <td>MNCPVLSLGSGFLFQVIEMLIFAYFASISLTESRGLFPRLENVGAF...</td>\n",
       "    </tr>\n",
       "    <tr>\n",
       "      <th>4</th>\n",
       "      <td>8</td>\n",
       "      <td>22995</td>\n",
       "      <td>Gln265Pro</td>\n",
       "      <td>NM_001194998.2</td>\n",
       "      <td>True</td>\n",
       "      <td>4</td>\n",
       "      <td>15094</td>\n",
       "      <td>single nucleotide variant</td>\n",
       "      <td>NM_001194998.2(CEP152):c.794A&gt;C (p.Gln265Pro)</td>\n",
       "      <td>22995</td>\n",
       "      <td>...</td>\n",
       "      <td>-</td>\n",
       "      <td>N</td>\n",
       "      <td>ClinGen:CA210936,UniProtKB:O94986#VAR_063813,O...</td>\n",
       "      <td>3</td>\n",
       "      <td>55</td>\n",
       "      <td>49085556</td>\n",
       "      <td>T</td>\n",
       "      <td>G</td>\n",
       "      <td>NM_001194998.2</td>\n",
       "      <td>MNCPVLSLGSGFLFQVIEMLIFAYFASISLTESRGLFPRLENVGAF...</td>\n",
       "    </tr>\n",
       "  </tbody>\n",
       "</table>\n",
       "<p>5 rows × 42 columns</p>\n",
       "</div>"
      ],
      "text/plain": [
       "   Unnamed: 0  GeneID_x    variant              NM  label  idx  #AlleleID  \\\n",
       "0           0     57539  Ala864Thr     NM_020779.4   True    0      15062   \n",
       "1           2    112817  Gly287Val     NM_138413.4   True    1      15069   \n",
       "2           4    112817   Arg70Pro     NM_138413.4   True    2      15072   \n",
       "3           6    112817  Cys257Gly     NM_138413.4   True    3      15073   \n",
       "4           8     22995  Gln265Pro  NM_001194998.2   True    4      15094   \n",
       "\n",
       "                        Type                                           Name  \\\n",
       "0  single nucleotide variant     NM_020779.4(WDR35):c.2590G>A (p.Ala864Thr)   \n",
       "1  single nucleotide variant      NM_138413.4(HOGA1):c.860G>T (p.Gly287Val)   \n",
       "2  single nucleotide variant       NM_138413.4(HOGA1):c.209G>C (p.Arg70Pro)   \n",
       "3  single nucleotide variant      NM_138413.4(HOGA1):c.769T>G (p.Cys257Gly)   \n",
       "4  single nucleotide variant  NM_001194998.2(CEP152):c.794A>C (p.Gln265Pro)   \n",
       "\n",
       "   GeneID_y  ... Guidelines TestedInGTR  \\\n",
       "0     57539  ...          -           N   \n",
       "1    112817  ...          -           N   \n",
       "2    112817  ...          -           N   \n",
       "3    112817  ...          -           N   \n",
       "4     22995  ...          -           N   \n",
       "\n",
       "                                            OtherIDs  SubmitterCategories  \\\n",
       "0  ClinGen:CA339782,UniProtKB:Q9P2L0#VAR_064582,O...                    3   \n",
       "1  ClinGen:CA113813,UniProtKB:Q86XE5#VAR_064036,O...                    3   \n",
       "2                  ClinGen:CA113816,OMIM:613597.0005                    3   \n",
       "3  ClinGen:CA113818,UniProtKB:Q86XE5#VAR_064035,O...                    3   \n",
       "4  ClinGen:CA210936,UniProtKB:O94986#VAR_063813,O...                    3   \n",
       "\n",
       "  VariationID  PositionVCF ReferenceAlleleVCF AlternateAlleleVCF  \\\n",
       "0          23     20133230                  C                  T   \n",
       "1          30     99371292                  G                  T   \n",
       "2          33     99344669                  G                  C   \n",
       "3          34     99361682                  T                  G   \n",
       "4          55     49085556                  T                  G   \n",
       "\n",
       "             nmid                                         variantSeq  \n",
       "0     NM_020779.4  MNCPVLSLGSGFLFQVIEMLIFAYFASISLTESRGLFPRLENVGAF...  \n",
       "1     NM_138413.4  MNCPVLSLGSGFLFQVIEMLIFAYFASISLTESRGLFPRLENVGAF...  \n",
       "2     NM_138413.4  MNCPVLSLGSGFLFQVIEMLIFAYFASISLTESRGLFPRLENVGAF...  \n",
       "3     NM_138413.4  MNCPVLSLGSGFLFQVIEMLIFAYFASISLTESRGLFPRLENVGAF...  \n",
       "4  NM_001194998.2  MNCPVLSLGSGFLFQVIEMLIFAYFASISLTESRGLFPRLENVGAF...  \n",
       "\n",
       "[5 rows x 42 columns]"
      ]
     },
     "execution_count": 8,
     "metadata": {},
     "output_type": "execute_result"
    }
   ],
   "source": [
    "df.head()"
   ]
  },
  {
   "cell_type": "code",
   "execution_count": 12,
   "metadata": {
    "ExecuteTime": {
     "end_time": "2021-07-21T00:29:40.980500Z",
     "start_time": "2021-07-21T00:29:40.974238Z"
    }
   },
   "outputs": [],
   "source": [
    "def prepSeq(s,loc,windowSize=510):\n",
    "    sPrime = s[max(0, loc-windowSize) : min(len(s), loc + windowSize)]\n",
    "    return sPrime"
   ]
  },
  {
   "cell_type": "code",
   "execution_count": 14,
   "metadata": {
    "ExecuteTime": {
     "end_time": "2021-07-21T00:30:44.737020Z",
     "start_time": "2021-07-21T00:30:44.259248Z"
    }
   },
   "outputs": [
    {
     "data": {
      "application/vnd.jupyter.widget-view+json": {
       "model_id": "6553177f2eb84fb890323f3e02eb6cc8",
       "version_major": 2,
       "version_minor": 0
      },
      "text/plain": [
       "HBox(children=(FloatProgress(value=1.0, bar_style='info', max=1.0), HTML(value='')))"
      ]
     },
     "metadata": {},
     "output_type": "display_data"
    },
    {
     "name": "stdout",
     "output_type": "stream",
     "text": [
      "\n"
     ]
    },
    {
     "ename": "RuntimeError",
     "evalue": "CUDA out of memory. Tried to allocate 2.57 GiB (GPU 0; 10.76 GiB total capacity; 5.10 GiB already allocated; 1.59 GiB free; 5.16 GiB reserved in total by PyTorch)",
     "output_type": "error",
     "traceback": [
      "\u001b[0;31m---------------------------------------------------------------------------\u001b[0m",
      "\u001b[0;31mRuntimeError\u001b[0m                              Traceback (most recent call last)",
      "\u001b[0;32m<ipython-input-14-23add0d93dd5>\u001b[0m in \u001b[0;36m<module>\u001b[0;34m\u001b[0m\n\u001b[1;32m      2\u001b[0m \u001b[0mbatchSize\u001b[0m\u001b[0;34m=\u001b[0m\u001b[0;36m1\u001b[0m\u001b[0;34m\u001b[0m\u001b[0;34m\u001b[0m\u001b[0m\n\u001b[1;32m      3\u001b[0m \u001b[0;32mfor\u001b[0m \u001b[0midx\u001b[0m\u001b[0;34m,\u001b[0m\u001b[0mrow\u001b[0m \u001b[0;32min\u001b[0m \u001b[0mtqdm\u001b[0m\u001b[0;34m(\u001b[0m\u001b[0mdf\u001b[0m\u001b[0;34m.\u001b[0m\u001b[0miterrows\u001b[0m\u001b[0;34m(\u001b[0m\u001b[0;34m)\u001b[0m\u001b[0;34m)\u001b[0m\u001b[0;34m:\u001b[0m\u001b[0;34m\u001b[0m\u001b[0;34m\u001b[0m\u001b[0m\n\u001b[0;32m----> 4\u001b[0;31m     \u001b[0mrep\u001b[0m \u001b[0;34m=\u001b[0m \u001b[0mgetSequenceRepresentation\u001b[0m\u001b[0;34m(\u001b[0m\u001b[0;34m[\u001b[0m\u001b[0;34m(\u001b[0m\u001b[0midx\u001b[0m\u001b[0;34m,\u001b[0m\u001b[0mprepSeq\u001b[0m\u001b[0;34m(\u001b[0m\u001b[0mrow\u001b[0m\u001b[0;34m.\u001b[0m\u001b[0mvariantSeq\u001b[0m\u001b[0;34m,\u001b[0m \u001b[0mint\u001b[0m\u001b[0;34m(\u001b[0m\u001b[0mrow\u001b[0m\u001b[0;34m.\u001b[0m\u001b[0mvariant\u001b[0m\u001b[0;34m[\u001b[0m\u001b[0;36m3\u001b[0m\u001b[0;34m:\u001b[0m\u001b[0;34m-\u001b[0m\u001b[0;36m3\u001b[0m\u001b[0;34m]\u001b[0m\u001b[0;34m)\u001b[0m\u001b[0;34m-\u001b[0m\u001b[0;36m1\u001b[0m\u001b[0;34m)\u001b[0m\u001b[0;34m)\u001b[0m\u001b[0;34m]\u001b[0m\u001b[0;34m)\u001b[0m\u001b[0;34m\u001b[0m\u001b[0;34m\u001b[0m\u001b[0m\n\u001b[0m\u001b[1;32m      5\u001b[0m     \u001b[0mrepresentations\u001b[0m\u001b[0;34m.\u001b[0m\u001b[0mappend\u001b[0m\u001b[0;34m(\u001b[0m\u001b[0mrep\u001b[0m\u001b[0;34m)\u001b[0m\u001b[0;34m\u001b[0m\u001b[0;34m\u001b[0m\u001b[0m\n",
      "\u001b[0;32m<ipython-input-5-feb47fa0dc9f>\u001b[0m in \u001b[0;36mgetSequenceRepresentation\u001b[0;34m(Data)\u001b[0m\n\u001b[1;32m      4\u001b[0m     \u001b[0;31m# Extract per-residue representations (on CPU)\u001b[0m\u001b[0;34m\u001b[0m\u001b[0;34m\u001b[0m\u001b[0;34m\u001b[0m\u001b[0m\n\u001b[1;32m      5\u001b[0m     \u001b[0;32mwith\u001b[0m \u001b[0mtorch\u001b[0m\u001b[0;34m.\u001b[0m\u001b[0mno_grad\u001b[0m\u001b[0;34m(\u001b[0m\u001b[0;34m)\u001b[0m\u001b[0;34m:\u001b[0m\u001b[0;34m\u001b[0m\u001b[0;34m\u001b[0m\u001b[0m\n\u001b[0;32m----> 6\u001b[0;31m         \u001b[0mresults\u001b[0m \u001b[0;34m=\u001b[0m \u001b[0mmodel\u001b[0m\u001b[0;34m(\u001b[0m\u001b[0mbatch_tokens\u001b[0m\u001b[0;34m,\u001b[0m \u001b[0mrepr_layers\u001b[0m\u001b[0;34m=\u001b[0m\u001b[0;34m[\u001b[0m\u001b[0;36m33\u001b[0m\u001b[0;34m]\u001b[0m\u001b[0;34m,\u001b[0m \u001b[0mreturn_contacts\u001b[0m\u001b[0;34m=\u001b[0m\u001b[0;32mTrue\u001b[0m\u001b[0;34m)\u001b[0m\u001b[0;34m\u001b[0m\u001b[0;34m\u001b[0m\u001b[0m\n\u001b[0m\u001b[1;32m      7\u001b[0m     \u001b[0mtoken_representations\u001b[0m \u001b[0;34m=\u001b[0m \u001b[0mresults\u001b[0m\u001b[0;34m[\u001b[0m\u001b[0;34m\"representations\"\u001b[0m\u001b[0;34m]\u001b[0m\u001b[0;34m[\u001b[0m\u001b[0;36m33\u001b[0m\u001b[0;34m]\u001b[0m\u001b[0;34m.\u001b[0m\u001b[0mcpu\u001b[0m\u001b[0;34m(\u001b[0m\u001b[0;34m)\u001b[0m\u001b[0;34m\u001b[0m\u001b[0;34m\u001b[0m\u001b[0m\n\u001b[1;32m      8\u001b[0m     \u001b[0;32mdel\u001b[0m \u001b[0mresults\u001b[0m\u001b[0;34m,\u001b[0m \u001b[0mbatch_labels\u001b[0m\u001b[0;34m,\u001b[0m \u001b[0mbatch_strs\u001b[0m\u001b[0;34m,\u001b[0m \u001b[0mbatch_tokens\u001b[0m\u001b[0;34m\u001b[0m\u001b[0;34m\u001b[0m\u001b[0m\n",
      "\u001b[0;32m~/anaconda3/envs/torch/lib/python3.7/site-packages/torch/nn/modules/module.py\u001b[0m in \u001b[0;36m__call__\u001b[0;34m(self, *input, **kwargs)\u001b[0m\n\u001b[1;32m    548\u001b[0m             \u001b[0mresult\u001b[0m \u001b[0;34m=\u001b[0m \u001b[0mself\u001b[0m\u001b[0;34m.\u001b[0m\u001b[0m_slow_forward\u001b[0m\u001b[0;34m(\u001b[0m\u001b[0;34m*\u001b[0m\u001b[0minput\u001b[0m\u001b[0;34m,\u001b[0m \u001b[0;34m**\u001b[0m\u001b[0mkwargs\u001b[0m\u001b[0;34m)\u001b[0m\u001b[0;34m\u001b[0m\u001b[0;34m\u001b[0m\u001b[0m\n\u001b[1;32m    549\u001b[0m         \u001b[0;32melse\u001b[0m\u001b[0;34m:\u001b[0m\u001b[0;34m\u001b[0m\u001b[0;34m\u001b[0m\u001b[0m\n\u001b[0;32m--> 550\u001b[0;31m             \u001b[0mresult\u001b[0m \u001b[0;34m=\u001b[0m \u001b[0mself\u001b[0m\u001b[0;34m.\u001b[0m\u001b[0mforward\u001b[0m\u001b[0;34m(\u001b[0m\u001b[0;34m*\u001b[0m\u001b[0minput\u001b[0m\u001b[0;34m,\u001b[0m \u001b[0;34m**\u001b[0m\u001b[0mkwargs\u001b[0m\u001b[0;34m)\u001b[0m\u001b[0;34m\u001b[0m\u001b[0;34m\u001b[0m\u001b[0m\n\u001b[0m\u001b[1;32m    551\u001b[0m         \u001b[0;32mfor\u001b[0m \u001b[0mhook\u001b[0m \u001b[0;32min\u001b[0m \u001b[0mself\u001b[0m\u001b[0;34m.\u001b[0m\u001b[0m_forward_hooks\u001b[0m\u001b[0;34m.\u001b[0m\u001b[0mvalues\u001b[0m\u001b[0;34m(\u001b[0m\u001b[0;34m)\u001b[0m\u001b[0;34m:\u001b[0m\u001b[0;34m\u001b[0m\u001b[0;34m\u001b[0m\u001b[0m\n\u001b[1;32m    552\u001b[0m             \u001b[0mhook_result\u001b[0m \u001b[0;34m=\u001b[0m \u001b[0mhook\u001b[0m\u001b[0;34m(\u001b[0m\u001b[0mself\u001b[0m\u001b[0;34m,\u001b[0m \u001b[0minput\u001b[0m\u001b[0;34m,\u001b[0m \u001b[0mresult\u001b[0m\u001b[0;34m)\u001b[0m\u001b[0;34m\u001b[0m\u001b[0;34m\u001b[0m\u001b[0m\n",
      "\u001b[0;32m~/anaconda3/envs/torch/lib/python3.7/site-packages/esm/model.py\u001b[0m in \u001b[0;36mforward\u001b[0;34m(self, tokens, repr_layers, need_head_weights, return_contacts)\u001b[0m\n\u001b[1;32m    175\u001b[0m         \u001b[0;32mif\u001b[0m \u001b[0mneed_head_weights\u001b[0m\u001b[0;34m:\u001b[0m\u001b[0;34m\u001b[0m\u001b[0;34m\u001b[0m\u001b[0m\n\u001b[1;32m    176\u001b[0m             \u001b[0;31m# attentions: B x L x H x T x T\u001b[0m\u001b[0;34m\u001b[0m\u001b[0;34m\u001b[0m\u001b[0;34m\u001b[0m\u001b[0m\n\u001b[0;32m--> 177\u001b[0;31m             \u001b[0mattentions\u001b[0m \u001b[0;34m=\u001b[0m \u001b[0mtorch\u001b[0m\u001b[0;34m.\u001b[0m\u001b[0mstack\u001b[0m\u001b[0;34m(\u001b[0m\u001b[0mattn_weights\u001b[0m\u001b[0;34m,\u001b[0m \u001b[0;36m1\u001b[0m\u001b[0;34m)\u001b[0m\u001b[0;34m\u001b[0m\u001b[0;34m\u001b[0m\u001b[0m\n\u001b[0m\u001b[1;32m    178\u001b[0m             \u001b[0;32mif\u001b[0m \u001b[0mself\u001b[0m\u001b[0;34m.\u001b[0m\u001b[0mmodel_version\u001b[0m \u001b[0;34m==\u001b[0m \u001b[0;34m\"ESM-1\"\u001b[0m\u001b[0;34m:\u001b[0m\u001b[0;34m\u001b[0m\u001b[0;34m\u001b[0m\u001b[0m\n\u001b[1;32m    179\u001b[0m                 \u001b[0;31m# ESM-1 models have an additional null-token for attention, which we remove\u001b[0m\u001b[0;34m\u001b[0m\u001b[0;34m\u001b[0m\u001b[0;34m\u001b[0m\u001b[0m\n",
      "\u001b[0;31mRuntimeError\u001b[0m: CUDA out of memory. Tried to allocate 2.57 GiB (GPU 0; 10.76 GiB total capacity; 5.10 GiB already allocated; 1.59 GiB free; 5.16 GiB reserved in total by PyTorch)"
     ]
    }
   ],
   "source": [
    "representations = []\n",
    "batchSize=1\n",
    "for idx,row in tqdm(df.iterrows()):\n",
    "    rep = getSequenceRepresentation([(idx,prepSeq(row.variantSeq, int(row.variant[3:-3])-1))])\n",
    "    representations.append(rep)"
   ]
  },
  {
   "cell_type": "code",
   "execution_count": null,
   "metadata": {},
   "outputs": [],
   "source": []
  }
 ],
 "metadata": {
  "kernelspec": {
   "display_name": "torch",
   "language": "python",
   "name": "torch"
  },
  "language_info": {
   "codemirror_mode": {
    "name": "ipython",
    "version": 3
   },
   "file_extension": ".py",
   "mimetype": "text/x-python",
   "name": "python",
   "nbconvert_exporter": "python",
   "pygments_lexer": "ipython3",
   "version": "3.7.7"
  }
 },
 "nbformat": 4,
 "nbformat_minor": 4
}
